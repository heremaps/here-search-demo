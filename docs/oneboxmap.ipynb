{
 "cells": [
  {
   "cell_type": "markdown",
   "id": "90fe7612-850e-4781-a7d1-f9a8d25a770d",
   "metadata": {
    "slideshow": {
     "slide_type": "slide"
    },
    "tags": []
   },
   "source": [
    "# OneBoxMap"
   ]
  },
  {
   "cell_type": "code",
   "execution_count": null,
   "id": "e647b05d",
   "metadata": {
    "slideshow": {
     "slide_type": "-"
    },
    "tags": []
   },
   "outputs": [],
   "source": [
    "from here_search.user import Permissive\n",
    "from here_search.widgets import OneBoxMap\n",
    "\n",
    "OneBoxMap(Permissive()).run()"
   ]
  },
  {
   "cell_type": "markdown",
   "id": "eab389ac",
   "metadata": {
    "slideshow": {
     "slide_type": "fragment"
    }
   },
   "source": [
    "\n",
    "\n",
    "\n",
    "\n",
    "\n",
    "\n"
   ]
  },
  {
   "cell_type": "markdown",
   "id": "a312886c-007e-40e8-90a7-a215e1708ff5",
   "metadata": {
    "slideshow": {
     "slide_type": "slide"
    },
    "tags": []
   },
   "source": [
    "## API credentials\n",
    "\n",
    "`here_search.api.API` is a thin wrapper around the HERE search & geocoding API. API objects needs an `api_key` (prompted if not provided as argument or `API_KEY` environment variable.\n",
    "That object also hosts a non-persistent LRU cache.\n",
    "\n",
    "## User profile\n",
    "\n",
    "`here_search.user.UserProfile` objects host user preferences: opt-in/out decisions, preferred languages, political views, ...\n",
    "\n",
    "This object has two mandatory opt-in/out flags: \n",
    "- `use_positioning`: When set to `True`, the default position, and user language is derived from the local IP. Berlin and German is taken otherwise.\n",
    "- `share_experience`: When set to `True`, the user activity is shared with the Search backend (user id, session ids and clicks).\n",
    "\n",
    "`Permissive` is a derived class with `share_experience=True` and `use_positioning=True`. \n",
    "\n",
    "## Application designs\n",
    "\n",
    "`Design.MapJSON` allows to visualize results in a list, on a map and as a JSON."
   ]
  },
  {
   "cell_type": "code",
   "execution_count": null,
   "id": "a59dacb1-da0a-40ba-a8d0-736738c62333",
   "metadata": {
    "slideshow": {
     "slide_type": "-"
    },
    "tags": []
   },
   "outputs": [],
   "source": [
    "from here_search.user import UserProfile\n",
    "from here_search.widgets import OneBoxMap\n",
    "from here_search.widgets.design import MapJSON\n",
    "\n",
    "user_profile = UserProfile(name=\"Emmanuel\",\n",
    "                           languages = {\"default\": \"en\", \"DEU\": \"de\", \"AUT\": \"de\", \"FRA\": \"fr\"},\n",
    "                           use_positioning=True, \n",
    "                           share_experience=True)\n",
    "\n",
    "app = OneBoxMap(\n",
    "    user_profile=user_profile,\n",
    "    design=MapJSON)\n",
    "\n",
    "app.run()"
   ]
  },
  {
   "cell_type": "code",
   "execution_count": null,
   "id": "6e5e45f6-6c14-409a-85b3-4ac11c10f52d",
   "metadata": {},
   "outputs": [],
   "source": []
  }
 ],
 "metadata": {
  "celltoolbar": "Slideshow",
  "kernelspec": {
   "display_name": "demo search",
   "language": "python",
   "name": "search_notebook"
  },
  "language_info": {
   "codemirror_mode": {
    "name": "ipython",
    "version": 3
   },
   "file_extension": ".py",
   "mimetype": "text/x-python",
   "name": "python",
   "nbconvert_exporter": "python",
   "pygments_lexer": "ipython3",
   "version": "3.9.10"
  }
 },
 "nbformat": 4,
 "nbformat_minor": 5
}
