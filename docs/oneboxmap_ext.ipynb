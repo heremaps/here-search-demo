{
 "cells": [
  {
   "cell_type": "markdown",
   "id": "97296c8b-eda6-4386-a430-8a74a14e3d2b",
   "metadata": {},
   "source": [
    "## OneBoxMap specialization\n",
    "\n",
    "`OneBoxCatNearCat` class is a client-side tweak adding some _category near category_ capability.\n",
    "\n",
    "It:\n",
    "- captures queries following the format _head nearby_conjunction tail_\n",
    "- supports various languages and multiple nearby conjunction by language (\"near\", \"close to\", ...)\n",
    "- uses Autosuggest service to check if _head_ and _tail_ are both about place categories\n",
    "- Adds a category near category query suggestion button at the top of the Autosuggest suggestion list\n",
    "- Sends such category near category query to HERE Location Graph instead of Discover service"
   ]
  },
  {
   "cell_type": "code",
   "execution_count": null,
   "id": "3d4d496a-3bb1-41bd-919d-0021147b1b15",
   "metadata": {
    "tags": []
   },
   "outputs": [],
   "source": [
    "from here_search.user import permissive\n",
    "from here_search.widgets import OneBoxCatNearCat\n",
    "\n",
    "OneBoxCatNearCat(permissive).run()"
   ]
  },
  {
   "cell_type": "code",
   "execution_count": null,
   "id": "5e7be0b3-a65c-49f8-86a9-a48332e005b7",
   "metadata": {},
   "outputs": [],
   "source": []
  }
 ],
 "metadata": {
  "celltoolbar": "Slideshow",
  "kernelspec": {
   "display_name": "demo search",
   "language": "python",
   "name": "search_notebook"
  },
  "language_info": {
   "codemirror_mode": {
    "name": "ipython",
    "version": 3
   },
   "file_extension": ".py",
   "mimetype": "text/x-python",
   "name": "python",
   "nbconvert_exporter": "python",
   "pygments_lexer": "ipython3",
   "version": "3.9.10"
  }
 },
 "nbformat": 4,
 "nbformat_minor": 5
}
