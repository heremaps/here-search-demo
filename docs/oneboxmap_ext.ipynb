{
 "cells": [
  {
   "cell_type": "markdown",
   "id": "97296c8b-eda6-4386-a430-8a74a14e3d2b",
   "metadata": {
    "tags": []
   },
   "source": [
    "## OneBoxMap specialization\n",
    "\n",
    "`OneBoxCatNearCat` class is a client-side search results customization adding some _category near category_ capability.\n",
    "\n",
    "What it does:\n",
    "\n",
    "- capture queries following the format _head nearby_conjunction tail_\n",
    "- support various languages and multiple nearby conjunction by language (\"near\", \"close to\", ...)\n",
    "- use Autosuggest service to check if _head_ and _tail_ are both about place categories\n",
    "- add a category near category query suggestion button at the top of the Autosuggest suggestion list\n",
    "- send such category near category query to HERE Location Graph instead of Discover service"
   ]
  },
  {
   "cell_type": "code",
   "execution_count": null,
   "id": "3d4d496a-3bb1-41bd-919d-0021147b1b15",
   "metadata": {
    "tags": []
   },
   "outputs": [],
   "source": [
    "from here_search.user import UserProfile\n",
    "from here_search.widgets.extension import OneBoxCatNearCat\n",
    "\n",
    "bmw = UserProfile(name=\"BMW\",\n",
    "                  languages = {\"USA\": \"en\", \"DEU\": \"de\", \"AUT\": \"de\", \"default\": \"de\"},\n",
    "                  use_positioning=True, \n",
    "                  share_experience=True)\n",
    "\n",
    "OneBoxCatNearCat(user_profile=bmw,\n",
    "                 lg_text_submission=False, \n",
    "                 lg_children_details=True).run()"
   ]
  },
  {
   "cell_type": "code",
   "execution_count": null,
   "id": "5e7be0b3-a65c-49f8-86a9-a48332e005b7",
   "metadata": {},
   "outputs": [],
   "source": [
    "from here_search.widgets.design import MapJSON\n",
    "\n",
    "OneBoxCatNearCat(user_profile=bmw,\n",
    "                 design=MapJSON,\n",
    "                 lg_pair_distance = 200, \n",
    "                 lg_radius = 10000, \n",
    "                 distancelg_text_submission=True,\n",
    "                 lg_children_details=True).run()"
   ]
  },
  {
   "cell_type": "code",
   "execution_count": null,
   "id": "a63697fd-dea6-426c-a723-d53813b24954",
   "metadata": {},
   "outputs": [],
   "source": []
  }
 ],
 "metadata": {
  "celltoolbar": "Slideshow",
  "kernelspec": {
   "display_name": "demo search",
   "language": "python",
   "name": "search_notebook"
  },
  "language_info": {
   "codemirror_mode": {
    "name": "ipython",
    "version": 3
   },
   "file_extension": ".py",
   "mimetype": "text/x-python",
   "name": "python",
   "nbconvert_exporter": "python",
   "pygments_lexer": "ipython3",
   "version": "3.9.10"
  }
 },
 "nbformat": 4,
 "nbformat_minor": 5
}
