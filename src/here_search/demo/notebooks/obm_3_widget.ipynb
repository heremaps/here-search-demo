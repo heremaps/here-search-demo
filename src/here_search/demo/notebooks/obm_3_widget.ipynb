{
 "cells": [
  {
   "cell_type": "code",
   "execution_count": null,
   "id": "f4878c23-f9ec-4756-b085-bdccf7d726d8",
   "metadata": {
    "tags": []
   },
   "outputs": [],
   "source": [
    "try:\n",
    "    import piplite\n",
    "    await piplite.install([\"ipywidgets==8.1.7\", \"ipyleaflet==0.20.0\", \"emfs:here_search_demo-0.12.0-py3-none-any.whl\"], keep_going=True)\n",
    "    api_key = \"<YOUR HERE API KEY>\"\n",
    "except ImportError:\n",
    "    api_key = None"
   ]
  },
  {
   "cell_type": "markdown",
   "id": "6a2488bf-1023-4b46-aed6-64abae28fd8b",
   "metadata": {
    "tags": []
   },
   "source": [
    "# Input widgets\n",
    "\n",
    "To interact with the [HERE search & geocoding API](https://developer.here.com/documentation/geocoding-search-api/api-reference-swagger.html) services `here_search` provides a few widgets based on [`ipywidgets`](https://ipywidgets.readthedocs.io/en/stable/index.html):\n",
    "- `SubmittableTextBox` and `TermsButtons` to formulate textual search intents for Autosuggest and Discover\n",
    "- `PlaceTaxonomyButtons` to formulate custom place classification shortcuts for Browse\n",
    "- `OneBoxSimple` to associate search intents to search requests\n",
    "\n",
    "Those widgets are using a queue to exchange objects of `SearchIntent` class derivatives.\n",
    "\n",
    "### SubmittableTextBox\n",
    "\n",
    "`SubmittableTextBox` is a special `Text` widget supporting key strokes events and text submissions.<br/>\n",
    "It uses a queue to post `SearchIntent` objects, either `TransientTextIntent` for each keystroke or `FornulatedTextIntent` when the transient text is submitted. Search intent is materialized in these objects through their `materialization` attribute, set to a string for these two later classes.\n",
    "\n",
    "In the snippet below, key strokes and text submissions are displayed in an `Output` widget."
   ]
  },
  {
   "cell_type": "code",
   "execution_count": null,
   "id": "7ac7b6c6-70c7-458b-ac16-7ad7f5551321",
   "metadata": {},
   "outputs": [],
   "source": [
    "from here_search.demo.widgets.input import SubmittableTextBox\n",
    "from here_search.demo.widgets.util import Output\n",
    "from here_search.demo.entity.intent import FormulatedTextIntent\n",
    "from asyncio import ensure_future, Queue\n",
    "\n",
    "box = SubmittableTextBox(Queue())\n",
    "out_keys, out_text = Output(height=30), Output(height=30)\n",
    "\n",
    "async def print_text():\n",
    "    while True:\n",
    "        intent = await box.queue.get()\n",
    "        out = out_text if isinstance(intent, FormulatedTextIntent) else out_keys\n",
    "        with out:\n",
    "            out.replace(intent.materialization)\n",
    "\n",
    "t1 = ensure_future(print_text())\n",
    "display(box, out_keys, out_text)"
   ]
  },
  {
   "cell_type": "markdown",
   "id": "1a364381-4492-4e6a-9a81-432f607ebbb5",
   "metadata": {},
   "source": [
    "### TermsButtons\n",
    "\n",
    "`TermsButtons` objects are taking a `SubmittableTextBox` instance to feed it with predefined values when the buttons are selected.<br/>\n",
    "Per default, the complete form value is overwritten by the button text. \n",
    "\n",
    "The constructor `index` parameter allows to specify wich token is overwritten:"
   ]
  },
  {
   "cell_type": "code",
   "execution_count": null,
   "id": "80d1d992-3797-4a73-a6f7-40f7cac36b56",
   "metadata": {},
   "outputs": [],
   "source": [
    "from here_search.demo.widgets.input import TermsButtons\n",
    "\n",
    "box2 = SubmittableTextBox(Queue())\n",
    "out_keys2 = Output(height=30)\n",
    "\n",
    "async def print_text2():\n",
    "    while True:\n",
    "        intent = await box2.queue.get()\n",
    "        with out_keys2:\n",
    "            out_keys2.replace(intent.materialization)\n",
    "            \n",
    "terms = TermsButtons(box2, \n",
    "                     values=[\"text 1\", \"text 2\"], \n",
    "                     index=-1)\n",
    "\n",
    "t2 = ensure_future(print_text2())\n",
    "display(box2, terms, out_keys2)"
   ]
  },
  {
   "cell_type": "markdown",
   "id": "f016d82b-c58c-4d8b-914c-f17d590cae94",
   "metadata": {
    "slideshow": {
     "slide_type": "slide"
    },
    "tags": []
   },
   "source": [
    "### PlaceTaxonomyButtons\n",
    "\n",
    "`PlaceTaxonomyButtons` is a widget associating a list of buttons to a place classification.<br/>\n",
    "It uses a queue to post a `PlaceTaxonomyIntent` object materialized with the place taxonomy item when a button is selected.\n",
    "\n",
    "The example below uses the `PlaceTaxonomyExample` object. Each buttons selection displays the related taxonomy item in an `Output` widget.\n",
    "\n",
    "(fontawesome 5.12.0 [download link](https://use.fontawesome.com/releases/v5.12.0/fontawesome-free-5.12.0-web.zip))"
   ]
  },
  {
   "cell_type": "code",
   "execution_count": null,
   "id": "c90ed002-0d96-4215-838e-f6a74a2e6972",
   "metadata": {},
   "outputs": [],
   "source": [
    "from here_search.demo.entity.place import PlaceTaxonomyExample\n",
    "from here_search.demo.widgets.input import PlaceTaxonomyButtons\n",
    "\n",
    "buttons = PlaceTaxonomyButtons(Queue(), PlaceTaxonomyExample.taxonomy, PlaceTaxonomyExample.icons)\n",
    "out_onto = Output(height=30)\n",
    "\n",
    "async def print_taxonomy():\n",
    "    while True:\n",
    "        with out_onto:\n",
    "            intent = await buttons.queue.get()\n",
    "            out_onto.replace(str(intent.materialization))\n",
    "            \n",
    "t4 = ensure_future(print_taxonomy())\n",
    "display(buttons, out_onto)"
   ]
  },
  {
   "cell_type": "markdown",
   "id": "f94f4ffe-2ce2-44f4-8866-cc727c58baad",
   "metadata": {},
   "source": [
    "## ResponseMap\n",
    "\n",
    "Search end-users fire requests (text queries, or ontology shortcuts) from a particular location context, materialized in the API through the search center lat/lon. It is convenient to capture a search center thrioygh the use of a draggable map.\n",
    "\n",
    "The `ResponseMap` class uses [`ipywidgets`](https://pypi.org/project/ipywidgets) `Map` class dragging and zooming capabilities to capture the center of a HERE map and sends it to an observer function. This class expects a `position_handler` constructor parameter respecting the traitlets event handler [signature](https://ipywidgets.readthedocs.io/en/latest/examples/Widget%20Events.html#Registering-callbacks-to-trait-changes-in-the-kernel). In the snippet below, the map position is only displayed in an `Output` widget, each time the user interacts with the map:"
   ]
  },
  {
   "cell_type": "code",
   "execution_count": null,
   "id": "6d91ffe2-d72c-4e6a-9fba-e7f8c995cc28",
   "metadata": {},
   "outputs": [],
   "source": [
    "from here_search.demo.widgets.output import ResponseMap\n",
    "from here_search.demo.api import API\n",
    "\n",
    "api = API(api_key=api_key)\n",
    "out_map = Output(height=30)\n",
    "\n",
    "def position_handler(latitude, longitude):\n",
    "    with out_map:\n",
    "        out_map.replace(f'{latitude},{longitude}')\n",
    "    \n",
    "rmap = ResponseMap(api_key=api.api_key, \n",
    "                   center=(52.51604, 13.37691),\n",
    "                   layout = {'height': '200px'},\n",
    "                   position_handler=position_handler)\n",
    "\n",
    "display(rmap, out_map)"
   ]
  },
  {
   "cell_type": "markdown",
   "id": "c23f875a-2124-460b-8d1f-e6a18a7338a5",
   "metadata": {
    "slideshow": {
     "slide_type": "slide"
    },
    "tags": []
   },
   "source": [
    "## OneBoxSimple\n",
    "\n",
    "`OneBoxSimple` class brings the previously described widgets together to offer both a location aware one-box and a taxonomy search experience.<br/>\n",
    "For this, a asyncio task is continusouly waiting for search events, and dispatch them to the dedicated search request and response handlers:\n",
    "- `OneBoxSimple` hosts an instance of `API`, a `search_center` tuple attribute providing a location context and a `language` preference attribute initialized to english.\n",
    "- `TransientTextIntent` and `FormulatedTextIntent` objects materialization is sent to `API.autosuggest()` and `API.discover()` respectively.\n",
    "- `PlaceTaxonomyIntent` materialization is sent to `API.browse()`.\n",
    "- Autosuggest responses are sent to `handle_suggestion_list()`\n",
    "- Discover and Browse responses are sent `handle_result_list()`\n",
    "\n",
    "In the snippet below, `App` overwrites the response handlers to display them to a `ResponseMap` and an `Output` widget. The `search_center` attribute is bound to the map center:"
   ]
  },
  {
   "cell_type": "code",
   "execution_count": null,
   "id": "3d3329f2-a44f-46e3-b43c-68023e3b8f84",
   "metadata": {
    "scrolled": true,
    "slideshow": {
     "slide_type": "-"
    },
    "tags": []
   },
   "outputs": [],
   "source": [
    "from here_search.demo.base import OneBoxSimple\n",
    "from json import dumps\n",
    "\n",
    "queue4 = Queue()\n",
    "text_box = SubmittableTextBox(queue4)\n",
    "terms_buttons = TermsButtons(text_box, index=-1)\n",
    "taxonomy_buttons = PlaceTaxonomyButtons(queue4, PlaceTaxonomyExample.taxonomy, PlaceTaxonomyExample.icons)\n",
    "rmap = ResponseMap(api_key=api.api_key, center=(52.51604, 13.37691), queue=queue4, layout = {'height': '200px'})\n",
    "out_simple = Output(height=160)\n",
    "\n",
    "class App(OneBoxSimple):\n",
    "    \n",
    "    def __init__(self, queue):\n",
    "        super().__init__(api=api, queue=queue)\n",
    "        def handler(latitude, longitude):\n",
    "            self.search_center = latitude, longitude\n",
    "        rmap.set_position_handler(handler)\n",
    "    \n",
    "    def handle_suggestion_list(self, resp):\n",
    "        with out_simple:\n",
    "            out_simple.replace(dumps(resp.data, indent=2))\n",
    "        terms_buttons.set(resp.terms)\n",
    "        \n",
    "    def handle_result_list(self, resp):\n",
    "        with out_simple:\n",
    "            out_simple.replace(dumps(resp.data, indent=2))\n",
    "        text_box.text_w.value = ''\n",
    "        terms_buttons.set([])\n",
    "        rmap.display(resp)\n",
    "\n",
    "app = App(queue4).run()\n",
    "display(taxonomy_buttons, text_box, terms_buttons, rmap, out_simple)"
   ]
  },
  {
   "cell_type": "markdown",
   "id": "dc2d7dfd-7c87-4696-beba-5d1fc1eaeebc",
   "metadata": {},
   "source": [
    "<!--\n",
    "from urllib.parse import quote, unquote\n",
    "svg = \"\"\"<svg width=\"40\" height=\"48\" viewBox=\"0 0 40 48\" fill=\"none\" xmlns=\"http://www.w3.org/2000/svg\"><path class=\"triangle\" d=\"M11,36.8l-5.5,5.5L0,36.8H11z\" fill=\"#48DAD0\"></path><path class=\"HERE\" d=\"M19.1,24.2c-1.2-1.4-1.1-2.1-0.4-2.8c0.9-0.9,1.7-0.5,2.7,0.5L19.1,24.2z M30.9,9.2c0.9-0.9,1.7-0.5,2.7,0.5\n",
    "    L31.3,12C30.1,10.7,30.2,9.9,30.9,9.2z M38,11.6c-1.1,1.6-2.9,4.2-4.9,2.2l5-5c-0.4-0.5-0.8-0.9-1-1.1c-2.7-2.7-5.7-2.7-8-0.4\n",
    "\tc-1.6,1.6-2,3.4-1.5,5.1l-1.6-1.8c-0.5,0.3-2.4,1.9-0.9,4.5l-1.8-1.5l-2.4,2.4l3.2,3.2c-2.5-1.9-5.1-1.8-7.2,0.4\n",
    "\tc-2.3,2.3-2.1,5-0.4,7.3l-0.3-0.3c-2.3-2.3-4.7-1.5-5.9-0.3c-0.9,0.9-1.5,2.2-1.3,3.1L4,24.6l-2.6,2.6l9.6,9.6h5.2l-3.5-3.5\n",
    "\tc-1.8-1.8-1.8-2.8-1-3.7c0.8-0.8,1.8-0.3,3.6,1.4l3.4,3.4l2.6-2.6l-3.2-3.2c2.3,1.8,5.1,1.9,7.7-0.6l0,0c1.5-1.4,2-2.8,2-2.8\n",
    "\tl-1.9-1.3c-1.1,1.6-2.9,4.2-4.9,2.3l5-5l3.1,3.1l2.7-2.7l-3.9-3.9c-1.8-1.8-0.7-3.5,0-4.1c0.4,0.7,0.9,1.5,1.5,2.1\n",
    "\tc2.5,2.5,5.7,3,8.6,0.2l0,0c1.5-1.4,2-2.8,2-2.8S38,11.6,38,11.6z\" fill=\"#000000\"></path></svg>\n",
    "\"\"\"\n",
    "print(f\"\"\"![HERE](data:image/svg+xml,{quote(svg)})\n",
    "<span style=\"float:right; width:90%;\"><sub><b>Copyright (c) 2020-2025 HERE Global B.V. and its affiliate(s). All rights reserved.</b>\n",
    "This software, including documentation, is protected by copyright controlled by HERE. All rights are reserved. Copying, including reproducing, \n",
    "storing, adapting or translating, any or all of this material requires the prior written consent of HERE. This material also contains confidential \n",
    "information which may not be disclosed to others without the prior written consent of HERE.</sub></span>\"\"\")\n",
    "-->\n",
    "![HERE](data:image/svg+xml,%3Csvg%20width%3D%2240%22%20height%3D%2248%22%20viewBox%3D%220%200%2040%2048%22%20fill%3D%22none%22%20xmlns%3D%22http%3A//www.w3.org/2000/svg%22%3E%3Cpath%20class%3D%22triangle%22%20d%3D%22M11%2C36.8l-5.5%2C5.5L0%2C36.8H11z%22%20fill%3D%22%2348DAD0%22%3E%3C/path%3E%3Cpath%20class%3D%22HERE%22%20d%3D%22M19.1%2C24.2c-1.2-1.4-1.1-2.1-0.4-2.8c0.9-0.9%2C1.7-0.5%2C2.7%2C0.5L19.1%2C24.2z%20M30.9%2C9.2c0.9-0.9%2C1.7-0.5%2C2.7%2C0.5%0A%20%20%20%20L31.3%2C12C30.1%2C10.7%2C30.2%2C9.9%2C30.9%2C9.2z%20M38%2C11.6c-1.1%2C1.6-2.9%2C4.2-4.9%2C2.2l5-5c-0.4-0.5-0.8-0.9-1-1.1c-2.7-2.7-5.7-2.7-8-0.4%0A%09c-1.6%2C1.6-2%2C3.4-1.5%2C5.1l-1.6-1.8c-0.5%2C0.3-2.4%2C1.9-0.9%2C4.5l-1.8-1.5l-2.4%2C2.4l3.2%2C3.2c-2.5-1.9-5.1-1.8-7.2%2C0.4%0A%09c-2.3%2C2.3-2.1%2C5-0.4%2C7.3l-0.3-0.3c-2.3-2.3-4.7-1.5-5.9-0.3c-0.9%2C0.9-1.5%2C2.2-1.3%2C3.1L4%2C24.6l-2.6%2C2.6l9.6%2C9.6h5.2l-3.5-3.5%0A%09c-1.8-1.8-1.8-2.8-1-3.7c0.8-0.8%2C1.8-0.3%2C3.6%2C1.4l3.4%2C3.4l2.6-2.6l-3.2-3.2c2.3%2C1.8%2C5.1%2C1.9%2C7.7-0.6l0%2C0c1.5-1.4%2C2-2.8%2C2-2.8%0A%09l-1.9-1.3c-1.1%2C1.6-2.9%2C4.2-4.9%2C2.3l5-5l3.1%2C3.1l2.7-2.7l-3.9-3.9c-1.8-1.8-0.7-3.5%2C0-4.1c0.4%2C0.7%2C0.9%2C1.5%2C1.5%2C2.1%0A%09c2.5%2C2.5%2C5.7%2C3%2C8.6%2C0.2l0%2C0c1.5-1.4%2C2-2.8%2C2-2.8S38%2C11.6%2C38%2C11.6z%22%20fill%3D%22%23000000%22%3E%3C/path%3E%3C/svg%3E%0A)\n",
    "<span style=\"float:right; width:90%;\"><sub><b>Copyright (c) 2020-2025 HERE Global B.V. and its affiliate(s). All rights reserved.</b>\n",
    "This software, including documentation, is protected by copyright controlled by HERE. All rights are reserved. Copying, including reproducing, \n",
    "storing, adapting or translating, any or all of this material requires the prior written consent of HERE. This material also contains confidential \n",
    "information which may not be disclosed to others without the prior written consent of HERE.</sub></span>"
   ]
  }
 ],
 "metadata": {
  "celltoolbar": "Slideshow",
  "kernelspec": {
   "display_name": "Python 3 (ipykernel)",
   "language": "python",
   "name": "python3"
  },
  "language_info": {
   "codemirror_mode": {
    "name": "ipython",
    "version": 3
   },
   "file_extension": ".py",
   "mimetype": "text/x-python",
   "name": "python",
   "nbconvert_exporter": "python",
   "pygments_lexer": "ipython3",
   "version": "3.12.1"
  }
 },
 "nbformat": 4,
 "nbformat_minor": 5
}
