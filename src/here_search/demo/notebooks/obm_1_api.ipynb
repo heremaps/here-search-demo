{
 "cells": [
  {
   "cell_type": "code",
   "execution_count": null,
   "id": "e5c95683-6b47-40aa-8dba-1c815e1549c3",
   "metadata": {},
   "outputs": [],
   "source": [
    "from _install import install\n",
    "await install()"
   ]
  },
  {
   "cell_type": "markdown",
   "id": "a312886c-007e-40e8-90a7-a215e1708ff5",
   "metadata": {
    "pycharm": {
     "name": "#%% md\n"
    },
    "slideshow": {
     "slide_type": "slide"
    },
    "tags": []
   },
   "source": [
    "## API client\n",
    "\n",
    "`api.API` is a thin wrapper around the [HERE search & geocoding API](https://www.here.com/docs/bundle/geocoding-and-search-api-v7-api-reference/page/index.html). \n",
    "API objects host the `api_key` variable (prompted if not provided as argument `API_KEY` environment variable or in a `demo-config.json` file)."
   ]
  },
  {
   "cell_type": "code",
   "execution_count": null,
   "id": "a59dacb1-da0a-40ba-a8d0-736738c62333",
   "metadata": {
    "pycharm": {
     "name": "#%%\n"
    },
    "slideshow": {
     "slide_type": "-"
    },
    "tags": []
   },
   "outputs": [],
   "source": [
    "from here_search.demo.api import API, HTTPSession\n",
    "\n",
    "api = API()\n",
    "session = HTTPSession()"
   ]
  },
  {
   "cell_type": "markdown",
   "id": "a1274884-3a2e-4cfa-aa19-85e50033b8e5",
   "metadata": {},
   "source": [
    "The API class uses async methods to take advantage of Jupyter event loop and [async REPL](https://blog.jupyter.org/ipython-7-0-async-repl-a35ce050f7f7). For example `/discover` requests are sent with `api.discover()` like:"
   ]
  },
  {
   "cell_type": "code",
   "execution_count": null,
   "id": "da673fdb-baf9-41e0-9f32-b8e18436a579",
   "metadata": {},
   "outputs": [],
   "source": [
    "resp = await api.discover(q=\"berlin\", latitude=52, longitude=13, session=session)\n",
    "resp.req.full"
   ]
  },
  {
   "cell_type": "code",
   "execution_count": null,
   "id": "7ece78d9-5061-4493-a0ad-904f3c7d8aa6",
   "metadata": {},
   "outputs": [],
   "source": [
    "resp.data"
   ]
  },
  {
   "cell_type": "code",
   "execution_count": null,
   "id": "f7d46007-3a25-4f10-90fe-e3fd0f6c4cc6",
   "metadata": {},
   "outputs": [],
   "source": [
    "resp = await api.autosuggest(q=\"restaura\", latitude=52, longitude=13, limit=2, termsLimit=3, session=session)\n",
    "resp.req.full"
   ]
  },
  {
   "cell_type": "code",
   "execution_count": null,
   "id": "7ebe5c74-9469-4593-99db-f8ded06d25ac",
   "metadata": {},
   "outputs": [],
   "source": [
    "resp.data"
   ]
  },
  {
   "cell_type": "code",
   "execution_count": null,
   "id": "9fa03844-4584-4b2a-ae93-9742450ae76e",
   "metadata": {},
   "outputs": [],
   "source": [
    "resp.terms"
   ]
  },
  {
   "cell_type": "code",
   "execution_count": null,
   "id": "a5772d87-0cba-4c84-8aa4-acf7e726a40a",
   "metadata": {},
   "outputs": [],
   "source": [
    "resp.geojson()"
   ]
  },
  {
   "cell_type": "markdown",
   "id": "70cae96a-ec74-4592-87b8-06a2ae0c1002",
   "metadata": {},
   "source": [
    "## Suggestions for a growing query\n",
    "\n",
    "Autosuggest is made to help end-user to quickly formulate a query.\n",
    "\n",
    "\n",
    "It is recommended to use Autosuggest response items `resulType` field to decide what to do in case of user selection. The selection of a `chainQuery` or `categoryQuery` result should lead to a GET of the `href` field value. Other selections should lead to a call to `/lookup` using the `id` field value. \n",
    "Note that the `resulType` field can be used to render results differently. For example, a <img src=\"https://upload.wikimedia.org/wikipedia/commons/2/2b/Font_Awesome_5_solid_search.svg\" style=\"width:12px\"/> can be used to signal a `chainQuery` or `categoryQuery`.\n",
    "\n",
    "The following snippet sends an Autosuggest request for each additional character of the query \"restaurant hamburg\" a hypothetic user intends to type to get restaurants near the German city of Hamburg. Only each response **first result** is displayed: "
   ]
  },
  {
   "cell_type": "code",
   "execution_count": null,
   "id": "5db1262c-1815-44a2-a9be-c67377ca58f8",
   "metadata": {},
   "outputs": [],
   "source": [
    "from functools import partial\n",
    "\n",
    "q = \"restaurant hamburg\"\n",
    "autosuggest = partial(api.autosuggest, latitude=52, longitude=13,  lang=\"en\", limit=1, session=session)\n",
    "\n",
    "template = \"{:<2} {:<25} {:<18} {:<65} {:<14}\"\n",
    "print(template.format(\"#\", \"query\", \"resultType\", \"id\", \"title\"))\n",
    "for i in range(len(q)):\n",
    "    resp = await autosuggest(q=q[: i + 1])\n",
    "    item = resp.data[\"items\"][0]\n",
    "    print(template.format(i + 1, f\"'{q[: i + 1]}'\", item[\"resultType\"], item[\"id\"][:60], item[\"title\"]))"
   ]
  },
  {
   "cell_type": "markdown",
   "id": "3829230e-43c1-4e4e-8441-1bac40ec8381",
   "metadata": {},
   "source": [
    "If the end-user was actually typing the query \"restaurant\", the suggestion of `id` value `here:cm:taxonomy:restaurant` returned for the 4-letter query \"rest\" could be selected to trigger the related `href` query. But the end-user needs to continue typing untill \"restaurants ham\" to get the suggestion titled \"Restaurants near Hamburg, Germany\".\n",
    "\n",
    "## Terms suggestions\n",
    "\n",
    "To further help end-user to formulate such a long query, Autosuggest also returns predictive text for the query last token while it is being typed. Those suggested terms are in the response `queryTerms` when the request contains a positive `termsLimit` parameter. In the snippet below, 3 last token suggestiosn are returned per response:"
   ]
  },
  {
   "cell_type": "code",
   "execution_count": null,
   "id": "b8a9bc0d-6725-4edb-9de3-9ada83312246",
   "metadata": {},
   "outputs": [],
   "source": [
    "autosuggest = partial(autosuggest, termsLimit=3)\n",
    "\n",
    "template = \"{:<2} {:<25} {:<38} {:<14}\"\n",
    "print(template.format(\"#\", \"query\", \"terms\", \"title\"))\n",
    "for i in range(len(q)):\n",
    "    resp = await autosuggest(q=q[: i + 1])\n",
    "    item = resp.data[\"items\"][0]\n",
    "    terms = \",\".join(t[\"term\"] for t in resp.data[\"queryTerms\"])\n",
    "    print(template.format(i + 1, f\"'{q[: i + 1]}'\", terms, item[\"title\"]))"
   ]
  },
  {
   "cell_type": "markdown",
   "id": "3af70809-462f-432d-a752-6f0f901b8fc2",
   "metadata": {},
   "source": [
    "When presented to the end-user to replace the last token in the query, `queryTerms` can significantly speed-up the query submission. In the previous interaction, the use of the token \"Restaurant\" returned for the \"res\" query, would have led to the series of 8 queries instead of 14: \"r\", \"re\", \"res\", \"restaurant\", \"restaurant \", \"restaurant h\", \"restaurant ha\", \"restaurant hamburg\"."
   ]
  },
  {
   "cell_type": "code",
   "execution_count": null,
   "id": "aa5203d6-686a-4e16-9126-78ddc6f32cd6",
   "metadata": {},
   "outputs": [],
   "source": [
    "template = \"{:<2} {:<25} {:<38} {:<14}\"\n",
    "print(template.format(\"#\", \"query\", \"terms\", \"title\"))\n",
    "qs = [\"r\", \"re\", \"res\", \"restaurant\", \"restaurant \", \"restaurant h\", \"restaurant ha\", \"restaurant hamburg\"]\n",
    "for i, q in enumerate(qs):\n",
    "    resp = await autosuggest(q=q)\n",
    "    item = resp.data[\"items\"][0]\n",
    "    terms = \",\".join(t[\"term\"] for t in resp.data[\"queryTerms\"])\n",
    "    print(template.format(i + 1, f\"'{q}'\", terms, item[\"title\"]))"
   ]
  },
  {
   "cell_type": "markdown",
   "id": "f3c34746-7edc-4f29-9b18-eca6b22c717a",
   "metadata": {},
   "source": [
    "<!--\n",
    "from urllib.parse import quote, unquote\n",
    "svg = \"\"\"<svg width=\"40\" height=\"48\" viewBox=\"0 0 40 48\" fill=\"none\" xmlns=\"http://www.w3.org/2000/svg\"><path class=\"triangle\" d=\"M11,36.8l-5.5,5.5L0,36.8H11z\" fill=\"#48DAD0\"></path><path class=\"HERE\" d=\"M19.1,24.2c-1.2-1.4-1.1-2.1-0.4-2.8c0.9-0.9,1.7-0.5,2.7,0.5L19.1,24.2z M30.9,9.2c0.9-0.9,1.7-0.5,2.7,0.5\n",
    "    L31.3,12C30.1,10.7,30.2,9.9,30.9,9.2z M38,11.6c-1.1,1.6-2.9,4.2-4.9,2.2l5-5c-0.4-0.5-0.8-0.9-1-1.1c-2.7-2.7-5.7-2.7-8-0.4\n",
    "\tc-1.6,1.6-2,3.4-1.5,5.1l-1.6-1.8c-0.5,0.3-2.4,1.9-0.9,4.5l-1.8-1.5l-2.4,2.4l3.2,3.2c-2.5-1.9-5.1-1.8-7.2,0.4\n",
    "\tc-2.3,2.3-2.1,5-0.4,7.3l-0.3-0.3c-2.3-2.3-4.7-1.5-5.9-0.3c-0.9,0.9-1.5,2.2-1.3,3.1L4,24.6l-2.6,2.6l9.6,9.6h5.2l-3.5-3.5\n",
    "\tc-1.8-1.8-1.8-2.8-1-3.7c0.8-0.8,1.8-0.3,3.6,1.4l3.4,3.4l2.6-2.6l-3.2-3.2c2.3,1.8,5.1,1.9,7.7-0.6l0,0c1.5-1.4,2-2.8,2-2.8\n",
    "\tl-1.9-1.3c-1.1,1.6-2.9,4.2-4.9,2.3l5-5l3.1,3.1l2.7-2.7l-3.9-3.9c-1.8-1.8-0.7-3.5,0-4.1c0.4,0.7,0.9,1.5,1.5,2.1\n",
    "\tc2.5,2.5,5.7,3,8.6,0.2l0,0c1.5-1.4,2-2.8,2-2.8S38,11.6,38,11.6z\" fill=\"#000000\"></path></svg>\n",
    "\"\"\"\n",
    "print(f\"\"\"![HERE](data:image/svg+xml,{quote(svg)})\n",
    "<span style=\"float:right; width:90%;\"><sub><b>Copyright (c) 2020-2025 HERE Global B.V. and its affiliate(s). All rights reserved.</b>\n",
    "This software, including documentation, is protected by copyright controlled by HERE. All rights are reserved. Copying, including reproducing, \n",
    "storing, adapting or translating, any or all of this material requires the prior written consent of HERE. This material also contains confidential \n",
    "information which may not be disclosed to others without the prior written consent of HERE.</sub></span>\"\"\")\n",
    "-->\n",
    "![HERE](data:image/svg+xml,%3Csvg%20width%3D%2240%22%20height%3D%2248%22%20viewBox%3D%220%200%2040%2048%22%20fill%3D%22none%22%20xmlns%3D%22http%3A//www.w3.org/2000/svg%22%3E%3Cpath%20class%3D%22triangle%22%20d%3D%22M11%2C36.8l-5.5%2C5.5L0%2C36.8H11z%22%20fill%3D%22%2348DAD0%22%3E%3C/path%3E%3Cpath%20class%3D%22HERE%22%20d%3D%22M19.1%2C24.2c-1.2-1.4-1.1-2.1-0.4-2.8c0.9-0.9%2C1.7-0.5%2C2.7%2C0.5L19.1%2C24.2z%20M30.9%2C9.2c0.9-0.9%2C1.7-0.5%2C2.7%2C0.5%0A%20%20%20%20L31.3%2C12C30.1%2C10.7%2C30.2%2C9.9%2C30.9%2C9.2z%20M38%2C11.6c-1.1%2C1.6-2.9%2C4.2-4.9%2C2.2l5-5c-0.4-0.5-0.8-0.9-1-1.1c-2.7-2.7-5.7-2.7-8-0.4%0A%09c-1.6%2C1.6-2%2C3.4-1.5%2C5.1l-1.6-1.8c-0.5%2C0.3-2.4%2C1.9-0.9%2C4.5l-1.8-1.5l-2.4%2C2.4l3.2%2C3.2c-2.5-1.9-5.1-1.8-7.2%2C0.4%0A%09c-2.3%2C2.3-2.1%2C5-0.4%2C7.3l-0.3-0.3c-2.3-2.3-4.7-1.5-5.9-0.3c-0.9%2C0.9-1.5%2C2.2-1.3%2C3.1L4%2C24.6l-2.6%2C2.6l9.6%2C9.6h5.2l-3.5-3.5%0A%09c-1.8-1.8-1.8-2.8-1-3.7c0.8-0.8%2C1.8-0.3%2C3.6%2C1.4l3.4%2C3.4l2.6-2.6l-3.2-3.2c2.3%2C1.8%2C5.1%2C1.9%2C7.7-0.6l0%2C0c1.5-1.4%2C2-2.8%2C2-2.8%0A%09l-1.9-1.3c-1.1%2C1.6-2.9%2C4.2-4.9%2C2.3l5-5l3.1%2C3.1l2.7-2.7l-3.9-3.9c-1.8-1.8-0.7-3.5%2C0-4.1c0.4%2C0.7%2C0.9%2C1.5%2C1.5%2C2.1%0A%09c2.5%2C2.5%2C5.7%2C3%2C8.6%2C0.2l0%2C0c1.5-1.4%2C2-2.8%2C2-2.8S38%2C11.6%2C38%2C11.6z%22%20fill%3D%22%23000000%22%3E%3C/path%3E%3C/svg%3E%0A)\n",
    "<span style=\"float:right; width:90%;\"><sub><b>Copyright (c) 2020-2025 HERE Global B.V. and its affiliate(s). All rights reserved.</b>\n",
    "This software, including documentation, is protected by copyright controlled by HERE. All rights are reserved. Copying, including reproducing, \n",
    "storing, adapting or translating, any or all of this material requires the prior written consent of HERE. This material also contains confidential \n",
    "information which may not be disclosed to others without the prior written consent of HERE.</sub></span>"
   ]
  }
 ],
 "metadata": {
  "celltoolbar": "Slideshow",
  "kernelspec": {
   "display_name": "Python 3 (ipykernel)",
   "language": "python",
   "name": "python3"
  },
  "language_info": {
   "codemirror_mode": {
    "name": "ipython",
    "version": 3
   },
   "file_extension": ".py",
   "mimetype": "text/x-python",
   "name": "python",
   "nbconvert_exporter": "python",
   "pygments_lexer": "ipython3",
   "version": "3.12.1"
  }
 },
 "nbformat": 4,
 "nbformat_minor": 5
}
