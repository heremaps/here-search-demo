{
 "cells": [
  {
   "cell_type": "code",
   "execution_count": 1,
   "id": "e5c95683-6b47-40aa-8dba-1c815e1549c3",
   "metadata": {},
   "outputs": [],
   "source": [
    "try:\n",
    "    import piplite\n",
    "    await piplite.install([\"ipywidgets==7.7.2\", \"ipyleaflet==0.17.1\", \"emfs:here_search_demo-0.8.0-py3-none-any.whl\"], keep_going=True)\n",
    "    api_key = \"<YOUR API KEY>\"\n",
    "except ImportError:\n",
    "    api_key = None"
   ]
  },
  {
   "cell_type": "markdown",
   "id": "a312886c-007e-40e8-90a7-a215e1708ff5",
   "metadata": {
    "pycharm": {
     "name": "#%% md\n"
    },
    "slideshow": {
     "slide_type": "slide"
    },
    "tags": []
   },
   "source": [
    "## API client\n",
    "\n",
    "`api.API` is a thin wrapper around the [HERE search & geocoding API](https://developer.here.com/documentation/geocoding-search-api/api-reference-swagger.html). \n",
    "API objects host the `api_key` variable (prompted if not provided as argument or `API_KEY` environment variable)."
   ]
  },
  {
   "cell_type": "code",
   "execution_count": 2,
   "id": "a59dacb1-da0a-40ba-a8d0-736738c62333",
   "metadata": {
    "pycharm": {
     "name": "#%%\n"
    },
    "slideshow": {
     "slide_type": "-"
    },
    "tags": []
   },
   "outputs": [],
   "source": [
    "from here_search.demo.api import API, HTTPSession\n",
    "\n",
    "api = API(api_key=api_key)\n",
    "session = HTTPSession()"
   ]
  },
  {
   "cell_type": "markdown",
   "id": "a1274884-3a2e-4cfa-aa19-85e50033b8e5",
   "metadata": {},
   "source": [
    "The API class uses async methods to take advantage of Jupyter event loop and [async REPL](https://blog.jupyter.org/ipython-7-0-async-repl-a35ce050f7f7). For example `/discover` requests are sent with `api.discover()` like:"
   ]
  },
  {
   "cell_type": "code",
   "execution_count": 3,
   "id": "da673fdb-baf9-41e0-9f32-b8e18436a579",
   "metadata": {},
   "outputs": [
    {
     "data": {
      "text/plain": [
       "'https://discover.search.hereapi.com/v1/discover?q=berlin&at=52%2C13&apiKey=...'"
      ]
     },
     "execution_count": 3,
     "metadata": {},
     "output_type": "execute_result"
    }
   ],
   "source": [
    "resp = await api.discover(q=\"berlin\", latitude=52, longitude=13, session=session)\n",
    "resp.req.full"
   ]
  },
  {
   "cell_type": "code",
   "execution_count": 4,
   "id": "7ece78d9-5061-4493-a0ad-904f3c7d8aa6",
   "metadata": {},
   "outputs": [
    {
     "data": {
      "text/plain": [
       "{'items': [{'title': 'Berlin, Deutschland',\n",
       "   'id': 'here:cm:namedplace:20187403',\n",
       "   'language': 'de',\n",
       "   'resultType': 'locality',\n",
       "   'localityType': 'city',\n",
       "   'address': {'label': 'Berlin, Deutschland',\n",
       "    'countryCode': 'DEU',\n",
       "    'countryName': 'Deutschland',\n",
       "    'stateCode': 'BE',\n",
       "    'state': 'Berlin',\n",
       "    'countyCode': 'B',\n",
       "    'county': 'Berlin',\n",
       "    'city': 'Berlin',\n",
       "    'postalCode': '10117'},\n",
       "   'position': {'lat': 52.51604, 'lng': 13.37691},\n",
       "   'distance': 62854,\n",
       "   'mapView': {'west': 13.08835,\n",
       "    'south': 52.33812,\n",
       "    'east': 13.761,\n",
       "    'north': 52.6755}}]}"
      ]
     },
     "execution_count": 4,
     "metadata": {},
     "output_type": "execute_result"
    }
   ],
   "source": [
    "resp.data"
   ]
  },
  {
   "cell_type": "code",
   "execution_count": 5,
   "id": "f7d46007-3a25-4f10-90fe-e3fd0f6c4cc6",
   "metadata": {},
   "outputs": [
    {
     "ename": "TypeError",
     "evalue": "Invalid variable type: value should be str, int or float, got {'limit': [2], 'termsLimit': [3]} of type <class 'dict'>",
     "output_type": "error",
     "traceback": [
      "\u001b[0;31m---------------------------------------------------------------------------\u001b[0m",
      "\u001b[0;31mTypeError\u001b[0m                                 Traceback (most recent call last)",
      "Cell \u001b[0;32mIn [5], line 1\u001b[0m\n\u001b[0;32m----> 1\u001b[0m resp \u001b[38;5;241m=\u001b[39m \u001b[38;5;28;01mawait\u001b[39;00m api\u001b[38;5;241m.\u001b[39mautosuggest(q\u001b[38;5;241m=\u001b[39m\u001b[38;5;124m\"\u001b[39m\u001b[38;5;124mrestaura\u001b[39m\u001b[38;5;124m\"\u001b[39m, latitude\u001b[38;5;241m=\u001b[39m\u001b[38;5;241m52\u001b[39m, longitude\u001b[38;5;241m=\u001b[39m\u001b[38;5;241m13\u001b[39m, params\u001b[38;5;241m=\u001b[39m{\u001b[38;5;124m\"\u001b[39m\u001b[38;5;124mlimit\u001b[39m\u001b[38;5;124m\"\u001b[39m: [\u001b[38;5;241m2\u001b[39m], \u001b[38;5;124m\"\u001b[39m\u001b[38;5;124mtermsLimit\u001b[39m\u001b[38;5;124m\"\u001b[39m:[\u001b[38;5;241m3\u001b[39m]}, session\u001b[38;5;241m=\u001b[39msession)\n\u001b[1;32m      2\u001b[0m resp\u001b[38;5;241m.\u001b[39mreq\u001b[38;5;241m.\u001b[39mfull\n",
      "File \u001b[0;32m~/workspace/search-notebook-ext/src/here_search/demo/api.py:132\u001b[0m, in \u001b[0;36mAPI.autosuggest\u001b[0;34m(self, q, latitude, longitude, session, x_headers, **kwargs)\u001b[0m\n\u001b[1;32m    125\u001b[0m params\u001b[38;5;241m.\u001b[39mupdate(kwargs)\n\u001b[1;32m    126\u001b[0m request \u001b[38;5;241m=\u001b[39m Request(\n\u001b[1;32m    127\u001b[0m     endpoint\u001b[38;5;241m=\u001b[39mEndpoint\u001b[38;5;241m.\u001b[39mAUTOSUGGEST,\n\u001b[1;32m    128\u001b[0m     url\u001b[38;5;241m=\u001b[39mbase_url[Endpoint\u001b[38;5;241m.\u001b[39mAUTOSUGGEST],\n\u001b[1;32m    129\u001b[0m     params\u001b[38;5;241m=\u001b[39mparams,\n\u001b[1;32m    130\u001b[0m     x_headers\u001b[38;5;241m=\u001b[39mx_headers,\n\u001b[1;32m    131\u001b[0m )\n\u001b[0;32m--> 132\u001b[0m \u001b[38;5;28;01mreturn\u001b[39;00m \u001b[38;5;28;01mawait\u001b[39;00m \u001b[38;5;28mself\u001b[39m\u001b[38;5;241m.\u001b[39mget(request, session)\n",
      "File \u001b[0;32m~/workspace/search-notebook-ext/src/here_search/demo/api.py:65\u001b[0m, in \u001b[0;36mAPI.get\u001b[0;34m(self, request, session)\u001b[0m\n\u001b[1;32m     60\u001b[0m request\u001b[38;5;241m.\u001b[39mparams[\u001b[38;5;124m\"\u001b[39m\u001b[38;5;124mapiKey\u001b[39m\u001b[38;5;124m\"\u001b[39m] \u001b[38;5;241m=\u001b[39m \u001b[38;5;28mself\u001b[39m\u001b[38;5;241m.\u001b[39mapi_key\n\u001b[1;32m     61\u001b[0m params \u001b[38;5;241m=\u001b[39m {\n\u001b[1;32m     62\u001b[0m     k: \u001b[38;5;124m\"\u001b[39m\u001b[38;5;124m,\u001b[39m\u001b[38;5;124m\"\u001b[39m\u001b[38;5;241m.\u001b[39mjoin(v) \u001b[38;5;28;01mif\u001b[39;00m \u001b[38;5;28misinstance\u001b[39m(v, \u001b[38;5;28mlist\u001b[39m) \u001b[38;5;28;01melse\u001b[39;00m v\n\u001b[1;32m     63\u001b[0m     \u001b[38;5;28;01mfor\u001b[39;00m k, v \u001b[38;5;129;01min\u001b[39;00m request\u001b[38;5;241m.\u001b[39mparams\u001b[38;5;241m.\u001b[39mitems()\n\u001b[1;32m     64\u001b[0m }\n\u001b[0;32m---> 65\u001b[0m human_url, payload, headers \u001b[38;5;241m=\u001b[39m \u001b[38;5;28;01mawait\u001b[39;00m \u001b[38;5;28mself\u001b[39m\u001b[38;5;241m.\u001b[39mdo_get(request\u001b[38;5;241m.\u001b[39murl, params, request\u001b[38;5;241m.\u001b[39mx_headers, session)\n\u001b[1;32m     67\u001b[0m formatted_msg \u001b[38;5;241m=\u001b[39m \u001b[38;5;28mself\u001b[39m\u001b[38;5;241m.\u001b[39mformat_url(human_url)\n\u001b[1;32m     68\u001b[0m \u001b[38;5;28mself\u001b[39m\u001b[38;5;241m.\u001b[39mdo_log(formatted_msg)\n",
      "File \u001b[0;32m~/workspace/search-notebook-ext/src/here_search/demo/api.py:82\u001b[0m, in \u001b[0;36mAPI.do_get\u001b[0;34m(self, url, params, headers, session)\u001b[0m\n\u001b[1;32m     79\u001b[0m \u001b[38;5;28;01masync\u001b[39;00m \u001b[38;5;28;01mdef\u001b[39;00m \u001b[38;5;21mdo_get\u001b[39m(\u001b[38;5;28mself\u001b[39m, url: \u001b[38;5;28mstr\u001b[39m, params: \u001b[38;5;28mdict\u001b[39m, headers: \u001b[38;5;28mdict\u001b[39m, session: HTTPSession) \u001b[38;5;241m-\u001b[39m\u001b[38;5;241m>\u001b[39m Tuple[\n\u001b[1;32m     80\u001b[0m     \u001b[38;5;28mstr\u001b[39m, \u001b[38;5;28mdict\u001b[39m, Mapping]:  \u001b[38;5;66;03m# pragma: no cover\u001b[39;00m\n\u001b[1;32m     81\u001b[0m     \u001b[38;5;66;03m# I/O coupling isolation\u001b[39;00m\n\u001b[0;32m---> 82\u001b[0m     \u001b[38;5;28;01masync\u001b[39;00m \u001b[38;5;28;01mwith\u001b[39;00m session\u001b[38;5;241m.\u001b[39mget(\n\u001b[1;32m     83\u001b[0m             url, params\u001b[38;5;241m=\u001b[39mparams, headers\u001b[38;5;241m=\u001b[39mheaders \u001b[38;5;129;01mor\u001b[39;00m {}\n\u001b[1;32m     84\u001b[0m     ) \u001b[38;5;28;01mas\u001b[39;00m get_response:\n\u001b[1;32m     85\u001b[0m         payload \u001b[38;5;241m=\u001b[39m \u001b[38;5;28;01mawait\u001b[39;00m get_response\u001b[38;5;241m.\u001b[39mjson()\n\u001b[1;32m     86\u001b[0m         human_url \u001b[38;5;241m=\u001b[39m get_response\u001b[38;5;241m.\u001b[39murl\u001b[38;5;241m.\u001b[39mhuman_repr()\n",
      "File \u001b[0;32m~/virtualenv/search-notebook-ext/lib/python3.9/site-packages/aiohttp/client.py:1141\u001b[0m, in \u001b[0;36m_BaseRequestContextManager.__aenter__\u001b[0;34m(self)\u001b[0m\n\u001b[1;32m   1140\u001b[0m \u001b[38;5;28;01masync\u001b[39;00m \u001b[38;5;28;01mdef\u001b[39;00m \u001b[38;5;21m__aenter__\u001b[39m(\u001b[38;5;28mself\u001b[39m) \u001b[38;5;241m-\u001b[39m\u001b[38;5;241m>\u001b[39m _RetType:\n\u001b[0;32m-> 1141\u001b[0m     \u001b[38;5;28mself\u001b[39m\u001b[38;5;241m.\u001b[39m_resp \u001b[38;5;241m=\u001b[39m \u001b[38;5;28;01mawait\u001b[39;00m \u001b[38;5;28mself\u001b[39m\u001b[38;5;241m.\u001b[39m_coro\n\u001b[1;32m   1142\u001b[0m     \u001b[38;5;28;01mreturn\u001b[39;00m \u001b[38;5;28mself\u001b[39m\u001b[38;5;241m.\u001b[39m_resp\n",
      "File \u001b[0;32m~/virtualenv/search-notebook-ext/lib/python3.9/site-packages/aiohttp/client.py:508\u001b[0m, in \u001b[0;36mClientSession._request\u001b[0;34m(self, method, str_or_url, params, data, json, cookies, headers, skip_auto_headers, auth, allow_redirects, max_redirects, compress, chunked, expect100, raise_for_status, read_until_eof, proxy, proxy_auth, timeout, verify_ssl, fingerprint, ssl_context, ssl, proxy_headers, trace_request_ctx, read_bufsize)\u001b[0m\n\u001b[1;32m    505\u001b[0m     \u001b[38;5;28;01mwith\u001b[39;00m suppress(\u001b[38;5;167;01mLookupError\u001b[39;00m):\n\u001b[1;32m    506\u001b[0m         proxy, proxy_auth \u001b[38;5;241m=\u001b[39m get_env_proxy_for_url(url)\n\u001b[0;32m--> 508\u001b[0m req \u001b[38;5;241m=\u001b[39m \u001b[38;5;28;43mself\u001b[39;49m\u001b[38;5;241;43m.\u001b[39;49m\u001b[43m_request_class\u001b[49m\u001b[43m(\u001b[49m\n\u001b[1;32m    509\u001b[0m \u001b[43m    \u001b[49m\u001b[43mmethod\u001b[49m\u001b[43m,\u001b[49m\n\u001b[1;32m    510\u001b[0m \u001b[43m    \u001b[49m\u001b[43murl\u001b[49m\u001b[43m,\u001b[49m\n\u001b[1;32m    511\u001b[0m \u001b[43m    \u001b[49m\u001b[43mparams\u001b[49m\u001b[38;5;241;43m=\u001b[39;49m\u001b[43mparams\u001b[49m\u001b[43m,\u001b[49m\n\u001b[1;32m    512\u001b[0m \u001b[43m    \u001b[49m\u001b[43mheaders\u001b[49m\u001b[38;5;241;43m=\u001b[39;49m\u001b[43mheaders\u001b[49m\u001b[43m,\u001b[49m\n\u001b[1;32m    513\u001b[0m \u001b[43m    \u001b[49m\u001b[43mskip_auto_headers\u001b[49m\u001b[38;5;241;43m=\u001b[39;49m\u001b[43mskip_headers\u001b[49m\u001b[43m,\u001b[49m\n\u001b[1;32m    514\u001b[0m \u001b[43m    \u001b[49m\u001b[43mdata\u001b[49m\u001b[38;5;241;43m=\u001b[39;49m\u001b[43mdata\u001b[49m\u001b[43m,\u001b[49m\n\u001b[1;32m    515\u001b[0m \u001b[43m    \u001b[49m\u001b[43mcookies\u001b[49m\u001b[38;5;241;43m=\u001b[39;49m\u001b[43mall_cookies\u001b[49m\u001b[43m,\u001b[49m\n\u001b[1;32m    516\u001b[0m \u001b[43m    \u001b[49m\u001b[43mauth\u001b[49m\u001b[38;5;241;43m=\u001b[39;49m\u001b[43mauth\u001b[49m\u001b[43m,\u001b[49m\n\u001b[1;32m    517\u001b[0m \u001b[43m    \u001b[49m\u001b[43mversion\u001b[49m\u001b[38;5;241;43m=\u001b[39;49m\u001b[43mversion\u001b[49m\u001b[43m,\u001b[49m\n\u001b[1;32m    518\u001b[0m \u001b[43m    \u001b[49m\u001b[43mcompress\u001b[49m\u001b[38;5;241;43m=\u001b[39;49m\u001b[43mcompress\u001b[49m\u001b[43m,\u001b[49m\n\u001b[1;32m    519\u001b[0m \u001b[43m    \u001b[49m\u001b[43mchunked\u001b[49m\u001b[38;5;241;43m=\u001b[39;49m\u001b[43mchunked\u001b[49m\u001b[43m,\u001b[49m\n\u001b[1;32m    520\u001b[0m \u001b[43m    \u001b[49m\u001b[43mexpect100\u001b[49m\u001b[38;5;241;43m=\u001b[39;49m\u001b[43mexpect100\u001b[49m\u001b[43m,\u001b[49m\n\u001b[1;32m    521\u001b[0m \u001b[43m    \u001b[49m\u001b[43mloop\u001b[49m\u001b[38;5;241;43m=\u001b[39;49m\u001b[38;5;28;43mself\u001b[39;49m\u001b[38;5;241;43m.\u001b[39;49m\u001b[43m_loop\u001b[49m\u001b[43m,\u001b[49m\n\u001b[1;32m    522\u001b[0m \u001b[43m    \u001b[49m\u001b[43mresponse_class\u001b[49m\u001b[38;5;241;43m=\u001b[39;49m\u001b[38;5;28;43mself\u001b[39;49m\u001b[38;5;241;43m.\u001b[39;49m\u001b[43m_response_class\u001b[49m\u001b[43m,\u001b[49m\n\u001b[1;32m    523\u001b[0m \u001b[43m    \u001b[49m\u001b[43mproxy\u001b[49m\u001b[38;5;241;43m=\u001b[39;49m\u001b[43mproxy\u001b[49m\u001b[43m,\u001b[49m\n\u001b[1;32m    524\u001b[0m \u001b[43m    \u001b[49m\u001b[43mproxy_auth\u001b[49m\u001b[38;5;241;43m=\u001b[39;49m\u001b[43mproxy_auth\u001b[49m\u001b[43m,\u001b[49m\n\u001b[1;32m    525\u001b[0m \u001b[43m    \u001b[49m\u001b[43mtimer\u001b[49m\u001b[38;5;241;43m=\u001b[39;49m\u001b[43mtimer\u001b[49m\u001b[43m,\u001b[49m\n\u001b[1;32m    526\u001b[0m \u001b[43m    \u001b[49m\u001b[43msession\u001b[49m\u001b[38;5;241;43m=\u001b[39;49m\u001b[38;5;28;43mself\u001b[39;49m\u001b[43m,\u001b[49m\n\u001b[1;32m    527\u001b[0m \u001b[43m    \u001b[49m\u001b[43mssl\u001b[49m\u001b[38;5;241;43m=\u001b[39;49m\u001b[43mssl\u001b[49m\u001b[43m,\u001b[49m\n\u001b[1;32m    528\u001b[0m \u001b[43m    \u001b[49m\u001b[43mproxy_headers\u001b[49m\u001b[38;5;241;43m=\u001b[39;49m\u001b[43mproxy_headers\u001b[49m\u001b[43m,\u001b[49m\n\u001b[1;32m    529\u001b[0m \u001b[43m    \u001b[49m\u001b[43mtraces\u001b[49m\u001b[38;5;241;43m=\u001b[39;49m\u001b[43mtraces\u001b[49m\u001b[43m,\u001b[49m\n\u001b[1;32m    530\u001b[0m \u001b[43m\u001b[49m\u001b[43m)\u001b[49m\n\u001b[1;32m    532\u001b[0m \u001b[38;5;66;03m# connection timeout\u001b[39;00m\n\u001b[1;32m    533\u001b[0m \u001b[38;5;28;01mtry\u001b[39;00m:\n",
      "File \u001b[0;32m~/virtualenv/search-notebook-ext/lib/python3.9/site-packages/aiohttp/client_reqrep.py:283\u001b[0m, in \u001b[0;36mClientRequest.__init__\u001b[0;34m(self, method, url, params, headers, skip_auto_headers, data, cookies, auth, version, compress, chunked, expect100, loop, response_class, proxy, proxy_auth, timer, session, ssl, proxy_headers, traces)\u001b[0m\n\u001b[1;32m    281\u001b[0m \u001b[38;5;28;01mif\u001b[39;00m params:\n\u001b[1;32m    282\u001b[0m     q \u001b[38;5;241m=\u001b[39m MultiDict(url\u001b[38;5;241m.\u001b[39mquery)\n\u001b[0;32m--> 283\u001b[0m     url2 \u001b[38;5;241m=\u001b[39m \u001b[43murl\u001b[49m\u001b[38;5;241;43m.\u001b[39;49m\u001b[43mwith_query\u001b[49m\u001b[43m(\u001b[49m\u001b[43mparams\u001b[49m\u001b[43m)\u001b[49m\n\u001b[1;32m    284\u001b[0m     q\u001b[38;5;241m.\u001b[39mextend(url2\u001b[38;5;241m.\u001b[39mquery)\n\u001b[1;32m    285\u001b[0m     url \u001b[38;5;241m=\u001b[39m url\u001b[38;5;241m.\u001b[39mwith_query(q)\n",
      "File \u001b[0;32m~/virtualenv/search-notebook-ext/lib/python3.9/site-packages/yarl/_url.py:977\u001b[0m, in \u001b[0;36mURL.with_query\u001b[0;34m(self, *args, **kwargs)\u001b[0m\n\u001b[1;32m    963\u001b[0m \u001b[38;5;124;03m\"\"\"Return a new URL with query part replaced.\u001b[39;00m\n\u001b[1;32m    964\u001b[0m \n\u001b[1;32m    965\u001b[0m \u001b[38;5;124;03mAccepts any Mapping (e.g. dict, multidict.MultiDict instances)\u001b[39;00m\n\u001b[0;32m   (...)\u001b[0m\n\u001b[1;32m    973\u001b[0m \n\u001b[1;32m    974\u001b[0m \u001b[38;5;124;03m\"\"\"\u001b[39;00m\n\u001b[1;32m    975\u001b[0m \u001b[38;5;66;03m# N.B. doesn't cleanup query/fragment\u001b[39;00m\n\u001b[0;32m--> 977\u001b[0m new_query \u001b[38;5;241m=\u001b[39m \u001b[38;5;28;43mself\u001b[39;49m\u001b[38;5;241;43m.\u001b[39;49m\u001b[43m_get_str_query\u001b[49m\u001b[43m(\u001b[49m\u001b[38;5;241;43m*\u001b[39;49m\u001b[43margs\u001b[49m\u001b[43m,\u001b[49m\u001b[43m \u001b[49m\u001b[38;5;241;43m*\u001b[39;49m\u001b[38;5;241;43m*\u001b[39;49m\u001b[43mkwargs\u001b[49m\u001b[43m)\u001b[49m\n\u001b[1;32m    978\u001b[0m \u001b[38;5;28;01mreturn\u001b[39;00m URL(\n\u001b[1;32m    979\u001b[0m     \u001b[38;5;28mself\u001b[39m\u001b[38;5;241m.\u001b[39m_val\u001b[38;5;241m.\u001b[39m_replace(path\u001b[38;5;241m=\u001b[39m\u001b[38;5;28mself\u001b[39m\u001b[38;5;241m.\u001b[39m_val\u001b[38;5;241m.\u001b[39mpath, query\u001b[38;5;241m=\u001b[39mnew_query), encoded\u001b[38;5;241m=\u001b[39m\u001b[38;5;28;01mTrue\u001b[39;00m\n\u001b[1;32m    980\u001b[0m )\n",
      "File \u001b[0;32m~/virtualenv/search-notebook-ext/lib/python3.9/site-packages/yarl/_url.py:938\u001b[0m, in \u001b[0;36mURL._get_str_query\u001b[0;34m(self, *args, **kwargs)\u001b[0m\n\u001b[1;32m    936\u001b[0m \u001b[38;5;28;01melif\u001b[39;00m \u001b[38;5;28misinstance\u001b[39m(query, Mapping):\n\u001b[1;32m    937\u001b[0m     quoter \u001b[38;5;241m=\u001b[39m \u001b[38;5;28mself\u001b[39m\u001b[38;5;241m.\u001b[39m_QUERY_PART_QUOTER\n\u001b[0;32m--> 938\u001b[0m     query \u001b[38;5;241m=\u001b[39m \u001b[38;5;124;43m\"\u001b[39;49m\u001b[38;5;124;43m&\u001b[39;49m\u001b[38;5;124;43m\"\u001b[39;49m\u001b[38;5;241;43m.\u001b[39;49m\u001b[43mjoin\u001b[49m\u001b[43m(\u001b[49m\u001b[38;5;28;43mself\u001b[39;49m\u001b[38;5;241;43m.\u001b[39;49m\u001b[43m_query_seq_pairs\u001b[49m\u001b[43m(\u001b[49m\u001b[43mquoter\u001b[49m\u001b[43m,\u001b[49m\u001b[43m \u001b[49m\u001b[43mquery\u001b[49m\u001b[38;5;241;43m.\u001b[39;49m\u001b[43mitems\u001b[49m\u001b[43m(\u001b[49m\u001b[43m)\u001b[49m\u001b[43m)\u001b[49m\u001b[43m)\u001b[49m\n\u001b[1;32m    939\u001b[0m \u001b[38;5;28;01melif\u001b[39;00m \u001b[38;5;28misinstance\u001b[39m(query, \u001b[38;5;28mstr\u001b[39m):\n\u001b[1;32m    940\u001b[0m     query \u001b[38;5;241m=\u001b[39m \u001b[38;5;28mself\u001b[39m\u001b[38;5;241m.\u001b[39m_QUERY_QUOTER(query)\n",
      "File \u001b[0;32m~/virtualenv/search-notebook-ext/lib/python3.9/site-packages/yarl/_url.py:901\u001b[0m, in \u001b[0;36mURL._query_seq_pairs\u001b[0;34m(cls, quoter, pairs)\u001b[0m\n\u001b[1;32m    899\u001b[0m         \u001b[38;5;28;01myield\u001b[39;00m quoter(key) \u001b[38;5;241m+\u001b[39m \u001b[38;5;124m\"\u001b[39m\u001b[38;5;124m=\u001b[39m\u001b[38;5;124m\"\u001b[39m \u001b[38;5;241m+\u001b[39m quoter(\u001b[38;5;28mcls\u001b[39m\u001b[38;5;241m.\u001b[39m_query_var(v))\n\u001b[1;32m    900\u001b[0m \u001b[38;5;28;01melse\u001b[39;00m:\n\u001b[0;32m--> 901\u001b[0m     \u001b[38;5;28;01myield\u001b[39;00m quoter(key) \u001b[38;5;241m+\u001b[39m \u001b[38;5;124m\"\u001b[39m\u001b[38;5;124m=\u001b[39m\u001b[38;5;124m\"\u001b[39m \u001b[38;5;241m+\u001b[39m quoter(\u001b[38;5;28;43mcls\u001b[39;49m\u001b[38;5;241;43m.\u001b[39;49m\u001b[43m_query_var\u001b[49m\u001b[43m(\u001b[49m\u001b[43mval\u001b[49m\u001b[43m)\u001b[49m)\n",
      "File \u001b[0;32m~/virtualenv/search-notebook-ext/lib/python3.9/site-packages/yarl/_url.py:916\u001b[0m, in \u001b[0;36mURL._query_var\u001b[0;34m(v)\u001b[0m\n\u001b[1;32m    914\u001b[0m \u001b[38;5;28;01mif\u001b[39;00m \u001b[38;5;28missubclass\u001b[39m(\u001b[38;5;28mcls\u001b[39m, \u001b[38;5;28mint\u001b[39m) \u001b[38;5;129;01mand\u001b[39;00m \u001b[38;5;28mcls\u001b[39m \u001b[38;5;129;01mis\u001b[39;00m \u001b[38;5;129;01mnot\u001b[39;00m \u001b[38;5;28mbool\u001b[39m:\n\u001b[1;32m    915\u001b[0m     \u001b[38;5;28;01mreturn\u001b[39;00m \u001b[38;5;28mstr\u001b[39m(\u001b[38;5;28mint\u001b[39m(v))\n\u001b[0;32m--> 916\u001b[0m \u001b[38;5;28;01mraise\u001b[39;00m \u001b[38;5;167;01mTypeError\u001b[39;00m(\n\u001b[1;32m    917\u001b[0m     \u001b[38;5;124m\"\u001b[39m\u001b[38;5;124mInvalid variable type: value \u001b[39m\u001b[38;5;124m\"\u001b[39m\n\u001b[1;32m    918\u001b[0m     \u001b[38;5;124m\"\u001b[39m\u001b[38;5;124mshould be str, int or float, got \u001b[39m\u001b[38;5;132;01m{!r}\u001b[39;00m\u001b[38;5;124m \u001b[39m\u001b[38;5;124m\"\u001b[39m\n\u001b[1;32m    919\u001b[0m     \u001b[38;5;124m\"\u001b[39m\u001b[38;5;124mof type \u001b[39m\u001b[38;5;132;01m{}\u001b[39;00m\u001b[38;5;124m\"\u001b[39m\u001b[38;5;241m.\u001b[39mformat(v, \u001b[38;5;28mcls\u001b[39m)\n\u001b[1;32m    920\u001b[0m )\n",
      "\u001b[0;31mTypeError\u001b[0m: Invalid variable type: value should be str, int or float, got {'limit': [2], 'termsLimit': [3]} of type <class 'dict'>"
     ]
    }
   ],
   "source": [
    "resp = await api.autosuggest(q=\"restaura\", latitude=52, longitude=13, params={\"limit\": [2], \"termsLimit\":[3]}, session=session)\n",
    "resp.req.full"
   ]
  },
  {
   "cell_type": "code",
   "execution_count": null,
   "id": "7ebe5c74-9469-4593-99db-f8ded06d25ac",
   "metadata": {},
   "outputs": [],
   "source": [
    "resp.data"
   ]
  },
  {
   "cell_type": "code",
   "execution_count": null,
   "id": "9fa03844-4584-4b2a-ae93-9742450ae76e",
   "metadata": {},
   "outputs": [],
   "source": [
    "resp.terms"
   ]
  },
  {
   "cell_type": "code",
   "execution_count": 6,
   "id": "a5772d87-0cba-4c84-8aa4-acf7e726a40a",
   "metadata": {},
   "outputs": [
    {
     "data": {
      "text/plain": [
       "{'type': 'FeatureCollection',\n",
       " 'features': [{'type': 'Feature',\n",
       "   'geometry': {'type': 'Point', 'coordinates': [13.37691, 52.51604]},\n",
       "   'properties': {'title': 'Berlin, Deutschland', 'categories': None}}]}"
      ]
     },
     "execution_count": 6,
     "metadata": {},
     "output_type": "execute_result"
    }
   ],
   "source": [
    "resp.geojson()"
   ]
  },
  {
   "cell_type": "markdown",
   "id": "70cae96a-ec74-4592-87b8-06a2ae0c1002",
   "metadata": {},
   "source": [
    "## Suggestions for a growing query\n",
    "\n",
    "Autosuggest is made to help end-user to quickly formulate a query.\n",
    "\n",
    "\n",
    "It is recommended to use Autosuggest response items `resulType` field to decide what to do in case of user selection. The selection of a `chainQuery` or `categoryQuery` result should lead to a GET of the `href` field value. Other selections should lead to a call to `/lookup` using the `id` field value. \n",
    "Note that the `resulType` field can be used to render results differently. For example, a <img src=\"https://upload.wikimedia.org/wikipedia/commons/2/2b/Font_Awesome_5_solid_search.svg\" style=\"width:12px\"/> can be used to signal a `chainQuery` or `categoryQuery`.\n",
    "\n",
    "The following snippet sends an Autosuggest request for each additional character of the query \"restaurant hamburg\" a hypothetic user intends to type to get restaurants near the German city of Hamburg. Only each response **first result** is displayed: "
   ]
  },
  {
   "cell_type": "code",
   "execution_count": 7,
   "id": "5db1262c-1815-44a2-a9be-c67377ca58f8",
   "metadata": {},
   "outputs": [
    {
     "name": "stdout",
     "output_type": "stream",
     "text": [
      "#  query                     resultType         id                                                                title         \n",
      "1  'r'                       administrativeArea here:cm:namedplace:20181414                                       Regensburg (Landkreis) (R), Bavaria, Germany\n",
      "2  're'                      locality           here:cm:namedplace:20180814                                       Regensburg, Bavaria, Germany\n",
      "3  'res'                     place              here:pds:place:276u31cx-e4c2ca2261114bf6a060240e539aeb76          Königstein Fortress (Restauration Festung)\n",
      "4  'rest'                    categoryQuery      here:cm:ontology:restaurant                                       Restaurant    \n",
      "5  'resta'                   categoryQuery      here:cm:ontology:restaurant                                       Restaurant    \n",
      "6  'restau'                  categoryQuery      here:cm:ontology:restaurant                                       Restaurant    \n",
      "7  'restaur'                 categoryQuery      here:cm:ontology:restaurant                                       Restaurant    \n",
      "8  'restaura'                categoryQuery      here:cm:ontology:restaurant                                       Restaurant    \n",
      "9  'restauran'               categoryQuery      here:cm:ontology:restaurant                                       Restaurant    \n",
      "10 'restaurant'              categoryQuery      here:cm:ontology:restaurant                                       Restaurant    \n",
      "11 'restaurant '             categoryQuery      here:cm:ontology:restaurant                                       Restaurant    \n",
      "12 'restaurant h'            place              here:pds:place:276u33db-cc50ca74bc7e4e19a646a85abd9ca9ee          Adlon Kempinski Berlin (Hotel Adlon Kempinski)\n",
      "13 'restaurant ha'           place              here:pds:place:276u30vw-9aa75f80605e4281ae9bb7b985e5c633          Gasthof Hammermuhle (Restaurant Hammermühle)\n",
      "14 'restaurant ham'          place              here:pds:place:276u30vw-9aa75f80605e4281ae9bb7b985e5c633          Gasthof Hammermuhle (Restaurant Hammermühle)\n",
      "15 'restaurant hamb'         categoryQuery      here:cm:ontology:restaurant-here:cm:namedplace:20151516           Restaurant near Hamburg, Germany\n",
      "16 'restaurant hambu'        categoryQuery      here:cm:ontology:restaurant-here:cm:namedplace:20151516           Restaurant near Hamburg, Germany\n",
      "17 'restaurant hambur'       categoryQuery      here:cm:ontology:restaurant-here:cm:namedplace:20151516           Restaurant near Hamburg, Germany\n",
      "18 'restaurant hamburg'      categoryQuery      here:cm:ontology:restaurant-here:cm:namedplace:20151516           Restaurant near Hamburg, Germany\n"
     ]
    }
   ],
   "source": [
    "q = \"restaurant hamburg\"\n",
    "\n",
    "template = \"{:<2} {:<25} {:<18} {:<65} {:<14}\"\n",
    "print(template.format(\"#\", \"query\", \"resultType\", \"id\", \"title\"))\n",
    "for i in range(len(q)):\n",
    "    resp = await api.autosuggest(q=q[:i+1], latitude=52, longitude=13,  lang=\"en\", limit=1, session=session)\n",
    "    item = resp.data[\"items\"][0]\n",
    "    print(template.format(i+1, f\"'{q[:i+1]}'\", item['resultType'], item['id'][:60], item['title']))"
   ]
  },
  {
   "cell_type": "markdown",
   "id": "3829230e-43c1-4e4e-8441-1bac40ec8381",
   "metadata": {},
   "source": [
    "If the end-user was actually typing the query \"restaurant\", the suggestion of `id` value `here:cm:taxonomy:restaurant` returned for the 4-letter query \"rest\" could be selected to trigger the related `href` query. But the end-user needs to continue typing untill \"restaurants ham\" to get the suggestion titled \"Restaurants near Hamburg, Germany\".\n",
    "\n",
    "## Terms suggestions\n",
    "\n",
    "To further help end-user to formulate such a long query, Autosuggest also returns predictive text for the query last token while it is being typed. Those suggested terms are in the response `queryTerms` when the request contains a positive `termsLimit` parameter. In the snippet below, 3 last token suggestiosn are returned per response:"
   ]
  },
  {
   "cell_type": "code",
   "execution_count": 8,
   "id": "b8a9bc0d-6725-4edb-9de3-9ada83312246",
   "metadata": {},
   "outputs": [
    {
     "name": "stdout",
     "output_type": "stream",
     "text": [
      "#  query                     terms                                  title         \n",
      "1  'r'                                                              Regensburg (Landkreis) (R), Bavaria, Germany\n",
      "2  're'                      Regensburg                             Regensburg, Bavaria, Germany\n",
      "3  'res'                     Restauration,Restaurant,Resort         Königstein Fortress (Restauration Festung)\n",
      "4  'rest'                    Restaurant                             Restaurant    \n",
      "5  'resta'                   Restaurant                             Restaurant    \n",
      "6  'restau'                  Restaurant                             Restaurant    \n",
      "7  'restaur'                 Restaurant                             Restaurant    \n",
      "8  'restaura'                Restaurant                             Restaurant    \n",
      "9  'restauran'               Restaurant                             Restaurant    \n",
      "10 'restaurant'                                                     Restaurant    \n",
      "11 'restaurant '                                                    Restaurant    \n",
      "12 'restaurant h'            Hotel ,Hanover,Hopfingerbräu           Adlon Kempinski Berlin (Hotel Adlon Kempinski)\n",
      "13 'restaurant ha'           Hammermühle,Havelgarten,Hafthorn       Gasthof Hammermuhle (Restaurant Hammermühle)\n",
      "14 'restaurant ham'          Hammermühle,Hamburg,Hammers            Gasthof Hammermuhle (Restaurant Hammermühle)\n",
      "15 'restaurant hamb'         Hamburg,Hamburger ,Hambacher           Restaurant near Hamburg, Germany\n",
      "16 'restaurant hambu'        Hamburg,Hamburger ,Hamburger           Restaurant near Hamburg, Germany\n",
      "17 'restaurant hambur'       Hamburg,Hamburger ,Hamburger           Restaurant near Hamburg, Germany\n",
      "18 'restaurant hamburg'                                             Restaurant near Hamburg, Germany\n"
     ]
    }
   ],
   "source": [
    "template = \"{:<2} {:<25} {:<38} {:<14}\"\n",
    "print(template.format(\"#\", \"query\", \"terms\", \"title\"))\n",
    "for i in range(len(q)):\n",
    "    resp = await api.autosuggest(q=q[:i+1], latitude=52, longitude=13, lang=\"en\", limit=1, termsLimit=3, session=session)\n",
    "    item = resp.data[\"items\"][0]\n",
    "    terms = \",\".join(t[\"term\"] for t in resp.data[\"queryTerms\"])\n",
    "    print(template.format(i+1, f\"'{q[:i+1]}'\", terms, item['title']))"
   ]
  },
  {
   "cell_type": "markdown",
   "id": "3af70809-462f-432d-a752-6f0f901b8fc2",
   "metadata": {},
   "source": [
    "When presented to the end-user to replace the last token in the query, `queryTerms` can significantly speed-up the query submission. In the previous interaction, the use of the token \"Restaurant\" returned for the \"res\" query, would have led to the series of 8 queries instead of 14: \"r\", \"re\", \"res\", \"restaurant\", \"restaurant \", \"restaurant h\", \"restaurant ha\", \"restaurant hamburg\"."
   ]
  },
  {
   "cell_type": "code",
   "execution_count": 9,
   "id": "aa5203d6-686a-4e16-9126-78ddc6f32cd6",
   "metadata": {},
   "outputs": [
    {
     "name": "stdout",
     "output_type": "stream",
     "text": [
      "#  query                     terms                                  title         \n",
      "1  'r'                                                              Regensburg (Landkreis) (R), Bavaria, Germany\n",
      "2  're'                      Regensburg                             Regensburg, Bavaria, Germany\n",
      "3  'res'                     Restauration,Restaurant,Resort         Königstein Fortress (Restauration Festung)\n",
      "4  'restaurant'                                                     Restaurant    \n",
      "5  'restaurant '                                                    Restaurant    \n",
      "6  'restaurant h'            Hotel ,Hanover,Hopfingerbräu           Adlon Kempinski Berlin (Hotel Adlon Kempinski)\n",
      "7  'restaurant ha'           Hammermühle,Havelgarten,Hafthorn       Gasthof Hammermuhle (Restaurant Hammermühle)\n",
      "8  'restaurant hamburg'                                             Restaurant near Hamburg, Germany\n"
     ]
    }
   ],
   "source": [
    "template = \"{:<2} {:<25} {:<38} {:<14}\"\n",
    "print(template.format(\"#\", \"query\", \"terms\", \"title\"))\n",
    "qs = [\"r\", \"re\", \"res\", \"restaurant\", \"restaurant \", \"restaurant h\", \"restaurant ha\", \"restaurant hamburg\"]\n",
    "for i, q in enumerate(qs):\n",
    "    resp = await api.autosuggest(q=q, latitude=52, longitude=13, lang=\"en\", limit=1, termsLimit=3, session=session)\n",
    "    item = resp.data[\"items\"][0]\n",
    "    terms = \",\".join(t[\"term\"] for t in resp.data[\"queryTerms\"])\n",
    "    print(template.format(i+1, f\"'{q}'\", terms, item['title']))"
   ]
  },
  {
   "cell_type": "code",
   "execution_count": null,
   "id": "ddcc7020-cea0-4588-a5bb-814a2795dc52",
   "metadata": {},
   "outputs": [],
   "source": []
  }
 ],
 "metadata": {
  "celltoolbar": "Slideshow",
  "kernelspec": {
   "display_name": "search demo",
   "language": "python",
   "name": "search_demo"
  },
  "language_info": {
   "codemirror_mode": {
    "name": "ipython",
    "version": 3
   },
   "file_extension": ".py",
   "mimetype": "text/x-python",
   "name": "python",
   "nbconvert_exporter": "python",
   "pygments_lexer": "ipython3",
   "version": "3.9.7"
  }
 },
 "nbformat": 4,
 "nbformat_minor": 5
}
