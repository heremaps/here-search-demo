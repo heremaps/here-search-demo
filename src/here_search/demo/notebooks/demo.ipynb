{
 "cells": [
  {
   "cell_type": "markdown",
   "id": "8675ea98-8e7a-4fc0-a94d-722ab122c768",
   "metadata": {},
   "source": [
    "## HERE api key\n",
    "\n",
    "To use HERE search demo, you need a [HERE API key][1]. This key will be stored in the browser site data and used to authenticate against the [HERE Geocoding and Search][2] API. Clearing the browser cache removes the key.\n",
    "\n",
    "Note that the HERE Base Plan [pricing][3] allows you to get started for free.\n",
    "\n",
    "\n",
    " [1]: https://www.here.com/docs/bundle/geocoding-and-search-api-developer-guide/page/topics/quick-start.html#get-an-api-key\n",
    " [2]: https://www.here.com/docs/category/geocoding-search-v7\n",
    " [3]: https://www.here.com/get-started/pricing"
   ]
  },
  {
   "cell_type": "code",
   "execution_count": null,
   "id": "717d9c13-684f-4ef9-8045-09624217caeb",
   "metadata": {
    "tags": []
   },
   "outputs": [],
   "source": [
    "api_key = \"<YOUR HERE API KEY>\""
   ]
  },
  {
   "cell_type": "code",
   "execution_count": null,
   "id": "aa427bf6-ac98-4553-9c6c-20df3f044a63",
   "metadata": {},
   "outputs": [],
   "source": [
    "try:\n",
    "    import piplite\n",
    "    await piplite.install([\"ipywidgets==8.1.3\", \"ipyleaflet==0.19.1\", \"emfs:here_search_demo-0.9.5-py3-none-any.whl\"], keep_going=True)\n",
    "except ImportError:\n",
    "    pass"
   ]
  },
  {
   "cell_type": "markdown",
   "id": "712c9ba7-62a7-4795-9a5e-7cdfb320bb1c",
   "metadata": {
    "slideshow": {
     "slide_type": "slide"
    },
    "tags": []
   },
   "source": [
    "# OneBoxMap\n",
    "\n",
    "`OneBoxMap` is a demo application showing how [HERE Geocoding and Search](https://www.here.com/docs/category/geocoding-search-v7) following endpoints are meant to be used: `/autosuggest`, `/discover`, `/browse`, `/lookup`."
   ]
  },
  {
   "cell_type": "code",
   "execution_count": null,
   "id": "54d57978-5cc6-40f1-aeda-04f49656b719",
   "metadata": {
    "scrolled": true,
    "slideshow": {
     "slide_type": "-"
    },
    "tags": []
   },
   "outputs": [],
   "source": [
    "from here_search.demo.widgets.app import OneBoxMap\n",
    "app = OneBoxMap(api_key=api_key)\n",
    "app.run()"
   ]
  },
  {
   "cell_type": "code",
   "execution_count": null,
   "id": "691e81e5-064c-44ee-b3df-8e5f18f8f31f",
   "metadata": {
    "tags": []
   },
   "outputs": [],
   "source": [
    "if False: # change to True to delete the app resources\n",
    "    app.__del__()"
   ]
  },
  {
   "cell_type": "markdown",
   "id": "9924f7b8-e3e2-44ac-9ce2-dfca00211104",
   "metadata": {},
   "source": [
    "Features:\n",
    "\n",
    "- The app  \n",
    "    - proposes a single text form to formulate queries\n",
    "    - displays three buttons with predicted last token text completions\n",
    "    - displays all API calls in a separate window\n",
    "    - displays search results on a map and a list\n",
    "    - supports location-aware language preferences\n",
    "<br/>\n",
    "- `/autosuggest` endpoint is called for each key-stroke.\n",
    "    - Follow-up query suggestions are displayed in the list only\n",
    "    - Location suggestions are displayed in the list and on the map\n",
    "    - Query term suggestions are displayed in three buttons\n",
    "    - Selected locations lead to a call to `/lookup` using the location record `id`.\n",
    "    - Selected query suggestions lead to call to a http GET using the response `href` value\n",
    "<br/>\n",
    "- `/discover` endpoint is called when a query submission is validated.\n",
    "    - Validation happens when the [return] key or the <img src=\"https://upload.wikimedia.org/wikipedia/commons/2/2b/Font_Awesome_5_solid_search.svg\" style=\"width:12px\"/> button are hit\n",
    "    - Location results are displayed in the list and on the map\n",
    "    - Selected results lead to a call to `/lookup` using the location record `id`.\n",
    "- `/browse` endpoint is called when a place taxonomy button is selected.\n",
    "    - Location results are displayed in the list and on the map\n",
    "    - Selected results lead to a call to `/lookup` using the location record `id`.\n",
    "<br/>\n",
    "- `/autosuggest`, `/discover` and `/browse` requests are sent using the map center as search center\n",
    "- Search requests are cached during the lifetime of the application\n",
    "\n",
    "\n",
    "<!-- https://commons.wikimedia.org/wiki/File:Font_Awesome_5_solid_search.svg -->"
   ]
  },
  {
   "cell_type": "code",
   "execution_count": null,
   "id": "f36fb223-235c-4aaa-8fc1-066423a0fc72",
   "metadata": {},
   "outputs": [],
   "source": []
  }
 ],
 "metadata": {
  "celltoolbar": "Slideshow",
  "kernelspec": {
   "display_name": "Python 3 (ipykernel)",
   "language": "python",
   "name": "python3"
  },
  "language_info": {
   "codemirror_mode": {
    "name": "ipython",
    "version": 3
   },
   "file_extension": ".py",
   "mimetype": "text/x-python",
   "name": "python",
   "nbconvert_exporter": "python",
   "pygments_lexer": "ipython3",
   "version": "3.12.1"
  },
  "toc-autonumbering": false,
  "toc-showcode": false,
  "toc-showmarkdowntxt": false
 },
 "nbformat": 4,
 "nbformat_minor": 5
}
