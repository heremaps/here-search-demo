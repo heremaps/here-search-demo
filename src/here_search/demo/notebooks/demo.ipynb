{
 "cells": [
  {
   "cell_type": "code",
   "execution_count": 1,
   "id": "717d9c13-684f-4ef9-8045-09624217caeb",
   "metadata": {
    "execution": {
     "iopub.execute_input": "2023-08-27T06:21:17.712109Z",
     "iopub.status.busy": "2023-08-27T06:21:17.711721Z",
     "iopub.status.idle": "2023-08-27T06:21:17.720263Z",
     "shell.execute_reply": "2023-08-27T06:21:17.719483Z",
     "shell.execute_reply.started": "2023-08-27T06:21:17.712072Z"
    }
   },
   "outputs": [],
   "source": [
    "try:\n",
    "    import piplite\n",
    "    await piplite.install([\"ipywidgets==8.1.0\", \"ipyleaflet==0.17.3\", \"emfs:here_search_demo-0.9.0-py3-none-any.whl\"], keep_going=True)\n",
    "    api_key = \"tIEID-Z-ogljOD83iQO6JiHbGtn9lyFmt0srqjIRtao\"\n",
    "except ImportError:\n",
    "    api_key = None"
   ]
  },
  {
   "cell_type": "markdown",
   "id": "712c9ba7-62a7-4795-9a5e-7cdfb320bb1c",
   "metadata": {
    "slideshow": {
     "slide_type": "slide"
    },
    "tags": []
   },
   "source": [
    "# OneBoxMap\n",
    "\n",
    "\n",
    "`OneBoxMap` is a demo application showing how [HERE Geocoding and Search](https://developer.here.com/documentation/geocoding-search-api/dev_guide/topics/endpoint-autosuggest-brief.html) following endpoints are meant to be used: `/autosuggest`, `/discover`, `/browse`, `/lookup`\n",
    "- The app  \n",
    "    - proposes a single text form to formulate queries\n",
    "    - displays three buttons with predicted last token text completions\n",
    "    - displays all API calls in a separate window\n",
    "    - displays search results on a map and a list\n",
    "    - supports location-aware language preferences\n",
    "<br/>\n",
    "- `/autosuggest` endpoint is called for each key-stroke.\n",
    "    - Follow-up query suggestions are displayed in the list only\n",
    "    - Location suggestions are displayed in the list and on the map\n",
    "    - Query term suggestions are displayed in three buttons\n",
    "    - Selected locations lead to a call to `/lookup` using the location record `id`.\n",
    "    - Selected query suggestions lead to call to a http GET using the response `href` value\n",
    "<br/>\n",
    "- `/discover` endpoint is called when a query submission is validated.\n",
    "    - Validation happens when the [return] key or the <img src=\"https://upload.wikimedia.org/wikipedia/commons/2/2b/Font_Awesome_5_solid_search.svg\" style=\"width:12px\"/> button are hit\n",
    "    - Location results are displayed in the list and on the map\n",
    "    - Selected results lead to a call to `/lookup` using the location record `id`.\n",
    "- `/browse` endpoint is called when a place taxonomy button is selected.\n",
    "    - Location results are displayed in the list and on the map\n",
    "    - Selected results lead to a call to `/lookup` using the location record `id`.\n",
    "<br/>\n",
    "- `/autosuggest`, `/discover` and `/browse` requests are sent using the map center as search center\n",
    "- Search requests are cached during the lifetime of the application\n",
    "\n",
    "\n",
    "<!-- https://commons.wikimedia.org/wiki/File:Font_Awesome_5_solid_search.svg -->"
   ]
  },
  {
   "cell_type": "code",
   "execution_count": 2,
   "id": "54d57978-5cc6-40f1-aeda-04f49656b719",
   "metadata": {
    "execution": {
     "iopub.execute_input": "2023-08-27T06:21:20.551008Z",
     "iopub.status.busy": "2023-08-27T06:21:20.550682Z",
     "iopub.status.idle": "2023-08-27T06:21:21.494558Z",
     "shell.execute_reply": "2023-08-27T06:21:21.493874Z",
     "shell.execute_reply.started": "2023-08-27T06:21:20.550982Z"
    },
    "slideshow": {
     "slide_type": "-"
    },
    "tags": []
   },
   "outputs": [
    {
     "data": {
      "application/vnd.jupyter.widget-view+json": {
       "model_id": "f4bf8cac998a45a6a65fd2e60884116d",
       "version_major": 2,
       "version_minor": 0
      },
      "text/plain": [
       "HTML(value='<style>.result-button div, .result-button button { font-size: 10px; }</style>')"
      ]
     },
     "metadata": {},
     "output_type": "display_data"
    },
    {
     "data": {
      "application/vnd.jupyter.widget-view+json": {
       "model_id": "08004b6e14424f40aee4b11c609214f1",
       "version_major": 2,
       "version_minor": 0
      },
      "text/plain": [
       "OneBoxMap(children=(HBox(children=(ResponseMap(center=[52.51604, 13.37691], controls=(AttributionControl(optio…"
      ]
     },
     "metadata": {},
     "output_type": "display_data"
    }
   ],
   "source": [
    "from here_search.demo.widgets.app import OneBoxMap\n",
    "app = OneBoxMap(api_key=api_key)\n",
    "app.run()"
   ]
  },
  {
   "cell_type": "code",
   "execution_count": null,
   "id": "691e81e5-064c-44ee-b3df-8e5f18f8f31f",
   "metadata": {
    "tags": []
   },
   "outputs": [],
   "source": [
    "app.__del__()"
   ]
  },
  {
   "cell_type": "code",
   "execution_count": null,
   "id": "23683ade-0f98-407f-b1ab-a60b2d777760",
   "metadata": {},
   "outputs": [],
   "source": []
  }
 ],
 "metadata": {
  "celltoolbar": "Slideshow",
  "kernelspec": {
   "display_name": "search demo",
   "language": "python",
   "name": "search_demo"
  },
  "language_info": {
   "codemirror_mode": {
    "name": "ipython",
    "version": 3
   },
   "file_extension": ".py",
   "mimetype": "text/x-python",
   "name": "python",
   "nbconvert_exporter": "python",
   "pygments_lexer": "ipython3",
   "version": "3.11.3"
  },
  "toc-autonumbering": false,
  "toc-showcode": false,
  "toc-showmarkdowntxt": false
 },
 "nbformat": 4,
 "nbformat_minor": 5
}
