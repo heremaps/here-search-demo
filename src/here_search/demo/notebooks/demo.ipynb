{
 "cells": [
  {
   "cell_type": "code",
   "execution_count": null,
   "id": "aa427bf6-ac98-4553-9c6c-20df3f044a63",
   "metadata": {},
   "outputs": [],
   "source": [
    "from _install import install\n",
    "await install()"
   ]
  },
  {
   "cell_type": "markdown",
   "id": "712c9ba7-62a7-4795-9a5e-7cdfb320bb1c",
   "metadata": {
    "slideshow": {
     "slide_type": "slide"
    },
    "tags": []
   },
   "source": [
    "## HERE api key\n",
    "\n",
    "Edit `demo-config.json` and add your [HERE API key][1]. This key will stay in browser data store as long as you do not clear it. Note that the HERE Base Plan [pricing][3] allows you to get started for free.\n",
    "\n",
    "\n",
    " [1]: https://www.here.com/docs/bundle/geocoding-and-search-api-developer-guide/page/topics/quick-start.html#get-an-api-key\n",
    " [2]: https://www.here.com/docs/category/geocoding-search-v7\n",
    " [3]: https://www.here.com/get-started/pricing"
   ]
  },
  {
   "cell_type": "code",
   "execution_count": null,
   "id": "54d57978-5cc6-40f1-aeda-04f49656b719",
   "metadata": {
    "slideshow": {
     "slide_type": "-"
    },
    "tags": []
   },
   "outputs": [],
   "source": [
    "from here_search.demo.widgets.app import OneBoxMap\n",
    "\n",
    "app = OneBoxMap()\n",
    "app.run()"
   ]
  },
  {
   "cell_type": "markdown",
   "id": "9924f7b8-e3e2-44ac-9ce2-dfca00211104",
   "metadata": {},
   "source": [
    "# OneBoxMap\n",
    "\n",
    "`OneBoxMap` is a demo application showing an example about how [HERE Geocoding and Search](https://www.here.com/docs/category/geocoding-search-v7) services can be used.\n",
    "\n",
    "The app  \n",
    "  - proposes a single text form to formulate queries\n",
    "  - displays three buttons with predicted last token text completions\n",
    "  - displays all API calls in a separate window\n",
    "  - displays search results on a map and a list\n",
    "  - supports location-aware language preferences\n",
    "\n",
    "Autosuggest service is used for each key-stroke.\n",
    "  - Follow-up query suggestions are displayed in the list only\n",
    "  - Location suggestions are displayed in the list and on the map\n",
    "  - Query term suggestions are displayed in three buttons\n",
    "  - Selected locations lead to a call to the Lookup service using the location record `id`.\n",
    "  - Selected query suggestions lead to call to a http GET using the response `href` value\n",
    "\n",
    "Discover service is used when a query submission is validated.\n",
    "  - Validation happens when the [return] key or the <img src=\"https://upload.wikimedia.org/wikipedia/commons/2/2b/Font_Awesome_5_solid_search.svg\" style=\"width:12px\"/> button are hit\n",
    "  - Location results are displayed in the list and on the map\n",
    "  - Selected results lead to a call to the Lookup service using the location record `id`.\n",
    "    \n",
    "Browse service is used when a place taxonomy button is selected.\n",
    "  - Location results are displayed in the list and on the map\n",
    "  - Selected results lead to a call to the Lookup service using the location record `id`.\n",
    "\n",
    "The center of the map is used as search center. Search requests are cached during the lifetime of the application\n",
    "\n",
    "\n",
    "<!-- https://commons.wikimedia.org/wiki/File:Font_Awesome_5_solid_search.svg -->"
   ]
  },
  {
   "cell_type": "code",
   "execution_count": null,
   "id": "691e81e5-064c-44ee-b3df-8e5f18f8f31f",
   "metadata": {
    "tags": []
   },
   "outputs": [],
   "source": [
    "if False:  # change to True to delete the app resources\n",
    "    app.__del__()"
   ]
  },
  {
   "cell_type": "markdown",
   "id": "9485f4a7-5a59-4a98-a036-711517804242",
   "metadata": {},
   "source": [
    "<!--\n",
    "from urllib.parse import quote, unquote\n",
    "svg = \"\"\"<svg width=\"40\" height=\"48\" viewBox=\"0 0 40 48\" fill=\"none\" xmlns=\"http://www.w3.org/2000/svg\"><path class=\"triangle\" d=\"M11,36.8l-5.5,5.5L0,36.8H11z\" fill=\"#48DAD0\"></path><path class=\"HERE\" d=\"M19.1,24.2c-1.2-1.4-1.1-2.1-0.4-2.8c0.9-0.9,1.7-0.5,2.7,0.5L19.1,24.2z M30.9,9.2c0.9-0.9,1.7-0.5,2.7,0.5\n",
    "    L31.3,12C30.1,10.7,30.2,9.9,30.9,9.2z M38,11.6c-1.1,1.6-2.9,4.2-4.9,2.2l5-5c-0.4-0.5-0.8-0.9-1-1.1c-2.7-2.7-5.7-2.7-8-0.4\n",
    "\tc-1.6,1.6-2,3.4-1.5,5.1l-1.6-1.8c-0.5,0.3-2.4,1.9-0.9,4.5l-1.8-1.5l-2.4,2.4l3.2,3.2c-2.5-1.9-5.1-1.8-7.2,0.4\n",
    "\tc-2.3,2.3-2.1,5-0.4,7.3l-0.3-0.3c-2.3-2.3-4.7-1.5-5.9-0.3c-0.9,0.9-1.5,2.2-1.3,3.1L4,24.6l-2.6,2.6l9.6,9.6h5.2l-3.5-3.5\n",
    "\tc-1.8-1.8-1.8-2.8-1-3.7c0.8-0.8,1.8-0.3,3.6,1.4l3.4,3.4l2.6-2.6l-3.2-3.2c2.3,1.8,5.1,1.9,7.7-0.6l0,0c1.5-1.4,2-2.8,2-2.8\n",
    "\tl-1.9-1.3c-1.1,1.6-2.9,4.2-4.9,2.3l5-5l3.1,3.1l2.7-2.7l-3.9-3.9c-1.8-1.8-0.7-3.5,0-4.1c0.4,0.7,0.9,1.5,1.5,2.1\n",
    "\tc2.5,2.5,5.7,3,8.6,0.2l0,0c1.5-1.4,2-2.8,2-2.8S38,11.6,38,11.6z\" fill=\"#000000\"></path></svg>\n",
    "\"\"\"\n",
    "print(f\"\"\"![HERE](data:image/svg+xml,{quote(svg)})\n",
    "<span style=\"float:right; width:90%;\"><sub><b>Copyright (c) 2020-2025 HERE Global B.V. and its affiliate(s). All rights reserved.</b>\n",
    "This software, including documentation, is protected by copyright controlled by HERE. All rights are reserved. Copying, including reproducing, \n",
    "storing, adapting or translating, any or all of this material requires the prior written consent of HERE. This material also contains confidential \n",
    "information which may not be disclosed to others without the prior written consent of HERE.</sub></span>\"\"\")\n",
    "-->\n",
    "![HERE](data:image/svg+xml,%3Csvg%20width%3D%2240%22%20height%3D%2248%22%20viewBox%3D%220%200%2040%2048%22%20fill%3D%22none%22%20xmlns%3D%22http%3A//www.w3.org/2000/svg%22%3E%3Cpath%20class%3D%22triangle%22%20d%3D%22M11%2C36.8l-5.5%2C5.5L0%2C36.8H11z%22%20fill%3D%22%2348DAD0%22%3E%3C/path%3E%3Cpath%20class%3D%22HERE%22%20d%3D%22M19.1%2C24.2c-1.2-1.4-1.1-2.1-0.4-2.8c0.9-0.9%2C1.7-0.5%2C2.7%2C0.5L19.1%2C24.2z%20M30.9%2C9.2c0.9-0.9%2C1.7-0.5%2C2.7%2C0.5%0A%20%20%20%20L31.3%2C12C30.1%2C10.7%2C30.2%2C9.9%2C30.9%2C9.2z%20M38%2C11.6c-1.1%2C1.6-2.9%2C4.2-4.9%2C2.2l5-5c-0.4-0.5-0.8-0.9-1-1.1c-2.7-2.7-5.7-2.7-8-0.4%0A%09c-1.6%2C1.6-2%2C3.4-1.5%2C5.1l-1.6-1.8c-0.5%2C0.3-2.4%2C1.9-0.9%2C4.5l-1.8-1.5l-2.4%2C2.4l3.2%2C3.2c-2.5-1.9-5.1-1.8-7.2%2C0.4%0A%09c-2.3%2C2.3-2.1%2C5-0.4%2C7.3l-0.3-0.3c-2.3-2.3-4.7-1.5-5.9-0.3c-0.9%2C0.9-1.5%2C2.2-1.3%2C3.1L4%2C24.6l-2.6%2C2.6l9.6%2C9.6h5.2l-3.5-3.5%0A%09c-1.8-1.8-1.8-2.8-1-3.7c0.8-0.8%2C1.8-0.3%2C3.6%2C1.4l3.4%2C3.4l2.6-2.6l-3.2-3.2c2.3%2C1.8%2C5.1%2C1.9%2C7.7-0.6l0%2C0c1.5-1.4%2C2-2.8%2C2-2.8%0A%09l-1.9-1.3c-1.1%2C1.6-2.9%2C4.2-4.9%2C2.3l5-5l3.1%2C3.1l2.7-2.7l-3.9-3.9c-1.8-1.8-0.7-3.5%2C0-4.1c0.4%2C0.7%2C0.9%2C1.5%2C1.5%2C2.1%0A%09c2.5%2C2.5%2C5.7%2C3%2C8.6%2C0.2l0%2C0c1.5-1.4%2C2-2.8%2C2-2.8S38%2C11.6%2C38%2C11.6z%22%20fill%3D%22%23000000%22%3E%3C/path%3E%3C/svg%3E%0A)\n",
    "<span style=\"float:right; width:90%;\"><sub><b>Copyright (c) 2020-2025 HERE Global B.V. and its affiliate(s). All rights reserved.</b>\n",
    "This software, including documentation, is protected by copyright controlled by HERE. All rights are reserved. Copying, including reproducing, \n",
    "storing, adapting or translating, any or all of this material requires the prior written consent of HERE. This material also contains confidential \n",
    "information which may not be disclosed to others without the prior written consent of HERE.</sub></span>\n"
   ]
  }
 ],
 "metadata": {
  "celltoolbar": "Slideshow",
  "kernelspec": {
   "display_name": "Python 3 (ipykernel)",
   "language": "python",
   "name": "python3"
  },
  "language_info": {
   "codemirror_mode": {
    "name": "ipython",
    "version": 3
   },
   "file_extension": ".py",
   "mimetype": "text/x-python",
   "name": "python",
   "nbconvert_exporter": "python",
   "pygments_lexer": "ipython3",
   "version": "3.12.1"
  },
  "toc-autonumbering": false,
  "toc-showcode": false,
  "toc-showmarkdowntxt": false
 },
 "nbformat": 4,
 "nbformat_minor": 5
}
