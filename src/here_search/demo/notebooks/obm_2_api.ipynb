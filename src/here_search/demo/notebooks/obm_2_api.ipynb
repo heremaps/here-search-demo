{
 "cells": [
  {
   "cell_type": "code",
   "execution_count": null,
   "id": "77ac7de0-8ebc-4686-87bf-a9e720cc79e4",
   "metadata": {},
   "outputs": [],
   "source": [
    "try:\n",
    "    import piplite\n",
    "    await piplite.install([\"ipywidgets==8.1.7\", \"ipyleaflet==0.20.0\", \"emfs:here_search_demo-0.10.0-py3-none-any.whl\"], keep_going=True)\n",
    "    api_key = \"<YOUR HERE API KEY>\"\n",
    "except ImportError:\n",
    "    api_key = None"
   ]
  },
  {
   "cell_type": "markdown",
   "id": "a312886c-007e-40e8-90a7-a215e1708ff5",
   "metadata": {
    "pycharm": {
     "name": "#%% md\n"
    },
    "slideshow": {
     "slide_type": "slide"
    },
    "tags": []
   },
   "source": [
    "## Browse and Derived place taxonomy\n",
    "\n",
    "`api.browse()` supports a set of places filters around [category](https://developer.here.com/documentation/geocoding-search-api/dev_guide/topics-places/places-category-system-full.html), [cusine](https://developer.here.com/documentation/geocoding-search-api/dev_guide/topics-places/food-types-category-system-full.html), [chain](https://developer.here.com/documentation/geocoding-search-api/dev_guide/topics-places/places-chain-system-full.html) IDs.\n",
    "\n",
    "For example, to get the nearby places with on of the category IDs `700-7600-0000` (Fueling Station), `700-7600-0116` (Petrol-Gasoline Station) or `700-7600-0444` (Hydrogen Fuel Station), on can send the following Browse request:"
   ]
  },
  {
   "cell_type": "code",
   "execution_count": null,
   "id": "a59dacb1-da0a-40ba-a8d0-736738c62333",
   "metadata": {
    "pycharm": {
     "name": "#%%\n"
    },
    "slideshow": {
     "slide_type": "-"
    },
    "tags": []
   },
   "outputs": [],
   "source": [
    "from here_search.demo.api import API, HTTPSession\n",
    "\n",
    "api = API(api_key=api_key)\n",
    "session = HTTPSession()\n",
    "resp = await api.browse(latitude=52, longitude=13, limit=4, \n",
    "                        categories=[\"700-7600-0000\", \"700-7600-0116\", \"700-7600-0444\"], session=session)\n",
    "resp.req.full"
   ]
  },
  {
   "cell_type": "code",
   "execution_count": null,
   "id": "da673fdb-baf9-41e0-9f32-b8e18436a579",
   "metadata": {},
   "outputs": [],
   "source": [
    "resp.titles"
   ]
  },
  {
   "cell_type": "markdown",
   "id": "70cae96a-ec74-4592-87b8-06a2ae0c1002",
   "metadata": {},
   "source": [
    "The place filters multi-values allows the support for simple derived ontologies. For example:"
   ]
  },
  {
   "cell_type": "code",
   "execution_count": null,
   "id": "5db1262c-1815-44a2-a9be-c67377ca58f8",
   "metadata": {},
   "outputs": [],
   "source": [
    "from here_search.demo.entity.place import PlaceTaxonomyExample\n",
    "from inspect import getsource\n",
    "from IPython.display import Code\n",
    "\n",
    "Code(getsource(PlaceTaxonomyExample))"
   ]
  },
  {
   "cell_type": "code",
   "execution_count": null,
   "id": "58c87605-eb8f-49eb-b9b8-b8e839610290",
   "metadata": {},
   "outputs": [],
   "source": [
    "resp = await api.browse(latitude=52, longitude=13, limit=4, **PlaceTaxonomyExample.taxonomy.pizza.mapping, session=session)\n",
    "display(resp.req.full)\n",
    "resp.titles"
   ]
  },
  {
   "cell_type": "markdown",
   "id": "9fdd149c-2865-415d-8e9b-850cd5cc6a86",
   "metadata": {},
   "source": [
    "## Request & Response objects\n",
    "\n",
    "The `api.get()` method is called by `api.browse()` and the other endpoint methods. It takes a `Request` object and returns a `Response` object."
   ]
  },
  {
   "cell_type": "code",
   "execution_count": null,
   "id": "b8a9bc0d-6725-4edb-9de3-9ada83312246",
   "metadata": {},
   "outputs": [],
   "source": [
    "from here_search.demo.entity.request import Endpoint, Request, Response\n",
    "from here_search.demo.api import base_url\n",
    "\n",
    "req = Request(Endpoint.REVGEOCODE, base_url[Endpoint.REVGEOCODE], {\"at\": \"52,13\", \"limit\": 1})\n",
    "await api.get(req, session)"
   ]
  },
  {
   "cell_type": "markdown",
   "id": "9b4543a6-7868-425a-bbe2-90a948c9dfb8",
   "metadata": {},
   "source": [
    "<!--\n",
    "from urllib.parse import quote, unquote\n",
    "svg = \"\"\"<svg width=\"40\" height=\"48\" viewBox=\"0 0 40 48\" fill=\"none\" xmlns=\"http://www.w3.org/2000/svg\"><path class=\"triangle\" d=\"M11,36.8l-5.5,5.5L0,36.8H11z\" fill=\"#48DAD0\"></path><path class=\"HERE\" d=\"M19.1,24.2c-1.2-1.4-1.1-2.1-0.4-2.8c0.9-0.9,1.7-0.5,2.7,0.5L19.1,24.2z M30.9,9.2c0.9-0.9,1.7-0.5,2.7,0.5\n",
    "    L31.3,12C30.1,10.7,30.2,9.9,30.9,9.2z M38,11.6c-1.1,1.6-2.9,4.2-4.9,2.2l5-5c-0.4-0.5-0.8-0.9-1-1.1c-2.7-2.7-5.7-2.7-8-0.4\n",
    "\tc-1.6,1.6-2,3.4-1.5,5.1l-1.6-1.8c-0.5,0.3-2.4,1.9-0.9,4.5l-1.8-1.5l-2.4,2.4l3.2,3.2c-2.5-1.9-5.1-1.8-7.2,0.4\n",
    "\tc-2.3,2.3-2.1,5-0.4,7.3l-0.3-0.3c-2.3-2.3-4.7-1.5-5.9-0.3c-0.9,0.9-1.5,2.2-1.3,3.1L4,24.6l-2.6,2.6l9.6,9.6h5.2l-3.5-3.5\n",
    "\tc-1.8-1.8-1.8-2.8-1-3.7c0.8-0.8,1.8-0.3,3.6,1.4l3.4,3.4l2.6-2.6l-3.2-3.2c2.3,1.8,5.1,1.9,7.7-0.6l0,0c1.5-1.4,2-2.8,2-2.8\n",
    "\tl-1.9-1.3c-1.1,1.6-2.9,4.2-4.9,2.3l5-5l3.1,3.1l2.7-2.7l-3.9-3.9c-1.8-1.8-0.7-3.5,0-4.1c0.4,0.7,0.9,1.5,1.5,2.1\n",
    "\tc2.5,2.5,5.7,3,8.6,0.2l0,0c1.5-1.4,2-2.8,2-2.8S38,11.6,38,11.6z\" fill=\"#000000\"></path></svg>\n",
    "\"\"\"\n",
    "print(f\"\"\"![HERE](data:image/svg+xml,{quote(svg)})\n",
    "<span style=\"float:right; width:90%;\"><sub><b>Copyright (c) 2020-2025 HERE Global B.V. and its affiliate(s). All rights reserved.</b>\n",
    "This software, including documentation, is protected by copyright controlled by HERE. All rights are reserved. Copying, including reproducing, \n",
    "storing, adapting or translating, any or all of this material requires the prior written consent of HERE. This material also contains confidential \n",
    "information which may not be disclosed to others without the prior written consent of HERE.</sub></span>\"\"\")\n",
    "-->\n",
    "![HERE](data:image/svg+xml,%3Csvg%20width%3D%2240%22%20height%3D%2248%22%20viewBox%3D%220%200%2040%2048%22%20fill%3D%22none%22%20xmlns%3D%22http%3A//www.w3.org/2000/svg%22%3E%3Cpath%20class%3D%22triangle%22%20d%3D%22M11%2C36.8l-5.5%2C5.5L0%2C36.8H11z%22%20fill%3D%22%2348DAD0%22%3E%3C/path%3E%3Cpath%20class%3D%22HERE%22%20d%3D%22M19.1%2C24.2c-1.2-1.4-1.1-2.1-0.4-2.8c0.9-0.9%2C1.7-0.5%2C2.7%2C0.5L19.1%2C24.2z%20M30.9%2C9.2c0.9-0.9%2C1.7-0.5%2C2.7%2C0.5%0A%20%20%20%20L31.3%2C12C30.1%2C10.7%2C30.2%2C9.9%2C30.9%2C9.2z%20M38%2C11.6c-1.1%2C1.6-2.9%2C4.2-4.9%2C2.2l5-5c-0.4-0.5-0.8-0.9-1-1.1c-2.7-2.7-5.7-2.7-8-0.4%0A%09c-1.6%2C1.6-2%2C3.4-1.5%2C5.1l-1.6-1.8c-0.5%2C0.3-2.4%2C1.9-0.9%2C4.5l-1.8-1.5l-2.4%2C2.4l3.2%2C3.2c-2.5-1.9-5.1-1.8-7.2%2C0.4%0A%09c-2.3%2C2.3-2.1%2C5-0.4%2C7.3l-0.3-0.3c-2.3-2.3-4.7-1.5-5.9-0.3c-0.9%2C0.9-1.5%2C2.2-1.3%2C3.1L4%2C24.6l-2.6%2C2.6l9.6%2C9.6h5.2l-3.5-3.5%0A%09c-1.8-1.8-1.8-2.8-1-3.7c0.8-0.8%2C1.8-0.3%2C3.6%2C1.4l3.4%2C3.4l2.6-2.6l-3.2-3.2c2.3%2C1.8%2C5.1%2C1.9%2C7.7-0.6l0%2C0c1.5-1.4%2C2-2.8%2C2-2.8%0A%09l-1.9-1.3c-1.1%2C1.6-2.9%2C4.2-4.9%2C2.3l5-5l3.1%2C3.1l2.7-2.7l-3.9-3.9c-1.8-1.8-0.7-3.5%2C0-4.1c0.4%2C0.7%2C0.9%2C1.5%2C1.5%2C2.1%0A%09c2.5%2C2.5%2C5.7%2C3%2C8.6%2C0.2l0%2C0c1.5-1.4%2C2-2.8%2C2-2.8S38%2C11.6%2C38%2C11.6z%22%20fill%3D%22%23000000%22%3E%3C/path%3E%3C/svg%3E%0A)\n",
    "<span style=\"float:right; width:90%;\"><sub><b>Copyright (c) 2020-2025 HERE Global B.V. and its affiliate(s). All rights reserved.</b>\n",
    "This software, including documentation, is protected by copyright controlled by HERE. All rights are reserved. Copying, including reproducing, \n",
    "storing, adapting or translating, any or all of this material requires the prior written consent of HERE. This material also contains confidential \n",
    "information which may not be disclosed to others without the prior written consent of HERE.</sub></span>"
   ]
  }
 ],
 "metadata": {
  "celltoolbar": "Slideshow",
  "kernelspec": {
   "display_name": "Python 3 (ipykernel)",
   "language": "python",
   "name": "python3"
  },
  "language_info": {
   "codemirror_mode": {
    "name": "ipython",
    "version": 3
   },
   "file_extension": ".py",
   "mimetype": "text/x-python",
   "name": "python",
   "nbconvert_exporter": "python",
   "pygments_lexer": "ipython3",
   "version": "3.12.1"
  }
 },
 "nbformat": 4,
 "nbformat_minor": 5
}
