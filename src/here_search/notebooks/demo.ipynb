{
 "cells": [
  {
   "cell_type": "markdown",
   "id": "712c9ba7-62a7-4795-9a5e-7cdfb320bb1c",
   "metadata": {
    "slideshow": {
     "slide_type": "slide"
    },
    "tags": []
   },
   "source": [
    "# OneBoxMap\n",
    "\n",
    "\n",
    "`OneBoxMap` is a demo application showing how [HERE Geocoding and Search](https://developer.here.com/documentation/geocoding-search-api/dev_guide/topics/endpoint-autosuggest-brief.html) `/autosuggest`, `/discover`, `/browse`, and `/lookup` endpoints are meant to be used:\n",
    "- The app  \n",
    "    - proposes a single text form to formulate queries\n",
    "    - displays three buttons with predicted last token text completions\n",
    "    - displays all API calls in a separate window\n",
    "    - displays search results on a map and a list\n",
    "<br/>\n",
    "- `/autosuggest` endpoint is called for each key-stroke.\n",
    "    - Follow-up query suggestions are displayed in the list only\n",
    "    - Location suggestions are displayed in the list and on the map\n",
    "    - Query term suggestions are displayed in three buttons\n",
    "    - Selected locations lead to a call to `/lookup` using the location record `id`.\n",
    "    - Selected query suggestions lead to a http GET using the query `href` value\n",
    "<br/>\n",
    "- `/discover` endpoint is called when a query submission is validated.\n",
    "    - Validation happens when the [return] key or the <img src=\"https://upload.wikimedia.org/wikipedia/commons/2/2b/Font_Awesome_5_solid_search.svg\" style=\"width:12px\"/> button are hit\n",
    "    - Location results are displayed in the list and on the map\n",
    "    - Selected results lead to a call to `/lookup` using the location record `id`.\n",
    "- `/browse` endpoint is called when a place taxonomy button is selected.\n",
    "    - Location results are displayed in the list and on the map\n",
    "    - Selected results lead to a call to `/lookup` using the location record `id`.\n",
    "<br/>\n",
    "- `/autosuggest`, `/discover` and `/browse` requests are sent using the map center as search center\n",
    "- Search requests are cached during the lifetime of the application\n",
    "\n",
    "\n",
    "<!-- https://commons.wikimedia.org/wiki/File:Font_Awesome_5_solid_search.svg -->"
   ]
  },
  {
   "cell_type": "code",
   "execution_count": 1,
   "id": "be595afe-f073-4917-8c9f-38957da5f315",
   "metadata": {},
   "outputs": [
    {
     "data": {
      "text/plain": [
       "(52.4746, 13.4164)"
      ]
     },
     "execution_count": 1,
     "metadata": {},
     "output_type": "execute_result"
    }
   ],
   "source": [
    "from here_search.util import get_lat_lon\n",
    "await get_lat_lon()"
   ]
  },
  {
   "cell_type": "code",
   "execution_count": 1,
   "id": "54d57978-5cc6-40f1-aeda-04f49656b719",
   "metadata": {
    "slideshow": {
     "slide_type": "-"
    },
    "tags": []
   },
   "outputs": [
    {
     "data": {
      "application/vnd.jupyter.widget-view+json": {
       "model_id": "3cb4d60e0afd429ab08146e0f626ce53",
       "version_major": 2,
       "version_minor": 0
      },
      "text/plain": [
       "HTML(value='<style>.result-button div, .result-button button { font-size: 10px; }</style>')"
      ]
     },
     "metadata": {},
     "output_type": "display_data"
    },
    {
     "data": {
      "application/vnd.jupyter.widget-view+json": {
       "model_id": "7db4f8c1da584bd6b37301518e695b67",
       "version_major": 2,
       "version_minor": 0
      },
      "text/plain": [
       "OneBoxMap(children=(HBox(children=(ResponseMap(center=[52.51604, 13.37691], controls=(AttributionControl(optio…"
      ]
     },
     "execution_count": 1,
     "metadata": {},
     "output_type": "execute_result"
    }
   ],
   "source": [
    "from here_search.widgets.app import OneBoxMap\n",
    "OneBoxMap().run()"
   ]
  },
  {
   "cell_type": "code",
   "execution_count": null,
   "id": "34cd71ab-5b05-4181-81e1-c9abac13b766",
   "metadata": {},
   "outputs": [],
   "source": []
  },
  {
   "cell_type": "code",
   "execution_count": null,
   "id": "eece2a77-7b4e-4ad3-9db9-71b4bf56b9e9",
   "metadata": {},
   "outputs": [],
   "source": []
  }
 ],
 "metadata": {
  "celltoolbar": "Slideshow",
  "kernelspec": {
   "display_name": "search demo",
   "language": "python",
   "name": "search_demo"
  },
  "language_info": {
   "codemirror_mode": {
    "name": "ipython",
    "version": 3
   },
   "file_extension": ".py",
   "mimetype": "text/x-python",
   "name": "python",
   "nbconvert_exporter": "python",
   "pygments_lexer": "ipython3",
   "version": "3.9.7"
  }
 },
 "nbformat": 4,
 "nbformat_minor": 5
}
