{
 "cells": [
  {
   "cell_type": "markdown",
   "id": "6a2488bf-1023-4b46-aed6-64abae28fd8b",
   "metadata": {},
   "source": [
    "# Input widgets\n",
    "\n",
    "To interact with the [HERE search & geocoding API](https://developer.here.com/documentation/geocoding-search-api/api-reference-swagger.html) services `here_search` provides a few widgets based on [`ipywidgets`](https://ipywidgets.readthedocs.io/en/stable/index.html):\n",
    "- `SubmittableTextBox` and `TermsButtons` to formulate textual search intents for Autosuggest and Discover\n",
    "- `PlaceTaxonomyButtons` to formulate custom place classification shortcuts for Browse\n",
    "- `OneBoxSimple` to associate search intents to search requests\n",
    "\n",
    "Those widgets are using a queue to exchange objects of `SearchIntent` class derivatives.\n",
    "\n",
    "### SubmittableTextBox\n",
    "\n",
    "`SubmittableTextBox` is a special `Text` widget supporting key strokes events and text submissions.<br/>\n",
    "It uses a queue to post `SearchIntent` objects, either `TransientIntent` for each key stroke or `FornulatedIntent` when the transient text is submitted. \n",
    "\n",
    "In the snippet below, key strokes and text submissions are displayed in an `Output` widget."
   ]
  },
  {
   "cell_type": "code",
   "execution_count": null,
   "id": "7ac7b6c6-70c7-458b-ac16-7ad7f5551321",
   "metadata": {},
   "outputs": [],
   "source": [
    "from here_search.widgets.input import SubmittableTextBox\n",
    "from here_search.widgets.util import Output\n",
    "from here_search.entities import FormulatedIntent\n",
    "from asyncio import ensure_future, Queue\n",
    "\n",
    "box = SubmittableTextBox(Queue())\n",
    "out_keys, out_text = Output(height=30), Output(height=30)\n",
    "\n",
    "async def print_text():\n",
    "    while True:\n",
    "        intent = await box.queue.get()\n",
    "        out = out_text if isinstance(intent, FormulatedIntent) else out_keys\n",
    "        with out:\n",
    "            out.replace(intent.materialization)\n",
    "\n",
    "t1 = ensure_future(print_text())\n",
    "display(box, out_keys, out_text)"
   ]
  },
  {
   "cell_type": "markdown",
   "id": "1a364381-4492-4e6a-9a81-432f607ebbb5",
   "metadata": {},
   "source": [
    "### TermsButtons\n",
    "\n",
    "`TermsButtons` objects are taking a `SubmittableTextBox` instance to feed it with predefined values when the buttons are selected.<br/>\n",
    "Per default, the complete form value is overwritten by the button text. \n",
    "\n",
    "The constructor `index` parameter allows to specify wich token is overwritten:"
   ]
  },
  {
   "cell_type": "code",
   "execution_count": null,
   "id": "80d1d992-3797-4a73-a6f7-40f7cac36b56",
   "metadata": {},
   "outputs": [],
   "source": [
    "from here_search.widgets.input import TermsButtons\n",
    "\n",
    "box2 = SubmittableTextBox(Queue())\n",
    "out_keys2 = Output(height=30)\n",
    "\n",
    "async def print_text2():\n",
    "    while True:\n",
    "        intent = await box2.queue.get()\n",
    "        with out_keys2:\n",
    "            out_keys2.replace(intent.materialization)\n",
    "            \n",
    "terms = TermsButtons(box2, \n",
    "                     values=[\"text 1\", \"text 2\"], \n",
    "                     index=-1)\n",
    "\n",
    "t2 = ensure_future(print_text2())\n",
    "display(box2, terms, out_keys2)"
   ]
  },
  {
   "cell_type": "markdown",
   "id": "f016d82b-c58c-4d8b-914c-f17d590cae94",
   "metadata": {
    "slideshow": {
     "slide_type": "slide"
    },
    "tags": []
   },
   "source": [
    "### PlaceTaxonomyButtons\n",
    "\n",
    "`PlaceTaxonomyButtons` is a widget associating a list of buttons to a place classification.<br/>\n",
    "It uses a queue to post a `FormulatedIntent` object materialized with the place taxonomy item when a button is selected.\n",
    "\n",
    "The example belows uses the `PlaceTaxonomyExample` object. Each buttons selection displays the related taxonomy item in an `Output` widget.\n",
    "\n",
    "(fontawesome 5.12.0 [download link](https://use.fontawesome.com/releases/v5.12.0/fontawesome-free-5.12.0-web.zip))"
   ]
  },
  {
   "cell_type": "code",
   "execution_count": null,
   "id": "c90ed002-0d96-4215-838e-f6a74a2e6972",
   "metadata": {},
   "outputs": [],
   "source": [
    "from here_search.entities import PlaceTaxonomyExample\n",
    "from here_search.widgets.input import PlaceTaxonomyButtons\n",
    "\n",
    "buttons = PlaceTaxonomyButtons(Queue(), PlaceTaxonomyExample.taxonomy, PlaceTaxonomyExample.icons)\n",
    "out_onto = Output(height=30)\n",
    "\n",
    "async def print_taxonomy():\n",
    "    while True:\n",
    "        with out_onto:\n",
    "            intent = await buttons.queue.get()\n",
    "            out_onto.replace(str(intent.materialization))\n",
    "            \n",
    "t4 = ensure_future(print_taxonomy())\n",
    "display(buttons, out_onto)"
   ]
  },
  {
   "cell_type": "markdown",
   "id": "f94f4ffe-2ce2-44f4-8866-cc727c58baad",
   "metadata": {},
   "source": [
    "## ResponseMap\n",
    "\n",
    "Search end-users fire requests (text queries, or ontology shortcuts) from a particular location context, materialized in the API through the search center lat/lon. It is convenient to capture a search center thrioygh the use of a draggable map.\n",
    "\n",
    "The `ResponseMap` class uses [`here-map-widget`](https://pypi.org/project/here-map-widget-for-jupyter/) `Map` class dragging and zooming capabilities to capture the center of a HERE map and sends it to an observer function. This class expects a `position_handler` constructor parameter respecting the traitlets event handler [signature](https://ipywidgets.readthedocs.io/en/latest/examples/Widget%20Events.html#Registering-callbacks-to-trait-changes-in-the-kernel). In the snippet below, the map position is only displayed in an `Output` widget, each time the user interacts with the map:"
   ]
  },
  {
   "cell_type": "code",
   "execution_count": null,
   "id": "6d91ffe2-d72c-4e6a-9fba-e7f8c995cc28",
   "metadata": {},
   "outputs": [],
   "source": [
    "from here_search.widgets.output import ResponseMap\n",
    "from here_search.api import API\n",
    "\n",
    "out_map = Output(height=30)\n",
    "\n",
    "def position_handler(latitude, longitude):\n",
    "    with out_map:\n",
    "        out_map.replace(f'{latitude},{longitude}')\n",
    "    \n",
    "rmap = ResponseMap(api_key=API().api_key, \n",
    "                   center=(52.51604, 13.37691),\n",
    "                   layout = {'height': '200px'},\n",
    "                   position_handler=position_handler)\n",
    "\n",
    "display(rmap, out_map)"
   ]
  },
  {
   "cell_type": "markdown",
   "id": "c23f875a-2124-460b-8d1f-e6a18a7338a5",
   "metadata": {
    "slideshow": {
     "slide_type": "slide"
    },
    "tags": []
   },
   "source": [
    "## OneBoxSimple\n",
    "\n",
    "`OneBoxSimple` brings the previously described widgets together to offer both a one-box and a taxonomy search experience.\n",
    "For this, a asyncio task is continusouly waiting for search events, and dispatch them to the dedicated search request and response handlers:\n",
    "\n",
    "- `FormulatedIntent` from `SubmittableTextBox` are sent to Discover. Response items are displayed in a clickable result list, on a `ResponseMap` and in JSON Output.\n",
    "- Other `SearchIntent` are sent to Autosuggest\n",
    "\n",
    "In the snippet below, `App` uses this class together with\n",
    "- `SubmittableTextBox`, `TermsButtons` and `PlaceTaxonomyButtons` widgets to feed the three event types of `OneBoxSimple`\n",
    "- a `Output` widget to handle the API responses\n",
    "- a `ResponseMap` widget to \n",
    "  - capture the search center from search results and user interactions\n",
    "  - display location response items"
   ]
  },
  {
   "cell_type": "code",
   "execution_count": null,
   "id": "3d3329f2-a44f-46e3-b43c-68023e3b8f84",
   "metadata": {
    "slideshow": {
     "slide_type": "-"
    },
    "tags": []
   },
   "outputs": [],
   "source": [
    "from here_search.base import OneBoxSimple\n",
    "from json import dumps\n",
    "\n",
    "queue4 = Queue()\n",
    "text_box = SubmittableTextBox(queue4)\n",
    "terms_buttons = TermsButtons(text_box, index=-1)\n",
    "taxonomy_buttons = PlaceTaxonomyButtons(queue4, PlaceTaxonomyExample.taxonomy, PlaceTaxonomyExample.icons)\n",
    "rmap = ResponseMap(api_key=API().api_key, center=(52.51604, 13.37691), layout = {'height': '200px'})\n",
    "out_simple = Output(height=160)\n",
    "\n",
    "class App(OneBoxSimple):\n",
    "    default_language = \"de\"\n",
    "    \n",
    "    def __init__(self, queue):\n",
    "        super().__init__(queue=queue)\n",
    "        self.text_box = text_box\n",
    "        self.terms_buttons = terms_buttons\n",
    "        self.taxonomy_buttons = taxonomy_buttons\n",
    "        self.out = out_simple\n",
    "        self.rmap = rmap\n",
    "        def handler(latitude, longitude):\n",
    "            self.search_center = latitude, longitude\n",
    "        self.rmap.set_position_handler(handler)\n",
    "    \n",
    "    def handle_suggestion_list(self, resp, session):\n",
    "        with self.out:\n",
    "            self.out.replace(dumps(resp.data, indent=2))\n",
    "        self.terms_buttons.set(resp.terms)\n",
    "\n",
    "    def handle_empty_text_submission(self, session):\n",
    "        with self.out:\n",
    "            self.out.clear_output()\n",
    "        self.terms_buttons.set([])\n",
    "        \n",
    "    def handle_result_list(self, resp, session):\n",
    "        with self.out:\n",
    "            self.out.replace(dumps(resp.data, indent=2))\n",
    "        self.text_box.text_w.value = ''\n",
    "        self.terms_buttons.set([])\n",
    "        self.rmap.display(resp)\n",
    "\n",
    "app = App(queue4).run()\n",
    "display(taxonomy_buttons, text_box, terms_buttons, rmap, out_simple)"
   ]
  },
  {
   "cell_type": "markdown",
   "id": "712c9ba7-62a7-4795-9a5e-7cdfb320bb1c",
   "metadata": {
    "slideshow": {
     "slide_type": "slide"
    },
    "tags": []
   },
   "source": [
    "# OneBoxMap\n",
    "\n",
    "\n",
    "`OneBoxMap` is a demo application showing how [HERE Geocoding and Search](https://developer.here.com/documentation/geocoding-search-api/dev_guide/topics/endpoint-autosuggest-brief.html) `/autosuggest`, `/discover` and `/lookup` endpoints are meant to be used:\n",
    "- The app  \n",
    "    - proposes a single text form to formulate queries\n",
    "    - displays three buttons with predicted last token text completions\n",
    "    - displays all API calls in a separate window\n",
    "    - displays search results on a map and a list\n",
    "<br/>\n",
    "- `/autosuggest` endpoint is called for each key-stroke.\n",
    "    - Follow-up query suggestions are displayed in the list only\n",
    "    - Location suggestions are displayed in the list and on the map\n",
    "    - Query term suggestions are displayed in three buttons\n",
    "    - Selected locations lead to a call to `/lookup` using the location record `id`.\n",
    "    - Selected query suggestions lead to a http GET using the query `href` value\n",
    "<br/>\n",
    "- `/discover` endpoint is called when a query submission is validated.\n",
    "    - Validation happens when the [return] key or the <img src=\"https://upload.wikimedia.org/wikipedia/commons/2/2b/Font_Awesome_5_solid_search.svg\" style=\"width:12px\"/> button are hit\n",
    "    - Location results are displayed in the list and on the map\n",
    "    - Selected results lead to a call to `/lookup` using the location record `id`.\n",
    "<br/>\n",
    "- `/autosuggest` and `/discover` requests are sent using the map center as search center\n",
    "- `/browse` endpoint is called for each tanonomy button selected.\n",
    "- Search requests are cached during the lifetime of the application\n",
    "\n",
    "\n",
    "<!-- https://commons.wikimedia.org/wiki/File:Font_Awesome_5_solid_search.svg -->"
   ]
  },
  {
   "cell_type": "code",
   "execution_count": null,
   "id": "54d57978-5cc6-40f1-aeda-04f49656b719",
   "metadata": {
    "slideshow": {
     "slide_type": "-"
    },
    "tags": []
   },
   "outputs": [],
   "source": [
    "from here_search.widgets.app import OneBoxMap\n",
    "OneBoxMap().run()"
   ]
  },
  {
   "cell_type": "code",
   "execution_count": null,
   "id": "562c0874-4ad8-49e8-b159-6ffed9425cc7",
   "metadata": {},
   "outputs": [],
   "source": []
  }
 ],
 "metadata": {
  "celltoolbar": "Slideshow",
  "kernelspec": {
   "display_name": "search demo",
   "language": "python",
   "name": "search_demo"
  },
  "language_info": {
   "codemirror_mode": {
    "name": "ipython",
    "version": 3
   },
   "file_extension": ".py",
   "mimetype": "text/x-python",
   "name": "python",
   "nbconvert_exporter": "python",
   "pygments_lexer": "ipython3",
   "version": "3.9.7"
  }
 },
 "nbformat": 4,
 "nbformat_minor": 5
}
