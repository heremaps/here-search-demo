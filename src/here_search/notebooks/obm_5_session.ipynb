{
 "cells": [
  {
   "cell_type": "markdown",
   "id": "6ba4567d-dc21-4834-8222-3b7bb21f4f77",
   "metadata": {},
   "source": [
    "## Session ids\n",
    "\n",
    "One box key-stroke sessions are identified with a unique `id`, added to a consistent sequence of `/autosuggest` and `/discover` requests.<br/>\n",
    "Such autosuggest session ids are renewed when the text form is validated.\n",
    "\n",
    "`X-AS-Session-ID` is added to `/signals` calls when the user profiles allows it (`share_experience=True`)\n",
    "\n",
    "Example session:\n",
    "- \"t\"\n",
    "- "
   ]
  },
  {
   "cell_type": "code",
   "execution_count": null,
   "id": "f895b738-a8ea-495d-ba09-cdfc5c61244d",
   "metadata": {},
   "outputs": [],
   "source": [
    "from here_search import user\n",
    "from here_search.widgets.app import PositionMap, OneBoxMap\n",
    "\n",
    "PositionMap.default_layout[\"height\"] = \"200px\"\n",
    "OneBoxMap(user.Default()).run()"
   ]
  },
  {
   "cell_type": "code",
   "execution_count": null,
   "id": "c68dd0d9-a808-464f-a54c-3bdec378ab27",
   "metadata": {},
   "outputs": [],
   "source": []
  }
 ],
 "metadata": {
  "kernelspec": {
   "display_name": "search demo",
   "language": "python",
   "name": "search_demo"
  },
  "language_info": {
   "codemirror_mode": {
    "name": "ipython",
    "version": 3
   },
   "file_extension": ".py",
   "mimetype": "text/x-python",
   "name": "python",
   "nbconvert_exporter": "python",
   "pygments_lexer": "ipython3",
   "version": "3.9.7"
  }
 },
 "nbformat": 4,
 "nbformat_minor": 5
}
