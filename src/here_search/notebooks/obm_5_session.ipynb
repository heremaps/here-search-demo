{
 "cells": [
  {
   "cell_type": "markdown",
   "id": "6ba4567d-dc21-4834-8222-3b7bb21f4f77",
   "metadata": {},
   "source": [
    "## Session ids\n",
    "\n",
    "One box key-stroke sessions are identified with a unique `id`, added to a consistent sequence of `/autosuggest` and `/discover` requests.<br/>\n",
    "Session ids are useful to identify query flows leading to a query text submission or a suggested query/result selection.<br/>\n",
    "Such autosuggest session ids are renewed when the text form is validated.\n",
    "\n",
    "`X-AS-Session-ID` is added to `/signals` calls when the user profiles allows it (`share_experience=True`)\n",
    "\n",
    "| action                |                    | involved<br/>endpoint | AS<br/>session id |\n",
    "|:----------------------|:-------------------|:----------------------|:------------------|\n",
    "| type                  | [b] [u] [r] [g] | `/autosuggest`        | id1               |\n",
    "| select<br/>term       | Burger             |                       |                   |\n",
    "| select<br/>query item | <img src=\"https://upload.wikimedia.org/wikipedia/commons/2/2b/Font_Awesome_5_solid_search.svg\" style=\"width:12px\"/> BURGER KING | `/signals`<br/>`/discover` expansion        | id1               |\n",
    "| select<br/>location item | `#1` BURGER KING  | `/signals`<br/>`/lookup` |             |\n",
    "| type                  | [m][c]           | `/autosuggest`        | id2               |\n",
    "| select<br/>term       | McDonald's         |                       |                   |\n",
    "| select<br/>query item | <img src=\"https://upload.wikimedia.org/wikipedia/commons/2/2b/Font_Awesome_5_solid_search.svg\" style=\"width:12px\"/> McDonald's | `/signals`<br/>`/discover` expansion        | id2               |\n",
    "| type                  | [f] [i] [v] [e] [&nbsp;]<br/>[g] [u] [y] [s] | `/autosuggest`        | id3               |\n",
    "| type                  | [return] | `/discover`        | id3               |\n",
    "\n",
    "\n",
    "\n"
   ]
  },
  {
   "cell_type": "code",
   "execution_count": null,
   "id": "f895b738-a8ea-495d-ba09-cdfc5c61244d",
   "metadata": {},
   "outputs": [],
   "source": [
    "from here_search import user\n",
    "from here_search.widgets.app import PositionMap, OneBoxMap\n",
    "\n",
    "PositionMap.default_layout[\"height\"] = \"300px\"\n",
    "OneBoxMap(user.Default()).run()"
   ]
  }
 ],
 "metadata": {
  "kernelspec": {
   "display_name": "search demo",
   "language": "python",
   "name": "search_demo"
  },
  "language_info": {
   "codemirror_mode": {
    "name": "ipython",
    "version": 3
   },
   "file_extension": ".py",
   "mimetype": "text/x-python",
   "name": "python",
   "nbconvert_exporter": "python",
   "pygments_lexer": "ipython3",
   "version": "3.9.7"
  }
 },
 "nbformat": 4,
 "nbformat_minor": 5
}
