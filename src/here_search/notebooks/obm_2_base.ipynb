{
 "cells": [
  {
   "cell_type": "markdown",
   "id": "6a2488bf-1023-4b46-aed6-64abae28fd8b",
   "metadata": {},
   "source": [
    "# Input widgets\n",
    "\n",
    "To interact with the [HERE search & geocoding API](https://developer.here.com/documentation/geocoding-search-api/api-reference-swagger.html) services `here_search` provides a few widgets based on [`ipywidgets`](https://ipywidgets.readthedocs.io/en/stable/index.html):\n",
    "- `SubmittableTextBox` and `TermsButtons` to formulate free-text queries for Autosuggest and Discover\n",
    "- `OntologyButtons` to formulate ontology shortcuts for Browse\n",
    "\n",
    "### SubmittableTextBox\n",
    "\n",
    "`SubmittableTextBox` is a special `Text` widget supporting key strokes events and text submissions.<br/>\n",
    "Its methods `get_key_stroke_future()` and `get_submitted_value_future()` return an awaitable set to respectively the observed and the validated text.\n",
    "\n",
    "Both methods are meant to be awaited continuously. In the snippet below, key strokes and text submissions are displayed in an `Output` widget."
   ]
  },
  {
   "cell_type": "code",
   "execution_count": null,
   "id": "7ac7b6c6-70c7-458b-ac16-7ad7f5551321",
   "metadata": {},
   "outputs": [],
   "source": [
    "from here_search.widgets.request import SubmittableTextBox\n",
    "from ipywidgets import Output\n",
    "from asyncio import ensure_future\n",
    "\n",
    "box = SubmittableTextBox()\n",
    "layout_30 = {'height': '30px', 'border': '1px solid black'}\n",
    "out_keys = Output(layout=layout_30)\n",
    "out_text = Output(layout=layout_30)\n",
    "\n",
    "async def print_key_strokes(box, out):\n",
    "    while True:\n",
    "        with out:\n",
    "            keys = await box.get_key_stroke_future()\n",
    "            out.outputs = ({'name': 'stdout', 'output_type': 'stream', 'text': keys}, )\n",
    "\n",
    "async def print_submitted_text(box, out):\n",
    "    while True:\n",
    "        with out:\n",
    "            text = await box.get_submitted_value_future()\n",
    "            out.outputs = ({'name': 'stdout', 'output_type': 'stream', 'text': text}, )            \n",
    "            \n",
    "t1 = ensure_future(print_key_strokes(box, out_keys))\n",
    "t2 = ensure_future(print_submitted_text(box, out_text))\n",
    "display(box, out_keys, out_text)"
   ]
  },
  {
   "cell_type": "markdown",
   "id": "1a364381-4492-4e6a-9a81-432f607ebbb5",
   "metadata": {},
   "source": [
    "### TermsButtons\n",
    "\n",
    "`TermsButtons` objects are taking a `SubmittableTextBox` instance to feed it with predefined values when the buttons are selected.<br/>\n",
    "Per default, the complete form value is overwritten by the button text. \n",
    "\n",
    "The constructor `index` parameter allows to specify wich token is overwritten:"
   ]
  },
  {
   "cell_type": "code",
   "execution_count": null,
   "id": "80d1d992-3797-4a73-a6f7-40f7cac36b56",
   "metadata": {},
   "outputs": [],
   "source": [
    "from here_search.widgets.request import TermsButtons\n",
    "\n",
    "box2 = SubmittableTextBox()\n",
    "out_keys2 = Output(layout=layout_30)\n",
    "\n",
    "terms = TermsButtons(box2, \n",
    "                     values=[\"text 1\", \"text 2\"], \n",
    "                     index=-1)\n",
    "\n",
    "t3 = ensure_future(print_key_strokes(box2, out_keys2))\n",
    "display(box2, terms, out_keys2)"
   ]
  },
  {
   "cell_type": "markdown",
   "id": "f016d82b-c58c-4d8b-914c-f17d590cae94",
   "metadata": {
    "slideshow": {
     "slide_type": "slide"
    },
    "tags": []
   },
   "source": [
    "### OntologyButtons\n",
    "\n",
    "`OntologyButtons` is a widget associating a list of buttons with icons a to a place ontology.<br/>\n",
    "Its method `get_ontology_future()` returns an awaitable set to the ontology item associated with a selected button.\n",
    "\n",
    "The example belows defines an ontology and the related buttons. Each buttons selection displays the related ontology in an `Output` widget.\n",
    "\n",
    "(fontawesome 5.12.0 [download link](https://use.fontawesome.com/releases/v5.12.0/fontawesome-free-5.12.0-web.zip))"
   ]
  },
  {
   "cell_type": "code",
   "execution_count": null,
   "id": "c0b2038a-99bf-4980-bab4-2d2b5f82d17f",
   "metadata": {},
   "outputs": [],
   "source": [
    "from here_search.entities import OntologyItem, Ontology\n",
    "\n",
    "items, icons = zip(*[\n",
    "            (OntologyItem(\"gas\",     [\"700-7600-0000\", \n",
    "                                      \"700-7600-0116\", \n",
    "                                      \"700-7600-0444\"], None,       None),    \"fa-gas-pump\"),\n",
    "            (OntologyItem(\"eat\",     [\"100\"],           None,       None),    \"fa-utensils\"),\n",
    "            (OntologyItem(\"sleep\",   [\"500-5000\"],      None,       None),    \"fa-bed\"),\n",
    "            (OntologyItem(\"park\",    [\"400-4300\",\n",
    "                                      \"800-8500\"],      None,       None),    \"fa-parking\"),\n",
    "            (OntologyItem(\"ATM\",     [\"700-7010-0108\"], None,       None),    \"fa-euro-sign\"),\n",
    "            (OntologyItem(\"pizza\",    None,            [\"800-057\"], None),    \"fa-pizza-slice\"),\n",
    "            (OntologyItem(\"fastfood\", None,             None,      [\"1566\", \n",
    "                                                                    \"1498\"]), \"fa-hamburger\")])\n",
    "ontology = Ontology(items)"
   ]
  },
  {
   "cell_type": "code",
   "execution_count": null,
   "id": "c90ed002-0d96-4215-838e-f6a74a2e6972",
   "metadata": {},
   "outputs": [],
   "source": [
    "from here_search.widgets.request import OntologyButtons\n",
    "buttons = OntologyButtons(ontology, icons)\n",
    "out_onto = Output(layout=layout_30)\n",
    "\n",
    "async def print_ontology(buttons, out):\n",
    "    while True:\n",
    "        with out:\n",
    "            ontology = await buttons.get_ontology_future()\n",
    "            out.outputs = ({'name': 'stdout', 'output_type': 'stream', 'text': str(ontology)}, )\n",
    "            \n",
    "t4 = ensure_future(print_ontology(buttons, out_onto))\n",
    "display(buttons, out_onto)"
   ]
  },
  {
   "cell_type": "markdown",
   "id": "c23f875a-2124-460b-8d1f-e6a18a7338a5",
   "metadata": {
    "slideshow": {
     "slide_type": "slide"
    },
    "tags": []
   },
   "source": [
    "## OneBoxSimple\n",
    "\n",
    "Similarly to the previous snippets, the `OneBoxSimple` objects continuously wait for three event types:\n",
    "- key strokes through `wait_for_new_key_stroke()`\n",
    "- text submissions through `wait_for_submitted_value()`\n",
    "- ontology selections through `wait_for_selected_ontology()`\n",
    "\n",
    "`OneBoxSimple` then sends keystrokes, text submissions and ontology selections to Autosuggest, Discover and Browse respectively.<br/>\n",
    "The related responses are delivered to the two methods:\n",
    "- Autosuggest results to `handle_suggestion_list()` \n",
    "- Discover and Browse results to `handle_result_list()`\n",
    "\n",
    "In the snippet below, `App` uses \n",
    "- `SubmittableTextBox`, `TermsButtons` and `OntologyButtons` widgets to feed the three event types of `OneBoxSimple`\n",
    "- a `Output` widget to handle the API responses:"
   ]
  },
  {
   "cell_type": "code",
   "execution_count": null,
   "id": "2f413760-66f5-4a13-828b-36cf994213bf",
   "metadata": {
    "slideshow": {
     "slide_type": "-"
    },
    "tags": []
   },
   "outputs": [],
   "source": [
    "from here_search.base import OneBoxSimple\n",
    "from asyncio import Future\n",
    "from json import dumps\n",
    "\n",
    "text_box = SubmittableTextBox()\n",
    "terms_buttons = TermsButtons(text_box, index=-1)\n",
    "ontology_buttons = OntologyButtons(ontology, icons)\n",
    "out_simple = Output(layout={'height': '160px', 'border': '1px solid black', 'overflow': 'auto', 'white-space': 'nowrap'})\n",
    "\n",
    "\n",
    "class App(OneBoxSimple):\n",
    "    default_language = \"de\"\n",
    "    \n",
    "    def __init__(self, ontology_buttons, text_box, terms_buttons, out):\n",
    "        super().__init__()\n",
    "        self.text_box = text_box\n",
    "        self.terms_buttons = terms_buttons\n",
    "        self.ontology_buttons = ontology_buttons\n",
    "        self.out = out\n",
    "    \n",
    "    def wait_for_new_key_stroke(self):\n",
    "        return self.text_box.get_key_stroke_future()\n",
    "    \n",
    "    def wait_for_submitted_value(self):\n",
    "        return self.text_box.get_submitted_value_future()\n",
    "    \n",
    "    def wait_for_selected_ontology(self):\n",
    "        return self.ontology_buttons.get_ontology_future()\n",
    "    \n",
    "    def handle_suggestion_list(self, resp):\n",
    "        with self.out:\n",
    "            self.out.outputs = ({'name': 'stdout', 'output_type': 'stream', 'text': dumps(resp.data, indent=2)}, )\n",
    "        text = {term['term']: None for term in resp.data.get('queryTerms', [])}\n",
    "        self.terms_buttons.set(list(text.keys()))\n",
    "            \n",
    "    def handle_result_list(self, resp):\n",
    "        with self.out:\n",
    "            self.out.outputs = ({'name': 'stdout', 'output_type': 'stream', 'text': dumps(resp.data, indent=2)}, )\n",
    "        self.terms_buttons.set([])\n",
    "        \n",
    "    def handle_empty_text_submission(self):\n",
    "        with self.out:\n",
    "            self.out.outputs = ({'name': 'stdout', 'output_type': 'stream', 'text': \"\"}, )\n",
    "        self.terms_buttons.set([])\n",
    "\n",
    "app = App(ontology_buttons, text_box, terms_buttons, out_simple).run()\n",
    "display(ontology_buttons, text_box, terms_buttons, out_simple)"
   ]
  },
  {
   "cell_type": "markdown",
   "id": "f94f4ffe-2ce2-44f4-8866-cc727c58baad",
   "metadata": {},
   "source": [
    "## PositionMap\n",
    "\n",
    "`OneBoxSimple` always uses the same `search_center` public property, initialized to the same value `52.51604, 13.37691`. To change this location context, a new widget is needed.\n",
    "\n",
    "The `PositionMap` class uses [`here-map-widget`](https://pypi.org/project/here-map-widget-for-jupyter/) dragging and zooming capabilities to capture the center of a HERE map and sends it to an observer. This class expects a `position_handler` constructor parameter respecting the traitlets event handler [signature](https://ipywidgets.readthedocs.io/en/latest/examples/Widget%20Events.html#Registering-callbacks-to-trait-changes-in-the-kernel). In the snippet below, the map position is only displayed in an `Output` widget, each time the user interacts with the map:"
   ]
  },
  {
   "cell_type": "code",
   "execution_count": null,
   "id": "6d91ffe2-d72c-4e6a-9fba-e7f8c995cc28",
   "metadata": {},
   "outputs": [],
   "source": [
    "from here_search.widgets.request import PositionMap\n",
    "from here_search.api import API\n",
    "\n",
    "out_map = Output(layout = {'width': '100%', 'height': '30px', 'overflow': 'auto', 'white-space': 'nowrap'})\n",
    "\n",
    "def observe(change):\n",
    "    if change.type == \"change\" and change.new:\n",
    "        with out_map:\n",
    "            out_map.outputs = ({'name': 'stdout', 'output_type': 'stream', 'text': dumps({\"name\": change.name, \"new\": change.new})}, )\n",
    "    \n",
    "pmap = PositionMap(api_key=API().api_key, \n",
    "                   center=(52.51604, 13.37691),\n",
    "                   layout = {'height': '200px'},\n",
    "                   position_handler=observe)\n",
    "display(pmap, out_map)"
   ]
  },
  {
   "cell_type": "markdown",
   "id": "5cf77690-3ebf-475f-bb77-c66c953cc85d",
   "metadata": {},
   "source": [
    "we adapt the observer to not display the map center but set the `search_center` property of an `App` instance to it:"
   ]
  },
  {
   "cell_type": "code",
   "execution_count": null,
   "id": "3d3329f2-a44f-46e3-b43c-68023e3b8f84",
   "metadata": {
    "slideshow": {
     "slide_type": "-"
    },
    "tags": []
   },
   "outputs": [],
   "source": [
    "for widget in out_simple, terms_buttons, text_box, ontology_buttons, pmap:\n",
    "    widget.close()\n",
    "    del widget\n",
    "\n",
    "text_box = SubmittableTextBox()\n",
    "terms_buttons = TermsButtons(text_box, index=-1)\n",
    "ontology_buttons = OntologyButtons(ontology, icons)\n",
    "out_simple = Output(layout={'height': '160px', 'border': '1px solid black', 'overflow': 'auto', 'white-space': 'nowrap'})\n",
    "\n",
    "app = App(ontology_buttons, text_box, terms_buttons, out_simple)\n",
    "\n",
    "def observe(change):\n",
    "    if change.type == \"change\" and change.name == \"center\":\n",
    "        app.search_center = change.new[:2]\n",
    "\n",
    "pmap = PositionMap(api_key=API().api_key, \n",
    "           center=(52.51604, 13.37691),\n",
    "           layout = {'height': '200px'},\n",
    "           position_handler=observe)\n",
    "\n",
    "app.run()\n",
    "display(ontology_buttons, text_box, terms_buttons, pmap, out_simple)"
   ]
  },
  {
   "cell_type": "code",
   "execution_count": null,
   "id": "74021256-c706-47b7-9979-7dee4a5d4d27",
   "metadata": {},
   "outputs": [],
   "source": [
    "\n",
    "    "
   ]
  },
  {
   "cell_type": "markdown",
   "id": "712c9ba7-62a7-4795-9a5e-7cdfb320bb1c",
   "metadata": {
    "slideshow": {
     "slide_type": "slide"
    },
    "tags": []
   },
   "source": [
    "# OneBoxMap\n",
    "\n",
    "\n",
    "`OneBoxMap` is a demo application showing how [HERE Geocoding and Search](https://developer.here.com/documentation/geocoding-search-api/dev_guide/topics/endpoint-autosuggest-brief.html) `/autosuggest`, `/discover` and `/lookup` endpoints are meant to be used:\n",
    "- The app  \n",
    "    - proposes a single text form to formulate queries\n",
    "    - displays three buttons with predicted last token text completions\n",
    "    - displays all API calls in a separate window\n",
    "    - displays search results on a map and a list\n",
    "<br/>\n",
    "- `/autosuggest` endpoint is called for each key-stroke.\n",
    "    - Follow-up query suggestions are displayed in the list only\n",
    "    - Location suggestions are displayed in the list and on the map\n",
    "    - Query term suggestions are displayed in three buttons\n",
    "    - Selected locations lead to a call to `/lookup` using the location record `id`.\n",
    "    - Selected query suggestions lead to a http GET using the query `href` value\n",
    "<br/>\n",
    "- `/discover` endpoint is called when a query submission is validated.\n",
    "    - Validation happens when the [return] key or the <img src=\"https://upload.wikimedia.org/wikipedia/commons/2/2b/Font_Awesome_5_solid_search.svg\" style=\"width:12px\"/> button are hit\n",
    "    - Location results are displayed in the list and on the map\n",
    "    - Selected results lead to a call to `/lookup` using the location record `id`.\n",
    "<br/>\n",
    "- `/autosuggest` and `/discover` requests are sent using the map center as search center\n",
    "- Search requests are cached during the lifetime of the application\n",
    "\n",
    "\n",
    "<!-- https://commons.wikimedia.org/wiki/File:Font_Awesome_5_solid_search.svg -->"
   ]
  },
  {
   "cell_type": "code",
   "execution_count": null,
   "id": "54d57978-5cc6-40f1-aeda-04f49656b719",
   "metadata": {
    "slideshow": {
     "slide_type": "-"
    },
    "tags": []
   },
   "outputs": [],
   "source": [
    "from here_search.widgets.app import OneBoxMap\n",
    "OneBoxMap().run()"
   ]
  },
  {
   "cell_type": "code",
   "execution_count": null,
   "id": "1f357484-86ab-4faa-8879-8cc256024975",
   "metadata": {},
   "outputs": [],
   "source": []
  }
 ],
 "metadata": {
  "celltoolbar": "Slideshow",
  "kernelspec": {
   "display_name": "search demo ext",
   "language": "python",
   "name": "search_demo_ext"
  },
  "language_info": {
   "codemirror_mode": {
    "name": "ipython",
    "version": 3
   },
   "file_extension": ".py",
   "mimetype": "text/x-python",
   "name": "python",
   "nbconvert_exporter": "python",
   "pygments_lexer": "ipython3",
   "version": "3.9.7"
  }
 },
 "nbformat": 4,
 "nbformat_minor": 5
}
