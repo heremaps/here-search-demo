{
 "cells": [
  {
   "cell_type": "markdown",
   "id": "bd7c96fd-a26a-4ea4-9dd5-f7ab0d592301",
   "metadata": {
    "slideshow": {
     "slide_type": "slide"
    },
    "tags": []
   },
   "source": [
    "# SubmittableTextBox\n",
    "\n",
    "`SubmittableTextBox` is a special `Text` widget supporting key strokes events and text submissions.\n",
    "\n",
    "Its methods `get_key_stroke_future()` and `get_submitted_value_future()` return an awaitable set to respectively the observed and the validated text.\n",
    "\n",
    "Both methods are meant to be awaited continuously. In the snippet below, key strokes and text submissions are displayed in an `Output` widget."
   ]
  },
  {
   "cell_type": "code",
   "execution_count": 1,
   "id": "7ac7b6c6-70c7-458b-ac16-7ad7f5551321",
   "metadata": {},
   "outputs": [
    {
     "data": {
      "application/vnd.jupyter.widget-view+json": {
       "model_id": "04d30b113c2d45bc8bcd3e4e9ae3c3df",
       "version_major": 2,
       "version_minor": 0
      },
      "text/plain": [
       "HTML(value='<style>.term-button button { font-size: 10px; }</style>')"
      ]
     },
     "metadata": {},
     "output_type": "display_data"
    },
    {
     "data": {
      "application/vnd.jupyter.widget-view+json": {
       "model_id": "77f1e4935f4f4d77ac866b54b79eac4a",
       "version_major": 2,
       "version_minor": 0
      },
      "text/plain": [
       "SubmittableTextBox(children=(SubmittableText(value=''), Button(icon='search', layout=Layout(width='32px'), sty…"
      ]
     },
     "metadata": {},
     "output_type": "display_data"
    },
    {
     "data": {
      "application/vnd.jupyter.widget-view+json": {
       "model_id": "aa2b0d30ad3f42fa8460e021319c7289",
       "version_major": 2,
       "version_minor": 0
      },
      "text/plain": [
       "Output(layout=Layout(border='1px solid black', height='30px'))"
      ]
     },
     "metadata": {},
     "output_type": "display_data"
    },
    {
     "data": {
      "application/vnd.jupyter.widget-view+json": {
       "model_id": "7a185e5f44fa4b96ba464cb3b01bf82d",
       "version_major": 2,
       "version_minor": 0
      },
      "text/plain": [
       "Output(layout=Layout(border='1px solid black', height='30px'))"
      ]
     },
     "metadata": {},
     "output_type": "display_data"
    }
   ],
   "source": [
    "from here_search.widgets.request import SubmittableTextBox\n",
    "from ipywidgets import Output\n",
    "from asyncio import ensure_future\n",
    "\n",
    "box = SubmittableTextBox()\n",
    "layout_30 = {'height': '30px', 'border': '1px solid black'}\n",
    "out_keys = Output(layout=layout_30)\n",
    "out_text = Output(layout=layout_30)\n",
    "\n",
    "async def print_key_strokes(box, out):\n",
    "    while True:\n",
    "        with out:\n",
    "            keys = await box.get_key_stroke_future()\n",
    "            out.outputs = ({'name': 'stdout', 'output_type': 'stream', 'text': keys}, )\n",
    "\n",
    "async def print_submitted_text(box, out):\n",
    "    while True:\n",
    "        with out:\n",
    "            text = await box.get_submitted_value_future()\n",
    "            out.outputs = ({'name': 'stdout', 'output_type': 'stream', 'text': text}, )            \n",
    "            \n",
    "t1 = ensure_future(print_key_strokes(box, out_keys))\n",
    "t2 = ensure_future(print_submitted_text(box, out_text))\n",
    "display(box, out_keys, out_text)"
   ]
  },
  {
   "cell_type": "markdown",
   "id": "1a364381-4492-4e6a-9a81-432f607ebbb5",
   "metadata": {},
   "source": [
    "## TermsButtons\n",
    "\n",
    "`TermsButtons` objects are taking a `SubmittableTextBox` instance to feed it with predefined values when the buttons are selected. Per default, the complete form value is overwritten by the button text. \n",
    "\n",
    "The constructor `index` parameter allows to specify wich token is overwritten:"
   ]
  },
  {
   "cell_type": "code",
   "execution_count": 2,
   "id": "80d1d992-3797-4a73-a6f7-40f7cac36b56",
   "metadata": {},
   "outputs": [
    {
     "data": {
      "application/vnd.jupyter.widget-view+json": {
       "model_id": "6bfe14b5a47647c2b312dd553dd06b01",
       "version_major": 2,
       "version_minor": 0
      },
      "text/plain": [
       "SubmittableTextBox(children=(SubmittableText(value=''), Button(icon='search', layout=Layout(width='32px'), sty…"
      ]
     },
     "metadata": {},
     "output_type": "display_data"
    },
    {
     "data": {
      "application/vnd.jupyter.widget-view+json": {
       "model_id": "d3e4bf929e794fc4a235136997f79217",
       "version_major": 2,
       "version_minor": 0
      },
      "text/plain": [
       "TermsButtons(children=(Button(description='text 1', layout=Layout(border='solid 1px', display='flex', justify_…"
      ]
     },
     "metadata": {},
     "output_type": "display_data"
    },
    {
     "data": {
      "application/vnd.jupyter.widget-view+json": {
       "model_id": "b20b1934ba6649bbb5b7dd697e45f51b",
       "version_major": 2,
       "version_minor": 0
      },
      "text/plain": [
       "Output(layout=Layout(border='1px solid black', height='30px'))"
      ]
     },
     "metadata": {},
     "output_type": "display_data"
    }
   ],
   "source": [
    "from here_search.widgets.request import TermsButtons\n",
    "\n",
    "box2 = SubmittableTextBox()\n",
    "out_keys2 = Output(layout=layout_30)\n",
    "\n",
    "terms = TermsButtons(box2, \n",
    "                     values=[\"text 1\", \"text 2\"], \n",
    "                     index=-1)\n",
    "\n",
    "t3 = ensure_future(print_key_strokes(box2, out_keys2))\n",
    "display(box2, terms, out_keys2)"
   ]
  },
  {
   "cell_type": "markdown",
   "id": "c23f875a-2124-460b-8d1f-e6a18a7338a5",
   "metadata": {
    "slideshow": {
     "slide_type": "slide"
    },
    "tags": []
   },
   "source": [
    "# OneBoxSimple\n",
    "\n",
    "Similarly to the previous example, the `OneBoxSimple` objects continuously wait for both key strokes and text submissions through `wait_for_new_key_stroke()` and `wait_for_submitted_value()` methods. \n",
    "\n",
    "`OneBoxSimple` then sends keystrokes and text submissions to Autosuggest and Discover respectively. The related responses are handled through `handle_suggestion_list()` and `handle_result_list()` methods."
   ]
  },
  {
   "cell_type": "code",
   "execution_count": 3,
   "id": "b44fb61a-cb60-4478-a99f-91d9500858ad",
   "metadata": {},
   "outputs": [],
   "source": [
    "from here_search.base import OneBoxSimple"
   ]
  },
  {
   "cell_type": "code",
   "execution_count": 4,
   "id": "b49bee99-e588-469b-a5c7-c1496c7c0a19",
   "metadata": {},
   "outputs": [],
   "source": [
    "from IPython.display import Code\n",
    "from inspect import getsource\n",
    "#Code(getsource(OneBoxSimple), language=\"python\")"
   ]
  },
  {
   "cell_type": "markdown",
   "id": "28bb2ea5-56a8-476e-ab86-4b77e4d7b362",
   "metadata": {
    "slideshow": {
     "slide_type": "slide"
    },
    "tags": []
   },
   "source": [
    "In the snippet below, `App` uses a `SubmittableTextBox` and an `Output` widgets to implement missing methods of `OneBoxSimple`:"
   ]
  },
  {
   "cell_type": "code",
   "execution_count": 8,
   "id": "2f413760-66f5-4a13-828b-36cf994213bf",
   "metadata": {
    "slideshow": {
     "slide_type": "-"
    },
    "tags": []
   },
   "outputs": [
    {
     "data": {
      "application/vnd.jupyter.widget-view+json": {
       "model_id": "d7a4d04324d94027962e6e18a8442931",
       "version_major": 2,
       "version_minor": 0
      },
      "text/plain": [
       "SubmittableTextBox(children=(SubmittableText(value=''), Button(icon='search', layout=Layout(width='32px'), sty…"
      ]
     },
     "metadata": {},
     "output_type": "display_data"
    },
    {
     "data": {
      "application/vnd.jupyter.widget-view+json": {
       "model_id": "0f5b1eca200443e984d5eaae54534530",
       "version_major": 2,
       "version_minor": 0
      },
      "text/plain": [
       "Output(layout=Layout(border='1px solid black', height='160px', overflow='auto'))"
      ]
     },
     "metadata": {},
     "output_type": "display_data"
    }
   ],
   "source": [
    "from here_search.base import OneBoxSimple\n",
    "from here_search.widgets.request import SubmittableTextBox\n",
    "from asyncio import Future\n",
    "from ipywidgets import Output\n",
    "from json import dumps\n",
    "\n",
    "box = SubmittableTextBox()\n",
    "out = Output(layout={'height': '160px', 'border': '1px solid black', 'overflow': 'auto', 'white-space': 'nowrap'})\n",
    "\n",
    "class App(OneBoxSimple):\n",
    "    default_language = \"de\"\n",
    "    \n",
    "    def wait_for_new_key_stroke(self):\n",
    "        return box.get_key_stroke_future()\n",
    "    \n",
    "    def wait_for_submitted_value(self):\n",
    "        return box.get_submitted_value_future()\n",
    "    \n",
    "    def handle_suggestion_list(self, resp):\n",
    "        with out:\n",
    "            out.outputs = ({'name': 'stdout', 'output_type': 'stream', 'text': dumps(resp.data, indent=2)}, )\n",
    "            \n",
    "    def handle_result_list(self, resp):\n",
    "        self.handle_suggestion_list(resp)\n",
    "        box.text_w.value = ''\n",
    "\n",
    "App().run()\n",
    "display(box, out)"
   ]
  },
  {
   "cell_type": "markdown",
   "id": "b261834c-0fe2-49b2-a2df-fb6ad6a3d5b4",
   "metadata": {},
   "source": [
    "With `TermsButtons`, one has:"
   ]
  },
  {
   "cell_type": "code",
   "execution_count": 9,
   "id": "89ba99f7-7af0-4520-860c-a33de5e3df5e",
   "metadata": {
    "slideshow": {
     "slide_type": "-"
    },
    "tags": []
   },
   "outputs": [
    {
     "data": {
      "application/vnd.jupyter.widget-view+json": {
       "model_id": "af8b08d32ac9494d9351bec8b04bcc19",
       "version_major": 2,
       "version_minor": 0
      },
      "text/plain": [
       "SubmittableTextBox(children=(SubmittableText(value=''), Button(icon='search', layout=Layout(width='32px'), sty…"
      ]
     },
     "metadata": {},
     "output_type": "display_data"
    },
    {
     "data": {
      "application/vnd.jupyter.widget-view+json": {
       "model_id": "26f3a5ab40cc485fbe1a4002ad264140",
       "version_major": 2,
       "version_minor": 0
      },
      "text/plain": [
       "TermsButtons(children=(Button(description=' ', layout=Layout(border='solid 1px', display='flex', justify_conte…"
      ]
     },
     "metadata": {},
     "output_type": "display_data"
    },
    {
     "data": {
      "application/vnd.jupyter.widget-view+json": {
       "model_id": "2f88dd8f52d34f2eb8938a1611ef085e",
       "version_major": 2,
       "version_minor": 0
      },
      "text/plain": [
       "Output(layout=Layout(border='1px solid black', height='160px', overflow='auto'))"
      ]
     },
     "metadata": {},
     "output_type": "display_data"
    }
   ],
   "source": [
    "box2 = SubmittableTextBox()\n",
    "terms2 = TermsButtons(box2, index=-1)\n",
    "out2 = Output(layout={'height': '160px', 'border': '1px solid black', 'overflow': 'auto', 'white-space': 'nowrap'})\n",
    "\n",
    "class App2(App):\n",
    "    \n",
    "    def wait_for_new_key_stroke(self):\n",
    "        return box2.get_key_stroke_future()\n",
    "    \n",
    "    def wait_for_submitted_value(self):\n",
    "        return box2.get_submitted_value_future()\n",
    "    \n",
    "    def handle_suggestion_list(self, resp):\n",
    "        with out2:\n",
    "            out2.outputs = ({'name': 'stdout', 'output_type': 'stream', 'text': dumps(resp.data, indent=2)}, )\n",
    "        text = {term['term']: None for term in resp.data.get('queryTerms', [])}\n",
    "        terms2.set(list(text.keys()))\n",
    "            \n",
    "    def handle_result_list(self, resp):\n",
    "        self.handle_suggestion_list(resp)\n",
    "        box2.text_w.value = ''\n",
    "        terms2.set([])\n",
    "        \n",
    "display(box2, terms2, out2)\n",
    "App2().run()"
   ]
  },
  {
   "cell_type": "markdown",
   "id": "f016d82b-c58c-4d8b-914c-f17d590cae94",
   "metadata": {
    "slideshow": {
     "slide_type": "slide"
    },
    "tags": []
   },
   "source": [
    "# OntologyButtons\n",
    "\n",
    "TBC"
   ]
  },
  {
   "cell_type": "markdown",
   "id": "f94f4ffe-2ce2-44f4-8866-cc727c58baad",
   "metadata": {},
   "source": [
    "## PositionMap\n",
    "\n",
    "`OneBoxSimple` always uses the same search center, hosted as a class attribute. It is convenient to use the center of a map to gather a position.\n",
    "\n",
    "The `PositionMap` class uses [`here-map-widget`](https://pypi.org/project/here-map-widget-for-jupyter/) dragging and zooming capabilities to capture the center of a HERE map and sends it to an observer. \n",
    "\n",
    "For this it expects a `position_handler` constructor parameter respecting the `traitlets` event handler [signature](https://ipywidgets.readthedocs.io/en/latest/examples/Widget%20Events.html#Registering-callbacks-to-trait-changes-in-the-kernel). In the snippet below, the map position is only displayed in an `Output` widget, each time the user interacts with the map:"
   ]
  },
  {
   "cell_type": "code",
   "execution_count": 10,
   "id": "6d91ffe2-d72c-4e6a-9fba-e7f8c995cc28",
   "metadata": {},
   "outputs": [
    {
     "data": {
      "application/vnd.jupyter.widget-view+json": {
       "model_id": "945cc28ddcc94d7bbe8d1beb008e9b37",
       "version_major": 2,
       "version_minor": 0
      },
      "text/plain": [
       "PositionMap(api_key='(...)', basemap=TileLayer(provider=MapTile(format='…"
      ]
     },
     "metadata": {},
     "output_type": "display_data"
    },
    {
     "data": {
      "application/vnd.jupyter.widget-view+json": {
       "model_id": "d888fea6b0a0481889de40bd5b29ba54",
       "version_major": 2,
       "version_minor": 0
      },
      "text/plain": [
       "Output(layout=Layout(height='30px', overflow='auto', width='100%'))"
      ]
     },
     "metadata": {},
     "output_type": "display_data"
    }
   ],
   "source": [
    "from here_search.widgets.response import PositionMap\n",
    "from here_search.api import API\n",
    "\n",
    "out = Output(layout = {'width': '100%', 'height': '30px', 'overflow': 'auto', 'white-space': 'nowrap'})\n",
    "\n",
    "def observe(change):\n",
    "    if change.type == \"change\" and change.new:\n",
    "        with out:\n",
    "            out.outputs = ({'name': 'stdout', 'output_type': 'stream', 'text': dumps({\"name\": change.name, \"new\": change.new})}, )\n",
    "    \n",
    "pmap = PositionMap(api_key=API().api_key, \n",
    "                   center=(52.51604, 13.37691), \n",
    "                   position_handler=observe)\n",
    "display(pmap, out)"
   ]
  },
  {
   "cell_type": "markdown",
   "id": "712c9ba7-62a7-4795-9a5e-7cdfb320bb1c",
   "metadata": {
    "slideshow": {
     "slide_type": "slide"
    },
    "tags": []
   },
   "source": [
    "# OneBoxMap\n",
    "\n",
    "\n",
    "`OneBoxMap` is a demo application showing how [HERE Geocoding and Search](https://developer.here.com/documentation/geocoding-search-api/dev_guide/topics/endpoint-autosuggest-brief.html) `/autosuggest`, `/discover` and `/lookup` endpoints are meant to be used:\n",
    "- The app  \n",
    "    - proposes a single text form to formulate queries\n",
    "    - displays three buttons with predicted last token text completions\n",
    "    - displays all API calls in a separate window\n",
    "    - displays search results on a map and a list\n",
    "<br/>\n",
    "- `/autosuggest` endpoint is called for each key-stroke.\n",
    "    - Follow-up query suggestions are displayed in the list only\n",
    "    - Location suggestions are displayed in the list and on the map\n",
    "    - Query term suggestions are displayed in three buttons\n",
    "    - Selected locations lead to a call to `/lookup` using the location record `id`.\n",
    "    - Selected query suggestions lead to a http GET using the query `href` value\n",
    "<br/>\n",
    "- `/discover` endpoint is called when a query submission is validated.\n",
    "    - Validation happens when the [return] key or the <img src=\"https://upload.wikimedia.org/wikipedia/commons/2/2b/Font_Awesome_5_solid_search.svg\" style=\"width:12px\"/> button are hit\n",
    "    - Location results are displayed in the list and on the map\n",
    "    - Selected results lead to a call to `/lookup` using the location record `id`.\n",
    "<br/>\n",
    "- `/autosuggest` and `/discover` requests are sent using the map center as search center\n",
    "- Search requests are cached during the lifetime of the application\n",
    "\n",
    "\n",
    "<!-- https://commons.wikimedia.org/wiki/File:Font_Awesome_5_solid_search.svg -->"
   ]
  },
  {
   "cell_type": "code",
   "execution_count": 11,
   "id": "54d57978-5cc6-40f1-aeda-04f49656b719",
   "metadata": {
    "slideshow": {
     "slide_type": "-"
    },
    "tags": []
   },
   "outputs": [
    {
     "data": {
      "application/vnd.jupyter.widget-view+json": {
       "model_id": "de1134dff33247a0856868a7934c1235",
       "version_major": 2,
       "version_minor": 0
      },
      "text/plain": [
       "HTML(value='<style>.result-button div, .result-button button { font-size: 10px; }</style>')"
      ]
     },
     "metadata": {},
     "output_type": "display_data"
    },
    {
     "data": {
      "application/vnd.jupyter.widget-view+json": {
       "model_id": "f949edb8f7c6436389595a5b030f1f1e",
       "version_major": 2,
       "version_minor": 0
      },
      "text/plain": [
       "PositionMap(api_key='(...)', basemap=TileLayer(provider=MapTile(format='…"
      ]
     },
     "metadata": {},
     "output_type": "display_data"
    },
    {
     "data": {
      "application/vnd.jupyter.widget-view+json": {
       "model_id": "0fcb561e2bb147898aaafe2332690ebe",
       "version_major": 2,
       "version_minor": 0
      },
      "text/plain": [
       "Output(layout=Layout(border='1px solid black', height='160px', overflow='auto', width='100%'))"
      ]
     },
     "metadata": {},
     "output_type": "display_data"
    }
   ],
   "source": [
    "from here_search.widgets.app import OneBoxMap\n",
    "OneBoxMap().run()"
   ]
  },
  {
   "cell_type": "code",
   "execution_count": null,
   "id": "1f357484-86ab-4faa-8879-8cc256024975",
   "metadata": {},
   "outputs": [],
   "source": []
  }
 ],
 "metadata": {
  "celltoolbar": "Slideshow",
  "kernelspec": {
   "display_name": "search demo ext",
   "language": "python",
   "name": "search_demo_ext"
  },
  "language_info": {
   "codemirror_mode": {
    "name": "ipython",
    "version": 3
   },
   "file_extension": ".py",
   "mimetype": "text/x-python",
   "name": "python",
   "nbconvert_exporter": "python",
   "pygments_lexer": "ipython3",
   "version": "3.9.7"
  }
 },
 "nbformat": 4,
 "nbformat_minor": 5
}
