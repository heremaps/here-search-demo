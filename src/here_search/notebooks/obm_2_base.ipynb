{
 "cells": [
  {
   "cell_type": "markdown",
   "id": "bd7c96fd-a26a-4ea4-9dd5-f7ab0d592301",
   "metadata": {
    "slideshow": {
     "slide_type": "slide"
    },
    "tags": []
   },
   "source": [
    "# SubmittableTextBox\n",
    "\n",
    "`SubmittableTextBox` is a special `Text` widget supporting key strokes events and text submissions.\n",
    "\n",
    "Its method `get_key_stroke_future()` returns an awaitable set to the observed text form. Its method `get_submitted_value_future()` returns an awaitable set to the validated text.\n",
    "\n",
    "Both methods are meant to be awaited continuously. In the snippet below, key strokes and text submissions are displayed in an `Output` widget."
   ]
  },
  {
   "cell_type": "code",
   "execution_count": null,
   "id": "7ac7b6c6-70c7-458b-ac16-7ad7f5551321",
   "metadata": {},
   "outputs": [],
   "source": [
    "from here_search.widgets.request import SubmittableTextBox\n",
    "from ipywidgets import Output\n",
    "from asyncio import ensure_future\n",
    "\n",
    "box = SubmittableTextBox()\n",
    "layout_30 = {'height': '30px', 'border': '1px solid black'}\n",
    "out_keys = Output(layout=layout_30)\n",
    "out_text = Output(layout=layout_30)\n",
    "\n",
    "async def print_key_strokes(box, out):\n",
    "    while True:\n",
    "        with out:\n",
    "            keys = await box.get_key_stroke_future()\n",
    "            out.outputs = ({'name': 'stdout', 'output_type': 'stream', 'text': keys}, )\n",
    "\n",
    "async def print_submitted_text(box, out):\n",
    "    while True:\n",
    "        with out:\n",
    "            text = await box.get_submitted_value_future()\n",
    "            out.outputs = ({'name': 'stdout', 'output_type': 'stream', 'text': text}, )            \n",
    "            \n",
    "t1 = ensure_future(print_key_strokes(box, out_keys))\n",
    "t2 = ensure_future(print_submitted_text(box, out_text))\n",
    "display(box, out_keys, out_text)"
   ]
  },
  {
   "cell_type": "markdown",
   "id": "1a364381-4492-4e6a-9a81-432f607ebbb5",
   "metadata": {},
   "source": [
    "## TermsButtons\n",
    "\n",
    "`TermsButtons` objects are taking a `SubmittableTextBox` instance to feed it with predefined values when the buttons are selected. Per default, the complete form value is overwritten by the button text. With a `index` parameter, only the token of related index is overwritten:"
   ]
  },
  {
   "cell_type": "code",
   "execution_count": null,
   "id": "80d1d992-3797-4a73-a6f7-40f7cac36b56",
   "metadata": {},
   "outputs": [],
   "source": [
    "from here_search.widgets.request import TermsButtons\n",
    "\n",
    "box2 = SubmittableTextBox()\n",
    "terms = TermsButtons(box2, values=[\"text 1\", \"text 2\"], index=-1)\n",
    "out_keys2 = Output(layout=layout_30)\n",
    "\n",
    "t3 = ensure_future(print_key_strokes(box2, out_keys2))\n",
    "display(box2, terms, out_keys2)"
   ]
  },
  {
   "cell_type": "markdown",
   "id": "c23f875a-2124-460b-8d1f-e6a18a7338a5",
   "metadata": {
    "slideshow": {
     "slide_type": "slide"
    },
    "tags": []
   },
   "source": [
    "# OneBoxBase\n",
    "\n",
    "\n",
    "Similarly to the previous example, the `OneBoxBase` objects continuously wait for both key strokes and text submissions through `wait_for_new_key_stroke()` and `wait_for_submitted_value()` methods. \n",
    "\n",
    "`OneBoxBase` then sends keystrokes and text submissions to Autosuggest and Discover respectively. The related responses are handled through `handle_suggestion_list()` and `handle_result_list()` methods.\n",
    "\n",
    "In the snippet below, `App` uses `SubmittableTextBox` to feed the `wait_for` methods and an `Output` widget to display returned JSON responses."
   ]
  },
  {
   "cell_type": "code",
   "execution_count": null,
   "id": "2f413760-66f5-4a13-828b-36cf994213bf",
   "metadata": {
    "slideshow": {
     "slide_type": "-"
    },
    "tags": []
   },
   "outputs": [],
   "source": [
    "from here_search.base import OneBoxBase\n",
    "from here_search.widgets.request import SubmittableTextBox\n",
    "from asyncio import Future\n",
    "from ipywidgets import Output\n",
    "from json import dumps\n",
    "\n",
    "box = SubmittableTextBox()\n",
    "out = Output(layout={'height': '160px', 'border': '1px solid black', 'overflow': 'auto', 'white-space': 'nowrap'})\n",
    "\n",
    "class App(OneBoxBase):\n",
    "    \n",
    "    def wait_for_new_key_stroke(self):\n",
    "        return box.get_key_stroke_future()\n",
    "    \n",
    "    def wait_for_submitted_value(self):\n",
    "        return box.get_submitted_value_future()\n",
    "    \n",
    "    def handle_suggestion_list(self, resp):\n",
    "        with out:\n",
    "            out.outputs = ({'name': 'stdout', 'output_type': 'stream', 'text': dumps(resp.data, indent=2)}, )\n",
    "            \n",
    "    def handle_result_list(self, resp):\n",
    "        self.handle_suggestion_list(resp)\n",
    "        box.text_w.value = ''\n",
    "        \n",
    "    def __dummy(self):\n",
    "        task = Future()\n",
    "        task.cancel()\n",
    "        return task\n",
    "    \n",
    "    def wait_for_selected_result(self):\n",
    "        return self.__dummy()\n",
    "    def wait_for_selected_shortcut(self):\n",
    "        return self.__dummy()\n",
    "    def handle_empty_text_submission(self):\n",
    "        pass\n",
    "\n",
    "App().run()\n",
    "display(box, out)"
   ]
  },
  {
   "cell_type": "code",
   "execution_count": null,
   "id": "89ba99f7-7af0-4520-860c-a33de5e3df5e",
   "metadata": {
    "slideshow": {
     "slide_type": "-"
    },
    "tags": []
   },
   "outputs": [],
   "source": [
    "from here_search.widgets.request import TermsButtons\n",
    "\n",
    "box2 = SubmittableTextBox()\n",
    "terms2 = TermsButtons(box2)\n",
    "out2 = Output(layout=layout)\n",
    "\n",
    "class App2(App):\n",
    "    def wait_for_new_key_stroke(self):\n",
    "        return box2.get_key_stroke_future()\n",
    "    \n",
    "    def wait_for_submitted_value(self):\n",
    "        return box2.get_submitted_value_future()\n",
    "    \n",
    "    def handle_suggestion_list(self, resp):\n",
    "        with out2:\n",
    "            out2.outputs = ({'name': 'stdout', 'output_type': 'stream', 'text': dumps(resp.data, indent=2)}, )\n",
    "        text = {term['term']: None for term in resp.data.get('queryTerms', [])}\n",
    "        terms2.set(list(text.keys()))\n",
    "            \n",
    "    def handle_result_list(self, resp):\n",
    "        self.handle_suggestion_list(resp)\n",
    "        box2.text_w.value = ''\n",
    "        terms2.set([])\n",
    "        \n",
    "display(box2, terms2, out2\n",
    "App2().run()"
   ]
  },
  {
   "cell_type": "code",
   "execution_count": null,
   "id": "7d83d857-fe6a-456d-ab5c-05490a815887",
   "metadata": {
    "slideshow": {
     "slide_type": "-"
    },
    "tags": []
   },
   "outputs": [],
   "source": []
  },
  {
   "cell_type": "markdown",
   "id": "f94f4ffe-2ce2-44f4-8866-cc727c58baad",
   "metadata": {},
   "source": [
    "## PositionMap\n",
    "\n",
    "The `PositionMap` class uses [`here-map-widget`](https://pypi.org/project/here-map-widget-for-jupyter/) dragging and zooming capabilities to capture the center of a HERE map. For this it expects a `position_handler` constructor parameter to be set to an observer function:"
   ]
  },
  {
   "cell_type": "code",
   "execution_count": null,
   "id": "6d91ffe2-d72c-4e6a-9fba-e7f8c995cc28",
   "metadata": {},
   "outputs": [],
   "source": [
    "from here_search.widgets.response import PositionMap\n",
    "from here_search.api import API\n",
    "\n",
    "out = Output(layout = {'width': '100%', 'height': '30px', 'overflow': 'auto', 'white-space': 'nowrap'})\n",
    "\n",
    "def observe(change):\n",
    "    if change.type == \"change\" and change.new:\n",
    "        with out:\n",
    "            out.outputs = ({'name': 'stdout', 'output_type': 'stream', 'text': dumps({\"name\": change.name, \"new\": change.new})}, )\n",
    "    \n",
    "map = PositionMap(api_key=API().api_key, center=(52.51604, 13.37691), position_handler=observe)\n",
    "display(map)\n",
    "display(out)"
   ]
  },
  {
   "cell_type": "markdown",
   "id": "f016d82b-c58c-4d8b-914c-f17d590cae94",
   "metadata": {
    "slideshow": {
     "slide_type": "slide"
    },
    "tags": []
   },
   "source": [
    "# OneBoxMap\n",
    "\n",
    "\n",
    "`OneBoxMap` is a demo application showing how [HERE Geocoding and Search](https://developer.here.com/documentation/geocoding-search-api/dev_guide/topics/endpoint-autosuggest-brief.html) `/autosuggest`, `/discover` and `/lookup` endpoints are meant to be used:\n",
    "- The app  \n",
    "    - proposes a single text form to formulate queries\n",
    "    - displays three buttons with predicted last token text completions\n",
    "    - displays all API calls in a separate window\n",
    "    - displays search results on a map and a list\n",
    "<br/>\n",
    "- `/autosuggest` endpoint is called for each key-stroke.\n",
    "    - Follow-up query suggestions are displayed in the list only\n",
    "    - Location suggestions are displayed in the list and on the map\n",
    "    - Query term suggestions are displayed in three buttons\n",
    "    - Selected locations lead to a call to `/lookup` using the location record `id`.\n",
    "    - Selected query suggestions lead to a http GET using the query `href` value\n",
    "<br/>\n",
    "- `/discover` endpoint is called when a query submission is validated.\n",
    "    - Validation happens when the [return] key or the <img src=\"https://upload.wikimedia.org/wikipedia/commons/2/2b/Font_Awesome_5_solid_search.svg\" style=\"width:12px\"/> button are hit\n",
    "    - Location results are displayed in the list and on the map\n",
    "    - Selected results lead to a call to `/lookup` using the location record `id`.\n",
    "<br/>\n",
    "- `/autosuggest` and `/discover` requests are sent using the map center as search center\n",
    "- Search requests are cached during the lifetime of the application\n",
    "\n",
    "\n",
    "<!-- https://commons.wikimedia.org/wiki/File:Font_Awesome_5_solid_search.svg -->"
   ]
  },
  {
   "cell_type": "code",
   "execution_count": null,
   "id": "54d57978-5cc6-40f1-aeda-04f49656b719",
   "metadata": {
    "slideshow": {
     "slide_type": "-"
    },
    "tags": []
   },
   "outputs": [],
   "source": [
    "from here_search.widgets.app import OneBoxMap\n",
    "OneBoxMap().run()"
   ]
  }
 ],
 "metadata": {
  "celltoolbar": "Slideshow",
  "kernelspec": {
   "display_name": "search demo ext",
   "language": "python",
   "name": "search_demo_ext"
  },
  "language_info": {
   "codemirror_mode": {
    "name": "ipython",
    "version": 3
   },
   "file_extension": ".py",
   "mimetype": "text/x-python",
   "name": "python",
   "nbconvert_exporter": "python",
   "pygments_lexer": "ipython3",
   "version": "3.9.7"
  }
 },
 "nbformat": 4,
 "nbformat_minor": 5
}
