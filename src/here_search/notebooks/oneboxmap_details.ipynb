{
 "cells": [
  {
   "cell_type": "markdown",
   "id": "a312886c-007e-40e8-90a7-a215e1708ff5",
   "metadata": {
    "slideshow": {
     "slide_type": "slide"
    },
    "tags": []
   },
   "source": [
    "## API credentials\n",
    "\n",
    "`here_search.api.API` is a thin wrapper around the HERE search & geocoding API. \n",
    "\n",
    "API objects host the `api_key` variable (prompted if not provided as argument or `API_KEY` environment variable).\n",
    "\n",
    "That object also hosts a non-persistent LRU cache for the calls sent to the search backend."
   ]
  },
  {
   "cell_type": "code",
   "execution_count": null,
   "id": "a59dacb1-da0a-40ba-a8d0-736738c62333",
   "metadata": {
    "slideshow": {
     "slide_type": "-"
    },
    "tags": []
   },
   "outputs": [],
   "source": [
    "from here_search.api import API\n",
    "\n",
    "api=API()\n",
    "#api=API(api_key=\"your api key\")"
   ]
  },
  {
   "cell_type": "markdown",
   "id": "f25645c8-6d61-4852-b166-4c35f11f9efd",
   "metadata": {
    "slideshow": {
     "slide_type": "slide"
    },
    "tags": []
   },
   "source": [
    "## User profile\n",
    "\n",
    "`here_search.user.Profile` objects host user preferences: opt-in/out decisions, preferred languages.\n",
    "It is meant to host users related preferences: prefered political view, fuel types, ...\n",
    "\n",
    "This object has two mandatory opt-in/out flags: \n",
    "- `use_positioning`: When set to `True`, the default position, and user language is derived from the local IP.\n",
    "- `share_experience`: When set to `True`, the user activity is shared with the Search backend (user id, session ids and clicks).\n",
    "\n",
    "`Permissive` is a derived class with `share_experience=True` and `use_positioning=True`. "
   ]
  },
  {
   "cell_type": "code",
   "execution_count": null,
   "id": "8e3e07c8-28ed-45dd-bc84-2837ed629aab",
   "metadata": {
    "slideshow": {
     "slide_type": "-"
    },
    "tags": []
   },
   "outputs": [],
   "source": [
    "from here_search import user\n",
    "from here_search.api import FuelPreference, FuelAdditionalInfo\n",
    "\n",
    "options = (FuelPreference(FuelPreference.types.truck_diesel), \n",
    "           FuelAdditionalInfo(FuelAdditionalInfo.topics.truck))\n",
    "\n",
    "profile = user.Profile(api=api,\n",
    "                       name=\"Emmanuel\",\n",
    "                       languages = {\"default\": \"en\", \"DEU\": \"de\", \"AUT\": \"de\", \"FRA\": \"fr\"},\n",
    "                       share_experience=True,\n",
    "                       use_positioning=True,\n",
    "                       options=options)\n",
    "\n",
    "profile"
   ]
  },
  {
   "cell_type": "markdown",
   "id": "87068d44-dcaa-424d-97e4-e5d915908d40",
   "metadata": {
    "slideshow": {
     "slide_type": "slide"
    },
    "tags": []
   },
   "source": [
    "## Application designs\n",
    "\n",
    "`Design.MapJSON` allows to visualize results in a list, on a map and as a JSON."
   ]
  },
  {
   "cell_type": "code",
   "execution_count": null,
   "id": "d3c3cc08-5e87-469d-bbb7-f9ac47d56eeb",
   "metadata": {
    "slideshow": {
     "slide_type": "-"
    },
    "tags": []
   },
   "outputs": [],
   "source": [
    "from here_search.widgets.app import OneBoxMap\n",
    "from here_search.widgets.design import MapJSON\n",
    "\n",
    "OneBoxMap(user_profile=profile, design=MapJSON).run()"
   ]
  },
  {
   "cell_type": "code",
   "execution_count": null,
   "id": "6e5e45f6-6c14-409a-85b3-4ac11c10f52d",
   "metadata": {},
   "outputs": [],
   "source": []
  }
 ],
 "metadata": {
  "celltoolbar": "Slideshow",
  "kernelspec": {
   "display_name": "search demo",
   "language": "python",
   "name": "search_demo"
  },
  "language_info": {
   "codemirror_mode": {
    "name": "ipython",
    "version": 3
   },
   "file_extension": ".py",
   "mimetype": "text/x-python",
   "name": "python",
   "nbconvert_exporter": "python",
   "pygments_lexer": "ipython3",
   "version": "3.9.7"
  }
 },
 "nbformat": 4,
 "nbformat_minor": 5
}
