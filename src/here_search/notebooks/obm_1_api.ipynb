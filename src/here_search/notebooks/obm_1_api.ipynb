{
 "cells": [
  {
   "cell_type": "markdown",
   "id": "a312886c-007e-40e8-90a7-a215e1708ff5",
   "metadata": {
    "pycharm": {
     "name": "#%% md\n"
    },
    "slideshow": {
     "slide_type": "slide"
    },
    "tags": []
   },
   "source": [
    "## API client\n",
    "\n",
    "`api.API` is a thin wrapper around the [HERE search & geocoding API](https://developer.here.com/documentation/geocoding-search-api/api-reference-swagger.html). \n",
    "API objects host the `api_key` variable (prompted if not provided as argument or `API_KEY` environment variable)."
   ]
  },
  {
   "cell_type": "code",
   "execution_count": 1,
   "id": "a59dacb1-da0a-40ba-a8d0-736738c62333",
   "metadata": {
    "pycharm": {
     "name": "#%%\n"
    },
    "slideshow": {
     "slide_type": "-"
    },
    "tags": []
   },
   "outputs": [],
   "source": [
    "from here_search.api import API\n",
    "\n",
    "api=API()"
   ]
  },
  {
   "cell_type": "markdown",
   "id": "a1274884-3a2e-4cfa-aa19-85e50033b8e5",
   "metadata": {},
   "source": [
    "The API class uses async methods to take advantage of Jupyter event loop and [async REPL](https://blog.jupyter.org/ipython-7-0-async-repl-a35ce050f7f7). For example `/discover` requests are sent with `api.discover()` like:"
   ]
  },
  {
   "cell_type": "code",
   "execution_count": 2,
   "id": "da673fdb-baf9-41e0-9f32-b8e18436a579",
   "metadata": {},
   "outputs": [
    {
     "data": {
      "text/plain": [
       "'https://discover.search.hereapi.com/v1/discover?q=berlin&at=52%2C13&apiKey=tIEID-Z-ogljOD83iQO6JiHbGtn9lyFmt0srqjIRtao'"
      ]
     },
     "execution_count": 2,
     "metadata": {},
     "output_type": "execute_result"
    }
   ],
   "source": [
    "resp = await api.discover(q=\"berlin\", latitude=52, longitude=13)\n",
    "resp.req.full"
   ]
  },
  {
   "cell_type": "code",
   "execution_count": 3,
   "id": "7ece78d9-5061-4493-a0ad-904f3c7d8aa6",
   "metadata": {},
   "outputs": [
    {
     "data": {
      "text/plain": [
       "{'items': [{'title': 'Berlin, Deutschland',\n",
       "   'id': 'here:cm:namedplace:20187403',\n",
       "   'language': 'de',\n",
       "   'resultType': 'locality',\n",
       "   'localityType': 'city',\n",
       "   'address': {'label': 'Berlin, Deutschland',\n",
       "    'countryCode': 'DEU',\n",
       "    'countryName': 'Deutschland',\n",
       "    'stateCode': 'BE',\n",
       "    'state': 'Berlin',\n",
       "    'countyCode': 'B',\n",
       "    'county': 'Berlin',\n",
       "    'city': 'Berlin',\n",
       "    'postalCode': '10117'},\n",
       "   'position': {'lat': 52.51604, 'lng': 13.37691},\n",
       "   'distance': 62854,\n",
       "   'mapView': {'west': 13.08835,\n",
       "    'south': 52.33812,\n",
       "    'east': 13.761,\n",
       "    'north': 52.6755}}]}"
      ]
     },
     "execution_count": 3,
     "metadata": {},
     "output_type": "execute_result"
    }
   ],
   "source": [
    "resp.data"
   ]
  },
  {
   "cell_type": "code",
   "execution_count": 6,
   "id": "f7d46007-3a25-4f10-90fe-e3fd0f6c4cc6",
   "metadata": {},
   "outputs": [
    {
     "data": {
      "text/plain": [
       "'https://autosuggest.search.hereapi.com/v1/autosuggest?q=restaura&at=52%2C13&limit=2&termsLimit=3&apiKey=tIEID-Z-ogljOD83iQO6JiHbGtn9lyFmt0srqjIRtao'"
      ]
     },
     "execution_count": 6,
     "metadata": {},
     "output_type": "execute_result"
    }
   ],
   "source": [
    "resp = await api.autosuggest(q=\"restaura\", latitude=52, longitude=13, limit=2, termsLimit=3)\n",
    "resp.req.full"
   ]
  },
  {
   "cell_type": "code",
   "execution_count": 7,
   "id": "7ebe5c74-9469-4593-99db-f8ded06d25ac",
   "metadata": {},
   "outputs": [
    {
     "data": {
      "text/plain": [
       "{'items': [{'title': 'Restaurant',\n",
       "   'id': 'here:cm:ontology:restaurant',\n",
       "   'resultType': 'categoryQuery',\n",
       "   'href': 'https://autosuggest.search.hereapi.com/v1/discover?q=Restaurant&_ontology=restaurant&at=52.0%2C13.0',\n",
       "   'highlights': {'title': [{'start': 0, 'end': 8}]}},\n",
       "  {'title': 'Restaurant Alte Post',\n",
       "   'id': 'here:pds:place:276u31pz-5d3dd22e28f04340c806c9d6e3491260',\n",
       "   'resultType': 'place',\n",
       "   'address': {'label': 'Restaurant Alte Post, Treuenbrietzener Straße 45, 14913 Niedergörsdorf, Deutschland'},\n",
       "   'position': {'lat': 52.01699, 'lng': 12.99429},\n",
       "   'access': [{'lat': 52.01682, 'lng': 12.99409}],\n",
       "   'distance': 1929,\n",
       "   'categories': [{'id': '100-1000-0006',\n",
       "     'name': 'Delikatessen',\n",
       "     'primary': True},\n",
       "    {'id': '100-1000-0000', 'name': 'Restaurant'},\n",
       "    {'id': '100-1100-0010', 'name': 'Kaffeehaus'}],\n",
       "   'references': [{'supplier': {'id': 'tripadvisor'}, 'id': '23950733'}],\n",
       "   'foodTypes': [{'id': '300-000', 'name': 'Europäisch', 'primary': True},\n",
       "    {'id': '302-000', 'name': 'Deutsch'},\n",
       "    {'id': '800-066', 'name': 'Fusion'}],\n",
       "   'highlights': {'title': [{'start': 0, 'end': 8}],\n",
       "    'address': {'label': [{'start': 0, 'end': 8}]}}}],\n",
       " 'queryTerms': [{'term': 'Restaurant',\n",
       "   'replaces': 'restaura',\n",
       "   'start': 0,\n",
       "   'end': 8},\n",
       "  {'term': 'Restaurant', 'replaces': 'restaura', 'start': 0, 'end': 8},\n",
       "  {'term': 'Restauration', 'replaces': 'restaura', 'start': 0, 'end': 8}]}"
      ]
     },
     "execution_count": 7,
     "metadata": {},
     "output_type": "execute_result"
    }
   ],
   "source": [
    "resp.data"
   ]
  },
  {
   "cell_type": "code",
   "execution_count": 8,
   "id": "9fa03844-4584-4b2a-ae93-9742450ae76e",
   "metadata": {},
   "outputs": [
    {
     "data": {
      "text/plain": [
       "['Restaurant', 'Restauration']"
      ]
     },
     "execution_count": 8,
     "metadata": {},
     "output_type": "execute_result"
    }
   ],
   "source": [
    "resp.terms"
   ]
  },
  {
   "cell_type": "code",
   "execution_count": 9,
   "id": "a5772d87-0cba-4c84-8aa4-acf7e726a40a",
   "metadata": {},
   "outputs": [
    {
     "data": {
      "text/plain": [
       "{'type': 'FeatureCollection',\n",
       " 'features': [{'type': 'Feature',\n",
       "   'geometry': {'type': 'Point', 'coordinates': [12.99429, 52.01699]},\n",
       "   'properties': {'title': 'Restaurant Alte Post',\n",
       "    'categories': 'Delikatessen'}}]}"
      ]
     },
     "execution_count": 9,
     "metadata": {},
     "output_type": "execute_result"
    }
   ],
   "source": [
    "resp.geojson()"
   ]
  },
  {
   "cell_type": "markdown",
   "id": "70cae96a-ec74-4592-87b8-06a2ae0c1002",
   "metadata": {},
   "source": [
    "## Suggestions for a growing query\n",
    "\n",
    "Autosuggest is made to help end-user to quickly formulate a query.\n",
    "\n",
    "\n",
    "It is recommended to use Autosuggest response items `resulType` field to decide what to do in case of user selection. The selection of a `chainQuery` or `categoryQuery` result should lead to a GET of the `href` field value. Other selections should lead to a call to `/lookup` using the `id` field value. \n",
    "Note that the `resulType` field can be used to render results differently. For example, a <img src=\"https://upload.wikimedia.org/wikipedia/commons/2/2b/Font_Awesome_5_solid_search.svg\" style=\"width:12px\"/> can be used to signal a `chainQuery` or `categoryQuery`.\n",
    "\n",
    "The following snippet sends an Autosuggets request for each additional character of the query \"restaurant hamburg\" a hypothetic user intends to type to get restaurants near the German city of Hamburg. Only each response first result is displayed: "
   ]
  },
  {
   "cell_type": "code",
   "execution_count": 27,
   "id": "5db1262c-1815-44a2-a9be-c67377ca58f8",
   "metadata": {},
   "outputs": [
    {
     "name": "stdout",
     "output_type": "stream",
     "text": [
      "#  query                     resultType         id                                                                title         \n",
      "1  'r'                       administrativeArea here:cm:namedplace:20181414                                       Regensburg (Landkreis) (R), Bavaria, Germany\n",
      "2  're'                      locality           here:cm:namedplace:20180814                                       Regensburg, Bavaria, Germany\n",
      "3  'res'                     place              here:pds:place:276u33d2-49b7fa2d1beb4df6bd489533a371dbc0          IKEA Restaurant\n",
      "4  'rest'                    categoryQuery      here:cm:taxonomy:restaurant                                       Restaurant    \n",
      "5  'resta'                   categoryQuery      here:cm:taxonomy:restaurant                                       Restaurant    \n",
      "6  'restau'                  categoryQuery      here:cm:taxonomy:restaurant                                       Restaurant    \n",
      "7  'restaur'                 categoryQuery      here:cm:taxonomy:restaurant                                       Restaurant    \n",
      "8  'restaura'                categoryQuery      here:cm:taxonomy:restaurant                                       Restaurant    \n",
      "9  'restauran'               categoryQuery      here:cm:taxonomy:restaurant                                       Restaurant    \n",
      "10 'restaurant'              categoryQuery      here:cm:taxonomy:restaurant                                       Restaurant    \n",
      "11 'restaurant '             categoryQuery      here:cm:taxonomy:restaurant                                       Restaurant    \n",
      "12 'restaurant h'            place              here:pds:place:276u33db-105c221362464a8cb3977a6c616baee9          Hopfingerbräu im Palais\n",
      "13 'restaurant ha'           place              here:pds:place:276u30vw-9aa75f80605e4281ae9bb7b985e5c633          Gasthof Hammermuhle (Restaurant Hammermühle)\n",
      "14 'restaurant ham'          categoryQuery      here:cm:taxonomy:restaurant-here:cm:namedplace:20151516           Restaurant near Hamburg, Germany\n",
      "15 'restaurant hamb'         categoryQuery      here:cm:taxonomy:restaurant-here:cm:namedplace:20151516           Restaurant near Hamburg, Germany\n",
      "16 'restaurant hambu'        categoryQuery      here:cm:taxonomy:restaurant-here:cm:namedplace:20151516           Restaurant near Hamburg, Germany\n",
      "17 'restaurant hambur'       categoryQuery      here:cm:taxonomy:restaurant-here:cm:namedplace:20151516           Restaurant near Hamburg, Germany\n",
      "18 'restaurant hamburg'      categoryQuery      here:cm:taxonomy:restaurant-here:cm:namedplace:20151516           Restaurant near Hamburg, Germany\n"
     ]
    }
   ],
   "source": [
    "q = \"restaurant hamburg\"\n",
    "\n",
    "template = \"{:<2} {:<25} {:<18} {:<65} {:<14}\"\n",
    "print(template.format(\"#\", \"query\", \"resultType\", \"id\", \"title\"))\n",
    "for i in range(len(q)):\n",
    "    resp = await api.autosuggest(q=q[:i+1], latitude=52, longitude=13,  lang=\"en\", limit=1)\n",
    "    item = resp.data[\"items\"][0]\n",
    "    print(template.format(i+1, f\"'{q[:i+1]}'\", item['resultType'], item['id'][:60], item['title']))"
   ]
  },
  {
   "cell_type": "markdown",
   "id": "3829230e-43c1-4e4e-8441-1bac40ec8381",
   "metadata": {},
   "source": [
    "If the end-user was actually typing the query \"restaurant\", the suggestion of `id` value `here:cm:taxonomy:restaurant` returned for the 4-letter query \"rest\" could be selected to trigger the related `href` query. But the end-user needs to continue typing untill \"restaurants ham\" to get the suggestion titled \"Restaurants near Hamburg, Germany\".\n",
    "\n",
    "## Terms suggestions\n",
    "\n",
    "To further help end-user to formulate such a long query, Autosuggest also returns predictive text for the query last token while it is being typed. Those suggested terms are in the response `queryTerms` when the request contains a positive `termsLimit` parameter. In the snippet below, 3 last token suggestiosn are returned per response:"
   ]
  },
  {
   "cell_type": "code",
   "execution_count": 28,
   "id": "b8a9bc0d-6725-4edb-9de3-9ada83312246",
   "metadata": {},
   "outputs": [
    {
     "name": "stdout",
     "output_type": "stream",
     "text": [
      "#  query                     terms                                  title         \n",
      "1  'r'                       Raum,Roubroeks                         Regensburg (Landkreis) (R), Bavaria, Germany\n",
      "2  're'                      Regensburg,Recife,Region               Regensburg, Bavaria, Germany\n",
      "3  'res'                     Restaurant,Restauration,Resort         IKEA Restaurant\n",
      "4  'rest'                    Restaurant,Restroom,Restaurant         Restaurant    \n",
      "5  'resta'                   Restaurant,Restauration,Restaurant     Restaurant    \n",
      "6  'restau'                  Restaurant,Restauration,Restaurante    Restaurant    \n",
      "7  'restaur'                 Restaurant,Restaurant,Restauration     Restaurant    \n",
      "8  'restaura'                Restaurant,Restaurant,Restauration     Restaurant    \n",
      "9  'restauran'               Restaurant,Restaurant                  Restaurant    \n",
      "10 'restaurant'              Restaurante                            Restaurant    \n",
      "11 'restaurant '             Restaurante                            Restaurant    \n",
      "12 'restaurant h'            Hopfingerbräu,Havellandhalle,Hanover   Hopfingerbräu im Palais\n",
      "13 'restaurant ha'           Hammermühle,Hamburg,Hawally            Gasthof Hammermuhle (Restaurant Hammermühle)\n",
      "14 'restaurant ham'          Hamburg,Hamilton,Hammermühle           Restaurant near Hamburg, Germany\n",
      "15 'restaurant hamb'         Hamburg,Hamburger ,Hambacher           Restaurant near Hamburg, Germany\n",
      "16 'restaurant hambu'        Hamburg,Hamburger ,Hambühren           Restaurant near Hamburg, Germany\n",
      "17 'restaurant hambur'       Hamburg,Hamburger ,Hamburg             Restaurant near Hamburg, Germany\n",
      "18 'restaurant hamburg'      Hamburger                              Restaurant near Hamburg, Germany\n"
     ]
    }
   ],
   "source": [
    "template = \"{:<2} {:<25} {:<38} {:<14}\"\n",
    "print(template.format(\"#\", \"query\", \"terms\", \"title\"))\n",
    "for i in range(len(q)):\n",
    "    resp = await api.autosuggest(q=q[:i+1], latitude=52, longitude=13, lang=\"en\", limit=1, termsLimit=3)\n",
    "    item = resp.data[\"items\"][0]\n",
    "    terms = \",\".join(t[\"term\"] for t in resp.data[\"queryTerms\"])\n",
    "    print(template.format(i+1, f\"'{q[:i+1]}'\", terms, item['title']))"
   ]
  },
  {
   "cell_type": "markdown",
   "id": "3af70809-462f-432d-a752-6f0f901b8fc2",
   "metadata": {},
   "source": [
    "When presented to the end-user to replace the last token in the query, `queryTerms` can significantly speed-up the query submission. In the previous interaction, the use of the token \"Restaurant\" returned for the \"res\" query, would have led to the series of 8 queries instead of 14: \"r\", \"re\", \"res\", \"restaurant\", \"restaurant \", \"restaurant h\", \"restaurant ha\", \"restaurant hamburg\"."
   ]
  },
  {
   "cell_type": "code",
   "execution_count": 32,
   "id": "aa5203d6-686a-4e16-9126-78ddc6f32cd6",
   "metadata": {},
   "outputs": [
    {
     "name": "stdout",
     "output_type": "stream",
     "text": [
      "#  query                     terms                                  title         \n",
      "1  'r'                       Raum,Roubroeks                         Regensburg (Landkreis) (R), Bavaria, Germany\n",
      "2  're'                      Regensburg,Recife,Region               Regensburg, Bavaria, Germany\n",
      "3  'res'                     Restaurant,Restauration,Resort         IKEA Restaurant\n",
      "4  'restaurant'              Restaurante                            Restaurant    \n",
      "5  'restaurant '             Restaurante                            Restaurant    \n",
      "6  'restaurant h'            Hopfingerbräu,Havellandhalle,Hanover   Hopfingerbräu im Palais\n",
      "7  'restaurant ha'           Hammermühle,Hamburg,Hawally            Gasthof Hammermuhle (Restaurant Hammermühle)\n",
      "8  'restaurant hamburg'      Hamburger                              Restaurant near Hamburg, Germany\n"
     ]
    }
   ],
   "source": [
    "template = \"{:<2} {:<25} {:<38} {:<14}\"\n",
    "print(template.format(\"#\", \"query\", \"terms\", \"title\"))\n",
    "qs = [\"r\", \"re\", \"res\", \"restaurant\", \"restaurant \", \"restaurant h\", \"restaurant ha\", \"restaurant hamburg\"]\n",
    "for i, q in enumerate(qs):\n",
    "    resp = await api.autosuggest(q=q, latitude=52, longitude=13, lang=\"en\", limit=1, termsLimit=3)\n",
    "    item = resp.data[\"items\"][0]\n",
    "    terms = \",\".join(t[\"term\"] for t in resp.data[\"queryTerms\"])\n",
    "    print(template.format(i+1, f\"'{q}'\", terms, item['title']))"
   ]
  }
 ],
 "metadata": {
  "celltoolbar": "Slideshow",
  "kernelspec": {
   "display_name": "search demo ext",
   "language": "python",
   "name": "search_demo_ext"
  },
  "language_info": {
   "codemirror_mode": {
    "name": "ipython",
    "version": 3
   },
   "file_extension": ".py",
   "mimetype": "text/x-python",
   "name": "python",
   "nbconvert_exporter": "python",
   "pygments_lexer": "ipython3",
   "version": "3.9.7"
  }
 },
 "nbformat": 4,
 "nbformat_minor": 5
}
