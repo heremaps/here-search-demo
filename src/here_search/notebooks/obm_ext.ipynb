{
 "cells": [
  {
   "cell_type": "markdown",
   "id": "97296c8b-eda6-4386-a430-8a74a14e3d2b",
   "metadata": {
    "tags": []
   },
   "source": [
    "## OneBoxMap specialization\n",
    "\n",
    "`OneBoxCatNearCat` class is a client-side search results customization adding some _category near category_ capability.\n",
    "\n",
    "What it does:\n",
    "\n",
    "- capture queries following the format _head nearby_conjunction tail_\n",
    "- support various languages and multiple nearby conjunction by language (\"near\", \"close to\", ...)\n",
    "- use Autosuggest service to check if _head_ and _tail_ are both about place categories\n",
    "- add a category near category query suggestion button at the top of the Autosuggest suggestion list\n",
    "- send such category near category query to HERE Location Graph instead of Discover service\n",
    "\n",
    "Scenario:\n",
    "- From Chicago\n",
    "    - Start the app with an inital query \"ev charge near shopping\"\n",
    "    - Click on various results\n",
    "    - Type in the one box form another query (for example \"restaurant close to chargi\")\n",
    "    - Show the client side suggestion result of type `categoryNearCategoryQuery`\n",
    "    - Select the suggested cat near cat query\n",
    "- From another location\n",
    "    - search for \"Port Barcares\"\n",
    "    - search for \"restaurant près de plage\"\n",
    "    - search for \"berlin\", and then \"hotel neben museum\""
   ]
  },
  {
   "cell_type": "code",
   "execution_count": null,
   "id": "5e7be0b3-a65c-49f8-86a9-a48332e005b7",
   "metadata": {
    "pycharm": {
     "name": "#%%\n"
    }
   },
   "outputs": [],
   "source": [
    "from here_search import user\n",
    "from here_search.widgets.design import MapJSON\n",
    "from here_search.widgets.extension import OneBoxCatNearCat\n",
    "\n",
    "profile = user.Profile(name=\"Ursula\",\n",
    "                       languages = {\"default\": \"de\", \"FRA\": \"fr\", \"USA\": \"en\"},\n",
    "                       share_experience=True,\n",
    "                       use_positioning=True)\n",
    "\n",
    "profile.set_position(*profile.chicago)\n",
    "\n",
    "OneBoxCatNearCat(user_profile=profile,\n",
    "                 design=MapJSON,\n",
    "                 lg_pair_distance = 200, \n",
    "                 lg_radius = 10000, \n",
    "                 lg_text_submission=True,\n",
    "                 lg_children_details=True,\n",
    "                 initial_query=\"ev charge near shopping\").run()"
   ]
  },
  {
   "cell_type": "code",
   "execution_count": null,
   "id": "03bf7d77-86d3-4f3c-9a5b-aeea449ff0d5",
   "metadata": {},
   "outputs": [],
   "source": []
  }
 ],
 "metadata": {
  "celltoolbar": "Slideshow",
  "kernelspec": {
   "display_name": "search demo",
   "language": "python",
   "name": "search_demo"
  },
  "language_info": {
   "codemirror_mode": {
    "name": "ipython",
    "version": 3
   },
   "file_extension": ".py",
   "mimetype": "text/x-python",
   "name": "python",
   "nbconvert_exporter": "python",
   "pygments_lexer": "ipython3",
   "version": "3.9.7"
  }
 },
 "nbformat": 4,
 "nbformat_minor": 5
}
