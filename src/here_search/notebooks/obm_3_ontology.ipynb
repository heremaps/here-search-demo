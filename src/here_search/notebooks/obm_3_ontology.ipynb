{
 "cells": [
  {
   "cell_type": "markdown",
   "id": "a312886c-007e-40e8-90a7-a215e1708ff5",
   "metadata": {
    "pycharm": {
     "name": "#%% md\n"
    },
    "slideshow": {
     "slide_type": "slide"
    },
    "tags": []
   },
   "source": [
    "## Ontology shortcuts\n",
    "\n",
    "`OneBoxMap` is using `/browse` endpoint to support place category shortcuts linked to buttons.<br/>\n",
    "Supported are also cuisine and chain shortcuts, or any combinaison of the three of them.\n",
    "\n",
    "Ontology subsets are defined using the [category](https://developer.here.com/documentation/geocoding-search-api/dev_guide/topics-places/places-category-system-full.html), [cusine](https://developer.here.com/documentation/geocoding-search-api/dev_guide/topics-places/food-types-category-system-full.html), [chain](https://developer.here.com/documentation/geocoding-search-api/dev_guide/topics-places/places-chain-system-full.html) ID sets listed in the developer guide, and associated to icons from the [Font Awesome v5.12](https://fontawesome.com/v5/search?m=free&s=regular) repository.\n",
    "\n",
    "\n",
    "| name | categories | icon |\n",
    "|:-----|:-----------|:-----|\n",
    "| gas  | `700-7600-0000,700-7600-0116,700-7600-0444 ` | <img src=\"https://upload.wikimedia.org/wikipedia/commons/1/1d/Font_Awesome_5_solid_gas-pump.svg\" style=\"width:15px;\"/> |\n",
    "| eat  | `100`      | <img src=\"https://upload.wikimedia.org/wikipedia/commons/c/c5/Font_Awesome_5_solid_utensils.svg\" style=\"width:15px;\"/>|\n",
    "| sleep | `500-5000` | <img src=\"https://upload.wikimedia.org/wikipedia/commons/7/76/Font_Awesome_5_solid_bed.svg\" style=\"width:15px;\"/>|\n",
    "| truck stop | `700-7900-0131,700-7900-0132` | <img src=\"https://upload.wikimedia.org/wikipedia/commons/2/29/Font_Awesome_5_solid_parking.svg\" style=\"width:15px;\"/>|\n",
    "| ATM | `700-7010-0108` | <img src=\"https://upload.wikimedia.org/wikipedia/commons/2/20/Font_Awesome_5_solid_euro-sign.svg\" style=\"width:15px;\"/>|\n",
    "\n",
    "<!-- \n",
    "https://commons.wikimedia.org/wiki/File:Font_Awesome_5_solid_gas-pump.svg\n",
    "https://commons.wikimedia.org/wiki/File:Font_Awesome_5_solid_utensils.svg\n",
    "https://commons.wikimedia.org/wiki/File:Font_Awesome_5_solid_bed.svg\n",
    "https://commons.wikimedia.org/wiki/File:Font_Awesome_5_solid_parking.svg\n",
    "https://commons.wikimedia.org/wiki/File:Font_Awesome_5_solid_euro-sign.svg\n",
    "-->"
   ]
  },
  {
   "cell_type": "code",
   "execution_count": null,
   "id": "d3c3cc08-5e87-469d-bbb7-f9ac47d56eeb",
   "metadata": {
    "pycharm": {
     "name": "#%%\n"
    },
    "slideshow": {
     "slide_type": "-"
    },
    "tags": []
   },
   "outputs": [],
   "source": [
    "from here_search.widgets.query import Ontology, OntologyButton\n",
    "\n",
    "#-----------------------------------------------------------\n",
    "#               | name     | categories      | icon\n",
    "#-----------------------------------------------------------\n",
    "buttons_info = ((\"gas\",   (\"700-7600-0000\", \n",
    "                           \"700-7600-0116\", \n",
    "                           \"700-7600-0444\"  ), \"gas-pump\" ),\n",
    "                (\"eat\",   (\"100\",           ), \"utensils\" ), \n",
    "                (\"sleep\", (\"500-5000\",      ), \"bed\"      ),\n",
    "                (\"stop\",  (\"700-7900-0131\",\n",
    "                           \"700-7900-0132\", ), \"parking\"  ),\n",
    "                (\"ATM\",   (\"700-7010-0108\", ), \"euro-sign\"))\n",
    "#-----------------------------------------------------------\n",
    "\n",
    "ontology = [Ontology(name=name, categories=categories) for name, categories, icon in buttons_info]\n",
    "buttons = [OntologyButton(ontology=ontology, fa5_name=info[2]) for info, ontology in zip(buttons_info, ontology)]\n",
    "\n",
    "ontology"
   ]
  },
  {
   "cell_type": "code",
   "execution_count": null,
   "id": "2dd6174b-9b09-454d-a67e-9ddc4039fb18",
   "metadata": {
    "pycharm": {
     "name": "#%%\n"
    },
    "slideshow": {
     "slide_type": "-"
    },
    "tags": []
   },
   "outputs": [],
   "source": [
    "from here_search import user\n",
    "from here_search.widgets.design import MapJSON\n",
    "from here_search.widgets.app import OneBoxMap\n",
    "\n",
    "OneBoxMap(user_profile=user.Default(), ontology_buttons=buttons, design=MapJSON).run()"
   ]
  },
  {
   "cell_type": "code",
   "execution_count": null,
   "id": "8c4c9cc7-f140-4bc2-bb64-a4d89ba94d93",
   "metadata": {},
   "outputs": [],
   "source": []
  }
 ],
 "metadata": {
  "celltoolbar": "Slideshow",
  "kernelspec": {
   "display_name": "search demo",
   "language": "python",
   "name": "search_demo"
  },
  "language_info": {
   "codemirror_mode": {
    "name": "ipython",
    "version": 3
   },
   "file_extension": ".py",
   "mimetype": "text/x-python",
   "name": "python",
   "nbconvert_exporter": "python",
   "pygments_lexer": "ipython3",
   "version": "3.9.7"
  }
 },
 "nbformat": 4,
 "nbformat_minor": 5
}
