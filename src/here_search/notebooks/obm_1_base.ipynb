{
 "cells": [
  {
   "cell_type": "markdown",
   "id": "90fe7612-850e-4781-a7d1-f9a8d25a770d",
   "metadata": {
    "slideshow": {
     "slide_type": "slide"
    },
    "tags": []
   },
   "source": [
    "# User language preferences\n",
    "\n",
    "The definition of a user profile is a prerequisite.\n",
    "\n",
    "Such a profile is characterized by a geo-position and language preferences, by default set to the official language of the start position. <br/>\n",
    "For example: A \"londres\" query incurs different responses when the user has a french or a german start localization.\n",
    "\n",
    "(More [details](./obm_details.ipynb#User-profile) about user profiles)"
   ]
  },
  {
   "cell_type": "code",
   "execution_count": null,
   "id": "e647b05d",
   "metadata": {
    "slideshow": {
     "slide_type": "-"
    },
    "tags": []
   },
   "outputs": [],
   "source": [
    "from here_search import user\n",
    "\n",
    "profile = user.Default()\n",
    "profile.set_position(*profile.paris)\n",
    "\n",
    "profile"
   ]
  },
  {
   "cell_type": "markdown",
   "id": "bd7c96fd-a26a-4ea4-9dd5-f7ab0d592301",
   "metadata": {
    "slideshow": {
     "slide_type": "slide"
    },
    "tags": []
   },
   "source": [
    "# OneBoxMap\n",
    "\n",
    "\n",
    "The `OneBoxMap` application is using `/autosuggest` and `/discover` endpoints to support location search sessions:\n",
    "- Location and term suggestions are displayed for each key-stroke in a single text form.\n",
    "- Follow-up expansions are performed when category/chain suggestions are selected.\n",
    "- More precise locations are returned when the text is validated.\n",
    "- All result selections are signaled to the backend, together with [session](./obm_session_id.ipynb) and user ids.\n",
    "- Search requests are cached during the lifetime of the application\n",
    "\n",
    "The application is by default using a design combining \n",
    "- a single form used to formulate textual queries\n",
    "- a <img src=\"https://upload.wikimedia.org/wikipedia/commons/2/2b/Font_Awesome_5_solid_search.svg\" style=\"width:12px\"/> button used to validate textual queries\n",
    "- three terms buttons used to suggest search term completions\n",
    "- a scrollable result list widget\n",
    "- a HERE map to visualize the result list and modify the user profile geo-position\n",
    "- a log window used to display Search API URLs\n",
    "\n",
    "<!-- https://commons.wikimedia.org/wiki/File:Font_Awesome_5_solid_search.svg -->"
   ]
  },
  {
   "cell_type": "code",
   "execution_count": null,
   "id": "54d57978-5cc6-40f1-aeda-04f49656b719",
   "metadata": {
    "slideshow": {
     "slide_type": "-"
    },
    "tags": []
   },
   "outputs": [],
   "source": [
    "from here_search.widgets.app import OneBoxMap\n",
    "\n",
    "app=OneBoxMap(profile)\n",
    "app.run()"
   ]
  },
  {
   "cell_type": "code",
   "execution_count": null,
   "id": "46ca09fd-7ec5-4a76-9eac-72a1ab439386",
   "metadata": {},
   "outputs": [],
   "source": []
  }
 ],
 "metadata": {
  "celltoolbar": "Slideshow",
  "kernelspec": {
   "display_name": "search demo",
   "language": "python",
   "name": "search_demo"
  },
  "language_info": {
   "codemirror_mode": {
    "name": "ipython",
    "version": 3
   },
   "file_extension": ".py",
   "mimetype": "text/x-python",
   "name": "python",
   "nbconvert_exporter": "python",
   "pygments_lexer": "ipython3",
   "version": "3.9.7"
  }
 },
 "nbformat": 4,
 "nbformat_minor": 5
}
