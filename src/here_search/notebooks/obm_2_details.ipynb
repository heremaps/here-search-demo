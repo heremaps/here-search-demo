{
 "cells": [
  {
   "cell_type": "markdown",
   "id": "a312886c-007e-40e8-90a7-a215e1708ff5",
   "metadata": {
    "pycharm": {
     "name": "#%% md\n"
    },
    "slideshow": {
     "slide_type": "slide"
    },
    "tags": []
   },
   "source": [
    "## API credentials\n",
    "\n",
    "`api.API` is a thin wrapper around the HERE search & geocoding API. \n",
    "\n",
    "API objects host the `api_key` variable (prompted if not provided as argument or `API_KEY` environment variable).\n",
    "\n",
    "That object also hosts a non-persistent LRU cache for the calls sent to the search backend."
   ]
  },
  {
   "cell_type": "code",
   "execution_count": null,
   "id": "a59dacb1-da0a-40ba-a8d0-736738c62333",
   "metadata": {
    "pycharm": {
     "name": "#%%\n"
    },
    "slideshow": {
     "slide_type": "-"
    },
    "tags": []
   },
   "outputs": [],
   "source": [
    "from here_search.api import API\n",
    "\n",
    "api=API()\n",
    "#api=API(api_key=\"your api key\")\n",
    "api.__dict__"
   ]
  },
  {
   "cell_type": "markdown",
   "id": "f25645c8-6d61-4852-b166-4c35f11f9efd",
   "metadata": {
    "pycharm": {
     "name": "#%% md\n"
    },
    "slideshow": {
     "slide_type": "slide"
    },
    "tags": []
   },
   "source": [
    "## User profile\n",
    "\n",
    "`user.Profile` objects host a user id (UUID version 4) and user preferences: preferred languages, vehicle fuel types, ...\n",
    "\n",
    "This object has two mandatory opt-in/out flags: \n",
    "- `use_positioning`: When set to `True`, the default position, and user language is derived from the local IP.\n",
    "- `share_experience`: When set to `True`, the user activity is shared with the Search backend (user id, session ids and clicks).\n",
    "\n",
    "`user.Default` is a derived class with `share_experience=True` and `use_positioning=True`. \n",
    "\n",
    "Language preferences can depend on the user location. For instance: get results preferably in english, except in France, where results are more expected in French, and preferably in German when the user is either in Germany or Austria."
   ]
  },
  {
   "cell_type": "code",
   "execution_count": null,
   "id": "8e3e07c8-28ed-45dd-bc84-2837ed629aab",
   "metadata": {
    "pycharm": {
     "name": "#%%\n"
    },
    "slideshow": {
     "slide_type": "-"
    },
    "tags": []
   },
   "outputs": [],
   "source": [
    "from here_search import user\n",
    "\n",
    "profile = user.Profile(api=api,\n",
    "                       name=\"John\",\n",
    "                       languages = {\"default\": \"en\", \"DEU\": \"de\", \"AUT\": \"de\", \"FRA\": \"fr\"},\n",
    "                       share_experience=True,\n",
    "                       use_positioning=True)\n",
    "\n",
    "profile.__dict__"
   ]
  },
  {
   "cell_type": "markdown",
   "id": "87068d44-dcaa-424d-97e4-e5d915908d40",
   "metadata": {
    "pycharm": {
     "name": "#%% md\n"
    },
    "slideshow": {
     "slide_type": "slide"
    },
    "tags": []
   },
   "source": [
    "## Application designs\n",
    "\n",
    "`design.MapJSON` allows to visualize results in a list, on a map and as a JSON.\n",
    "\n",
    "Added to the result items are:\n",
    "- Search response headers in `x_headers`\n",
    "- Search request details `request.url`, `request.params` and `request.x_headers`"
   ]
  },
  {
   "cell_type": "code",
   "execution_count": null,
   "id": "d3c3cc08-5e87-469d-bbb7-f9ac47d56eeb",
   "metadata": {
    "pycharm": {
     "name": "#%%\n"
    },
    "slideshow": {
     "slide_type": "-"
    },
    "tags": []
   },
   "outputs": [],
   "source": [
    "from here_search.widgets.app import OneBoxMap\n",
    "from here_search.widgets.design import MapJSON\n",
    "\n",
    "OneBoxMap(user_profile=profile, design=MapJSON).run()"
   ]
  },
  {
   "cell_type": "code",
   "execution_count": null,
   "id": "6e5e45f6-6c14-409a-85b3-4ac11c10f52d",
   "metadata": {
    "pycharm": {
     "name": "#%%\n"
    }
   },
   "outputs": [],
   "source": [
    "list(api.cache.keys())"
   ]
  },
  {
   "cell_type": "code",
   "execution_count": null,
   "id": "e4166cca-3149-49ab-a375-fe0e003fc7df",
   "metadata": {},
   "outputs": [],
   "source": []
  }
 ],
 "metadata": {
  "celltoolbar": "Slideshow",
  "kernelspec": {
   "display_name": "search demo",
   "language": "python",
   "name": "search_demo"
  },
  "language_info": {
   "codemirror_mode": {
    "name": "ipython",
    "version": 3
   },
   "file_extension": ".py",
   "mimetype": "text/x-python",
   "name": "python",
   "nbconvert_exporter": "python",
   "pygments_lexer": "ipython3",
   "version": "3.9.7"
  }
 },
 "nbformat": 4,
 "nbformat_minor": 5
}
