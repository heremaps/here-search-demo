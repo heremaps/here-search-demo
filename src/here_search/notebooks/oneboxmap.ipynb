{
 "cells": [
  {
   "cell_type": "markdown",
   "id": "90fe7612-850e-4781-a7d1-f9a8d25a770d",
   "metadata": {
    "slideshow": {
     "slide_type": "slide"
    },
    "tags": []
   },
   "source": [
    "# OneBoxMap\n",
    "\n",
    "The OneBoxMap demo application runs for a defined user profile.\n",
    "The position of a user profile can be set prior to the launch of the demo app. \n",
    "\n",
    "The language preferences of the user profile are by default those of the start position.\n",
    "\n",
    "A \"londres\" query incurs different responses when the user has a french or a german default localization:"
   ]
  },
  {
   "cell_type": "code",
   "execution_count": null,
   "id": "e647b05d",
   "metadata": {
    "slideshow": {
     "slide_type": "-"
    },
    "tags": []
   },
   "outputs": [],
   "source": [
    "from here_search import user\n",
    "\n",
    "profile = user.Default()\n",
    "profile.set_position(*profile.paris)\n",
    "profile"
   ]
  },
  {
   "cell_type": "code",
   "execution_count": null,
   "id": "54d57978-5cc6-40f1-aeda-04f49656b719",
   "metadata": {
    "slideshow": {
     "slide_type": "-"
    },
    "tags": []
   },
   "outputs": [],
   "source": [
    "from here_search.widgets.app import OneBoxMap\n",
    "\n",
    "app = OneBoxMap(profile)\n",
    "app.run()"
   ]
  },
  {
   "cell_type": "code",
   "execution_count": null,
   "id": "eb432ad7-e81f-4f02-a59b-28546ff38c17",
   "metadata": {},
   "outputs": [],
   "source": [
    "app.clear_logs()"
   ]
  },
  {
   "cell_type": "markdown",
   "id": "f41ce77e-8dd8-4c01-87a8-5ccaf341de88",
   "metadata": {
    "slideshow": {
     "slide_type": "slide"
    },
    "tags": []
   },
   "source": [
    "## Default position\n",
    "\n",
    "If the start position, is not set, it is derived from the local IP. If the local IP position can not be derived, the demo application falls back to Berlin and German."
   ]
  },
  {
   "cell_type": "code",
   "execution_count": null,
   "id": "251aebfb-fb23-4cc4-8c2e-cc6ba1bbbd84",
   "metadata": {
    "slideshow": {
     "slide_type": "-"
    },
    "tags": []
   },
   "outputs": [],
   "source": [
    "OneBoxMap(user.Default()).run()"
   ]
  }
 ],
 "metadata": {
  "celltoolbar": "Slideshow",
  "kernelspec": {
   "display_name": "search demo",
   "language": "python",
   "name": "search_demo"
  },
  "language_info": {
   "codemirror_mode": {
    "name": "ipython",
    "version": 3
   },
   "file_extension": ".py",
   "mimetype": "text/x-python",
   "name": "python",
   "nbconvert_exporter": "python",
   "pygments_lexer": "ipython3",
   "version": "3.9.7"
  }
 },
 "nbformat": 4,
 "nbformat_minor": 5
}
