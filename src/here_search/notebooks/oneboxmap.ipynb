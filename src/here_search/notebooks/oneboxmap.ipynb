{
 "cells": [
  {
   "cell_type": "markdown",
   "id": "90fe7612-850e-4781-a7d1-f9a8d25a770d",
   "metadata": {
    "slideshow": {
     "slide_type": "slide"
    },
    "tags": []
   },
   "source": [
    "# OneBoxMap\n",
    "\n",
    "The OneBoxMap demo application runs for a defined user profile.\n",
    "The position of a user profile can be set prior to the launch of the demo app. \n",
    "\n",
    "The language preferences of the user profile are by default those of the start position.\n",
    "\n",
    "A \"londres\" query incurs different responses when the user has a french or a german default localization:"
   ]
  },
  {
   "cell_type": "code",
   "execution_count": null,
   "id": "e647b05d",
   "metadata": {
    "slideshow": {
     "slide_type": "-"
    },
    "tags": []
   },
   "outputs": [],
   "source": [
    "from here_search import user\n",
    "from here_search.widgets.app import OneBoxMap\n",
    "\n",
    "berlin = 52.51604, 13.37691\n",
    "chicago = 41.87478, -87.62977\n",
    "paris = 48.85717, 2.3414\n",
    "\n",
    "profile = user.Permissive()\n",
    "profile.set_position(*paris)\n",
    "\n",
    "OneBoxMap(profile).run()\n",
    "OneBoxMap.show_logs()"
   ]
  },
  {
   "cell_type": "markdown",
   "id": "f41ce77e-8dd8-4c01-87a8-5ccaf341de88",
   "metadata": {
    "slideshow": {
     "slide_type": "slide"
    },
    "tags": []
   },
   "source": [
    "## Default position\n",
    "\n",
    "If the start position, is not set, it is derived from the local IP. If the local IP position can not be derived, the demo application falls back to Berlin and German."
   ]
  },
  {
   "cell_type": "code",
   "execution_count": null,
   "id": "251aebfb-fb23-4cc4-8c2e-cc6ba1bbbd84",
   "metadata": {
    "slideshow": {
     "slide_type": "-"
    },
    "tags": []
   },
   "outputs": [],
   "source": [
    "OneBoxMap(user.Permissive()).run()"
   ]
  },
  {
   "cell_type": "code",
   "execution_count": null,
   "id": "535c87a8-8238-4a21-bc46-4baa5164035e",
   "metadata": {
    "slideshow": {
     "slide_type": "-"
    },
    "tags": []
   },
   "outputs": [],
   "source": [
    "from here_search.api import API\n",
    "\n",
    "profile2 = user.Permissive(api=API(api_key=\"your api key\"))profile2\n",
    "OneBoxMap(profile2).run()"
   ]
  },
  {
   "cell_type": "markdown",
   "id": "a312886c-007e-40e8-90a7-a215e1708ff5",
   "metadata": {
    "slideshow": {
     "slide_type": "slide"
    },
    "tags": []
   },
   "source": [
    "## API credentials\n",
    "\n",
    "`here_search.api.API` is a thin wrapper around the HERE search & geocoding API. API objects needs an `api_key` (prompted if not provided as argument or `API_KEY` environment variable.\n",
    "\n",
    "That object also hosts a non-persistent LRU cache.\n",
    "\n",
    "## User profile\n",
    "\n",
    "`here_search.user.Profile` objects host user preferences: opt-in/out decisions, preferred languages, political views, ...\n",
    "\n",
    "This object has two mandatory opt-in/out flags: \n",
    "- `use_positioning`: When set to `True`, the default position, and user language is derived from the local IP.\n",
    "- `share_experience`: When set to `True`, the user activity is shared with the Search backend (user id, session ids and clicks).\n",
    "\n",
    "`Permissive` is a derived class with `share_experience=True` and `use_positioning=True`. \n",
    "\n",
    "## Application designs\n",
    "\n",
    "`Design.MapJSON` allows to visualize results in a list, on a map and as a JSON."
   ]
  },
  {
   "cell_type": "code",
   "execution_count": null,
   "id": "a59dacb1-da0a-40ba-a8d0-736738c62333",
   "metadata": {
    "slideshow": {
     "slide_type": "-"
    },
    "tags": []
   },
   "outputs": [],
   "source": [
    "from here_search.api import API\n",
    "from here_search.widgets.design import MapJSON\n",
    "\n",
    "api=API(api_key=\"tIEID-Z-ogljOD83iQO6JiHbGtn9lyFmt0srqjIRtao\")\n",
    "\n",
    "profile = user.Profile(api=api,\n",
    "                       name=\"Emmanuel\",\n",
    "                       languages = {\"default\": \"en\", \"DEU\": \"de\", \"AUT\": \"de\", \"FRA\": \"fr\"},\n",
    "                       share_experience=False,\n",
    "                       use_positioning=True)\n",
    "\n",
    "app = OneBoxMap(user_profile=profile, design=MapJSON)\n",
    "\n",
    "app.run()\n",
    "app.show_logs()"
   ]
  },
  {
   "cell_type": "code",
   "execution_count": null,
   "id": "6e5e45f6-6c14-409a-85b3-4ac11c10f52d",
   "metadata": {},
   "outputs": [],
   "source": []
  }
 ],
 "metadata": {
  "celltoolbar": "Slideshow",
  "kernelspec": {
   "display_name": "search demo",
   "language": "python",
   "name": "search_demo"
  },
  "language_info": {
   "codemirror_mode": {
    "name": "ipython",
    "version": 3
   },
   "file_extension": ".py",
   "mimetype": "text/x-python",
   "name": "python",
   "nbconvert_exporter": "python",
   "pygments_lexer": "ipython3",
   "version": "3.9.7"
  }
 },
 "nbformat": 4,
 "nbformat_minor": 5
}
