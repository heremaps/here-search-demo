{
 "cells": [
  {
   "cell_type": "markdown",
   "id": "87068d44-dcaa-424d-97e4-e5d915908d40",
   "metadata": {
    "slideshow": {
     "slide_type": "slide"
    },
    "tags": []
   },
   "source": [
    "## Endpoints options\n",
    "\n",
    "`OneBoxMap` supports some endpoints params injection.\n",
    "These parameters are typically to be integrated in the user profiles."
   ]
  },
  {
   "cell_type": "code",
   "execution_count": null,
   "id": "d3c3cc08-5e87-469d-bbb7-f9ac47d56eeb",
   "metadata": {
    "slideshow": {
     "slide_type": "-"
    },
    "tags": []
   },
   "outputs": [],
   "source": [
    "from here_search import user\n",
    "from here_search.widgets.app import OneBoxMap\n",
    "from here_search.widgets.design import MapJSON\n",
    "\n",
    "OneBoxMap(user_profile=user.Default(), \n",
    "          design=MapJSON, \n",
    "          autosuggest_query_params={\"show\": \"fuel,truck\", \"fuelStation[fuelTypes]\": \"truck_diesel\", \"fuelStation[minimumTruckClass]\": \"heavy\"},\n",
    "          discover_query_params=   {\"show\": \"fuel,truck,tripadvisor\", \"fuelStation[fuelTypes]\": \"truck_diesel\", \"fuelStation[minimumTruckClass]\": \"heavy\"},\n",
    "          lookup_query_params=     {\"show\": \"fuel,truck,tripadvisor\"}\n",
    ").run()\n"
   ]
  },
  {
   "cell_type": "markdown",
   "id": "a3c9d189-34ca-4092-9e2a-1515b5298e87",
   "metadata": {},
   "source": [
    "This could be done through a set of options pulled in from the API:"
   ]
  },
  {
   "cell_type": "code",
   "execution_count": null,
   "id": "6e5e45f6-6c14-409a-85b3-4ac11c10f52d",
   "metadata": {},
   "outputs": [],
   "source": [
    "from here_search.api import FuelPreference, FuelAdditionalInfo\n",
    "\n",
    "options = (FuelPreference(FuelPreference.types.truck_diesel), \n",
    "           FuelAdditionalInfo(FuelAdditionalInfo.topics.truck))\n",
    "\n",
    "profile = user.Profile(share_experience=True,\n",
    "                       use_positioning=True,\n",
    "                       options=options)\n",
    "\n",
    "profile"
   ]
  },
  {
   "cell_type": "code",
   "execution_count": null,
   "id": "a440b3d4-8f28-458a-b6da-c4e2a65ec658",
   "metadata": {},
   "outputs": [],
   "source": []
  }
 ],
 "metadata": {
  "celltoolbar": "Slideshow",
  "kernelspec": {
   "display_name": "search demo",
   "language": "python",
   "name": "search_demo"
  },
  "language_info": {
   "codemirror_mode": {
    "name": "ipython",
    "version": 3
   },
   "file_extension": ".py",
   "mimetype": "text/x-python",
   "name": "python",
   "nbconvert_exporter": "python",
   "pygments_lexer": "ipython3",
   "version": "3.9.7"
  }
 },
 "nbformat": 4,
 "nbformat_minor": 5
}
