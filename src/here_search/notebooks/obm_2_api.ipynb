{
 "cells": [
  {
   "cell_type": "markdown",
   "id": "51c2ca99-9889-456f-87b8-bb2d9616f5a2",
   "metadata": {
    "jp-MarkdownHeadingCollapsed": true,
    "tags": []
   },
   "source": [
    "(lite)"
   ]
  },
  {
   "cell_type": "code",
   "execution_count": null,
   "id": "77ac7de0-8ebc-4686-87bf-a9e720cc79e4",
   "metadata": {},
   "outputs": [],
   "source": [
    "try:\n",
    "    import piplite\n",
    "    await piplite.install([\"ipywidgets==7.7.1\", \"ipyleaflet==0.17.1\", \"emfs:here_search_widget-0.6.1-py3-none-any.whl\"], keep_going=True)\n",
    "except ImportError:\n",
    "    pass"
   ]
  },
  {
   "cell_type": "markdown",
   "id": "a312886c-007e-40e8-90a7-a215e1708ff5",
   "metadata": {
    "pycharm": {
     "name": "#%% md\n"
    },
    "slideshow": {
     "slide_type": "slide"
    },
    "tags": []
   },
   "source": [
    "## Browse and Derived place taxonomy\n",
    "\n",
    "`api.browse()` supports a set of places filters around [category](https://developer.here.com/documentation/geocoding-search-api/dev_guide/topics-places/places-category-system-full.html), [cusine](https://developer.here.com/documentation/geocoding-search-api/dev_guide/topics-places/food-types-category-system-full.html), [chain](https://developer.here.com/documentation/geocoding-search-api/dev_guide/topics-places/places-chain-system-full.html) IDs.\n",
    "\n",
    "For example, to get the nearby places with on of the category IDs `700-7600-0000` (Fueling Station), `700-7600-0116` (Petrol-Gasoline Station) or `700-7600-0444` (Hydrogen Fuel Station), on can send the following Browse request:"
   ]
  },
  {
   "cell_type": "code",
   "execution_count": null,
   "id": "a59dacb1-da0a-40ba-a8d0-736738c62333",
   "metadata": {
    "pycharm": {
     "name": "#%%\n"
    },
    "slideshow": {
     "slide_type": "-"
    },
    "tags": []
   },
   "outputs": [],
   "source": [
    "from here_search.api import API, HTTPSession\n",
    "\n",
    "api = API()\n",
    "session = HTTPSession()\n",
    "resp = await api.browse(latitude=52, longitude=13, limit=4, \n",
    "                        categories=[\"700-7600-0000\", \"700-7600-0116\", \"700-7600-0444\"], session=session)\n",
    "resp.req.full"
   ]
  },
  {
   "cell_type": "code",
   "execution_count": null,
   "id": "da673fdb-baf9-41e0-9f32-b8e18436a579",
   "metadata": {},
   "outputs": [],
   "source": [
    "resp.titles"
   ]
  },
  {
   "cell_type": "markdown",
   "id": "70cae96a-ec74-4592-87b8-06a2ae0c1002",
   "metadata": {},
   "source": [
    "The place filters multi-values allows the support for simple derived ontologies. For example:"
   ]
  },
  {
   "cell_type": "code",
   "execution_count": null,
   "id": "5db1262c-1815-44a2-a9be-c67377ca58f8",
   "metadata": {},
   "outputs": [],
   "source": [
    "from here_search.entity.place import PlaceTaxonomyExample\n",
    "from inspect import getsource\n",
    "from IPython.display import Code\n",
    "\n",
    "Code(getsource(PlaceTaxonomyExample))"
   ]
  },
  {
   "cell_type": "code",
   "execution_count": null,
   "id": "58c87605-eb8f-49eb-b9b8-b8e839610290",
   "metadata": {},
   "outputs": [],
   "source": [
    "resp = await api.browse(latitude=52, longitude=13, limit=4, **PlaceTaxonomyExample.taxonomy.pizza.mapping, session=session)\n",
    "display(resp.req.full)\n",
    "resp.titles"
   ]
  },
  {
   "cell_type": "markdown",
   "id": "9fdd149c-2865-415d-8e9b-850cd5cc6a86",
   "metadata": {},
   "source": [
    "## Request & Response objects\n",
    "\n",
    "The `api.get()` method is called by `api.browse()` and the other endpoint methods. It takes a `Request` object and returns a `Response` object."
   ]
  },
  {
   "cell_type": "code",
   "execution_count": null,
   "id": "b8a9bc0d-6725-4edb-9de3-9ada83312246",
   "metadata": {},
   "outputs": [],
   "source": [
    "from here_search.entity.request import Endpoint, Request, Response\n",
    "from here_search.api import base_url\n",
    "\n",
    "req = Request(Endpoint.REVGEOCODE, base_url[Endpoint.REVGEOCODE], {\"at\": \"52,13\", \"limit\": 1})\n",
    "await api.get(req, session)"
   ]
  },
  {
   "cell_type": "code",
   "execution_count": null,
   "id": "151c9bcf-17f1-4553-bceb-90b089332a2a",
   "metadata": {},
   "outputs": [],
   "source": []
  }
 ],
 "metadata": {
  "celltoolbar": "Slideshow",
  "kernelspec": {
   "display_name": "search demo",
   "language": "python",
   "name": "search_demo"
  },
  "language_info": {
   "codemirror_mode": {
    "name": "ipython",
    "version": 3
   },
   "file_extension": ".py",
   "mimetype": "text/x-python",
   "name": "python",
   "nbconvert_exporter": "python",
   "pygments_lexer": "ipython3",
   "version": "3.9.7"
  }
 },
 "nbformat": 4,
 "nbformat_minor": 5
}
