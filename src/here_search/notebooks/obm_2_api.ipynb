{
 "cells": [
  {
   "cell_type": "markdown",
   "id": "a312886c-007e-40e8-90a7-a215e1708ff5",
   "metadata": {
    "pycharm": {
     "name": "#%% md\n"
    },
    "slideshow": {
     "slide_type": "slide"
    },
    "tags": []
   },
   "source": [
    "## Browse and Derived place taxonomy\n",
    "\n",
    "`api.browse()` supports a set of places filters around [category](https://developer.here.com/documentation/geocoding-search-api/dev_guide/topics-places/places-category-system-full.html), [cusine](https://developer.here.com/documentation/geocoding-search-api/dev_guide/topics-places/food-types-category-system-full.html), [chain](https://developer.here.com/documentation/geocoding-search-api/dev_guide/topics-places/places-chain-system-full.html) IDs.\n",
    "\n",
    "For example, to get the nearby places with on of the category IDs `700-7600-0000` (Fueling Station), `700-7600-0116` (Petrol-Gasoline Station) or `700-7600-0444` (Hydrogen Fuel Station), on can send the following Browse request:"
   ]
  },
  {
   "cell_type": "code",
   "execution_count": null,
   "id": "a59dacb1-da0a-40ba-a8d0-736738c62333",
   "metadata": {
    "pycharm": {
     "name": "#%%\n"
    },
    "slideshow": {
     "slide_type": "-"
    },
    "tags": []
   },
   "outputs": [],
   "source": [
    "from here_search.api import API\n",
    "\n",
    "api=API()\n",
    "resp = await api.browse(latitude=52, longitude=13, limit=4, \n",
    "                        categories=[\"700-7600-0000\", \"700-7600-0116\", \"700-7600-0444\"])\n",
    "resp.req.full"
   ]
  },
  {
   "cell_type": "code",
   "execution_count": null,
   "id": "da673fdb-baf9-41e0-9f32-b8e18436a579",
   "metadata": {},
   "outputs": [],
   "source": [
    "resp.titles"
   ]
  },
  {
   "cell_type": "markdown",
   "id": "70cae96a-ec74-4592-87b8-06a2ae0c1002",
   "metadata": {},
   "source": [
    "The place filters multi-values allows the support for simple derived ontologies. For example:\n",
    "\n",
    "| place class<br/>name | categories | cuisines | chains |\n",
    "|:-----|:-----------|:---------|:-------|\n",
    "| gas  | `700-7600-0000,700-7600-0116,700-7600-0444 ` | | |\n",
    "| eat  | `100`      | | |\n",
    "| sleep | `500-5000` | | |\n",
    "| truck stop | `700-7900-0131,700-7900-0132` | | |\n",
    "| ATM | `700-7010-0108` | | |\n",
    "| Pizza | | `800-057` | |\n",
    "| Les Routiers | | | `4406` |\n"
   ]
  },
  {
   "cell_type": "code",
   "execution_count": null,
   "id": "5db1262c-1815-44a2-a9be-c67377ca58f8",
   "metadata": {},
   "outputs": [],
   "source": [
    "from here_search.entities import PlaceTaxonomyItem, PlaceTaxonomy\n",
    "from collections import namedtuple\n",
    "\n",
    "taxonomy = PlaceTaxonomy([PlaceTaxonomyItem(name, categories, food_types, chains)\n",
    "#-------------------------------------------------------------------\n",
    "        for       name,        categories,      food_types,    chains\n",
    "#-------------------------------------------------------------------\n",
    "        in     ((\"gas\",     (\"700-7600-0000\", \n",
    "                             \"700-7600-0116\", \n",
    "                             \"700-7600-0444\"  ), None,         None  ),\n",
    "                (\"eat\",     (\"100\",           ), None,         None  ),\n",
    "                (\"sleep\",   (\"500-5000\",      ), None,         None  ),\n",
    "                (\"stop\",    (\"700-7900-0131\",\n",
    "                             \"700-7900-0132\", ), None,         None  ),\n",
    "                (\"ATM\",     (\"700-7010-0108\", ), None,         None  ),\n",
    "                (\"pizza\",    None,              (\"800-057\", ), None  ),\n",
    "                (\"fastfood\", None,               None,        (\"1566\",\n",
    "                                                               \"1498\" )))])\n",
    "#--------------------------------------------------------------------\n",
    "tuple(taxonomy)"
   ]
  },
  {
   "cell_type": "code",
   "execution_count": null,
   "id": "58c87605-eb8f-49eb-b9b8-b8e839610290",
   "metadata": {},
   "outputs": [],
   "source": [
    "resp = await api.browse(latitude=52, longitude=13, limit=4, **taxonomy.pizza.mapping)\n",
    "display(resp.req.full)\n",
    "resp.titles"
   ]
  },
  {
   "cell_type": "markdown",
   "id": "9fdd149c-2865-415d-8e9b-850cd5cc6a86",
   "metadata": {},
   "source": [
    "## Request & Response objects\n",
    "\n",
    "The `api.get()` method is called by `api.browse()` and the other endpoint methods. It takes a `Request` object and returns a `Response` object."
   ]
  },
  {
   "cell_type": "code",
   "execution_count": null,
   "id": "b8a9bc0d-6725-4edb-9de3-9ada83312246",
   "metadata": {},
   "outputs": [],
   "source": [
    "from here_search.entities import Endpoint, Request, Response\n",
    "from here_search.api import base_url\n",
    "\n",
    "req = Request(Endpoint.REVGEOCODE, base_url[Endpoint.REVGEOCODE], {\"at\": \"52,13\", \"limit\": 1})\n",
    "await api.get(req)"
   ]
  }
 ],
 "metadata": {
  "celltoolbar": "Slideshow",
  "kernelspec": {
   "display_name": "search demo ext",
   "language": "python",
   "name": "search_demo_ext"
  },
  "language_info": {
   "codemirror_mode": {
    "name": "ipython",
    "version": 3
   },
   "file_extension": ".py",
   "mimetype": "text/x-python",
   "name": "python",
   "nbconvert_exporter": "python",
   "pygments_lexer": "ipython3",
   "version": "3.9.7"
  }
 },
 "nbformat": 4,
 "nbformat_minor": 5
}
