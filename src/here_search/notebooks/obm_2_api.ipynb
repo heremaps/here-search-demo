{
 "cells": [
  {
   "cell_type": "markdown",
   "id": "a312886c-007e-40e8-90a7-a215e1708ff5",
   "metadata": {
    "pycharm": {
     "name": "#%% md\n"
    },
    "slideshow": {
     "slide_type": "slide"
    },
    "tags": []
   },
   "source": [
    "## Browse and Derived place ontologies\n",
    "\n",
    "`api.browse()` supports a set of places filters around [category](https://developer.here.com/documentation/geocoding-search-api/dev_guide/topics-places/places-category-system-full.html), [cusine](https://developer.here.com/documentation/geocoding-search-api/dev_guide/topics-places/food-types-category-system-full.html), [chain](https://developer.here.com/documentation/geocoding-search-api/dev_guide/topics-places/places-chain-system-full.html) IDs.\n",
    "\n",
    "For example, to get the nearby places with on of the category IDs `700-7600-0000` (Fueling Station), `700-7600-0116` (Petrol-Gasoline Station) or `700-7600-0444` (Hydrogen Fuel Station), on can send the following Browse request:"
   ]
  },
  {
   "cell_type": "code",
   "execution_count": 1,
   "id": "a59dacb1-da0a-40ba-a8d0-736738c62333",
   "metadata": {
    "pycharm": {
     "name": "#%%\n"
    },
    "slideshow": {
     "slide_type": "-"
    },
    "tags": []
   },
   "outputs": [
    {
     "data": {
      "text/plain": [
       "'https://browse.search.hereapi.com/v1/browse?at=52%2C13&categories=700-7600-0000%2C700-7600-0116%2C700-7600-0444&limit=4&apiKey=(...)'"
      ]
     },
     "execution_count": 1,
     "metadata": {},
     "output_type": "execute_result"
    }
   ],
   "source": [
    "from here_search.api import API\n",
    "\n",
    "api=API()\n",
    "resp = await api.browse(latitude=52, longitude=13, limit=4, \n",
    "                        categories=[\"700-7600-0000\", \"700-7600-0116\", \"700-7600-0444\"])\n",
    "resp.req.full"
   ]
  },
  {
   "cell_type": "code",
   "execution_count": 2,
   "id": "da673fdb-baf9-41e0-9f32-b8e18436a579",
   "metadata": {},
   "outputs": [
    {
     "data": {
      "text/plain": [
       "['ARAL', 'TOTAL', 'Raiffeisen', 'Shell']"
      ]
     },
     "execution_count": 2,
     "metadata": {},
     "output_type": "execute_result"
    }
   ],
   "source": [
    "resp.titles"
   ]
  },
  {
   "cell_type": "markdown",
   "id": "70cae96a-ec74-4592-87b8-06a2ae0c1002",
   "metadata": {},
   "source": [
    "The place filters multi-values allows the support for simple derived ontologies. For example:\n",
    "\n",
    "| ontology<br/>name | categories | cuisines | chains |\n",
    "|:-----|:-----------|:---------|:-------|\n",
    "| gas  | `700-7600-0000,700-7600-0116,700-7600-0444 ` | | |\n",
    "| eat  | `100`      | | |\n",
    "| sleep | `500-5000` | | |\n",
    "| truck stop | `700-7900-0131,700-7900-0132` | | |\n",
    "| ATM | `700-7010-0108` | | |\n",
    "| Pizza | | `800-057` | |\n",
    "| Les Routiers | | | `4406` |\n"
   ]
  },
  {
   "cell_type": "code",
   "execution_count": 3,
   "id": "5db1262c-1815-44a2-a9be-c67377ca58f8",
   "metadata": {},
   "outputs": [
    {
     "data": {
      "text/plain": [
       "(gas(categories=('700-7600-0000', '700-7600-0116', '700-7600-0444'), foodTypes=None, chains=None),\n",
       " eat(categories=('100',), foodTypes=None, chains=None),\n",
       " sleep(categories=('500-5000',), foodTypes=None, chains=None),\n",
       " stop(categories=('700-7900-0131', '700-7900-0132'), foodTypes=None, chains=None),\n",
       " ATM(categories=('700-7010-0108',), foodTypes=None, chains=None),\n",
       " pizza(categories=None, foodTypes=('800-057',), chains=None),\n",
       " routiers(categories=None, foodTypes=None, chains=('4406',)))"
      ]
     },
     "execution_count": 3,
     "metadata": {},
     "output_type": "execute_result"
    }
   ],
   "source": [
    "from here_search.entities import OntologyItem, Ontology\n",
    "from collections import namedtuple\n",
    "\n",
    "ontology = Ontology([OntologyItem(name, categories, food_types, chains)\n",
    "#-------------------------------------------------------------------\n",
    "        for       name,        categories,      food_types,    chains\n",
    "#-------------------------------------------------------------------\n",
    "        in     ((\"gas\",     (\"700-7600-0000\", \n",
    "                             \"700-7600-0116\", \n",
    "                             \"700-7600-0444\"  ), None,         None  ),\n",
    "                (\"eat\",     (\"100\",           ), None,         None  ),\n",
    "                (\"sleep\",   (\"500-5000\",      ), None,         None  ),\n",
    "                (\"stop\",    (\"700-7900-0131\",\n",
    "                             \"700-7900-0132\", ), None,         None  ),\n",
    "                (\"ATM\",     (\"700-7010-0108\", ), None,         None  ),\n",
    "                (\"pizza\",    None,              (\"800-057\", ), None  ),\n",
    "                (\"routiers\", None,               None,        (\"4406\", )))])\n",
    "#--------------------------------------------------------------------\n",
    "tuple(ontology)"
   ]
  },
  {
   "cell_type": "code",
   "execution_count": 4,
   "id": "58c87605-eb8f-49eb-b9b8-b8e839610290",
   "metadata": {},
   "outputs": [
    {
     "data": {
      "text/plain": [
       "'https://browse.search.hereapi.com/v1/browse?at=52%2C13&limit=4&foodTypes=%28%27800-057%27%2C%29&apiKey=(...)'"
      ]
     },
     "metadata": {},
     "output_type": "display_data"
    },
    {
     "data": {
      "text/plain": [
       "['Super Pizza', 'Il-Mulino-Due', 'Wasserpfeifchen', 'First Grill']"
      ]
     },
     "execution_count": 4,
     "metadata": {},
     "output_type": "execute_result"
    }
   ],
   "source": [
    "resp = await api.browse(latitude=52, longitude=13, limit=4, **ontology.pizza.mapping)\n",
    "display(resp.req.full)\n",
    "resp.titles"
   ]
  },
  {
   "cell_type": "markdown",
   "id": "9fdd149c-2865-415d-8e9b-850cd5cc6a86",
   "metadata": {},
   "source": [
    "## Request & Response objects\n",
    "\n",
    "The `api.get()` method is called by `api.browse()` and the other endpoint methods. It takes a `Request` object and returns a `Response` object."
   ]
  },
  {
   "cell_type": "code",
   "execution_count": 17,
   "id": "b8a9bc0d-6725-4edb-9de3-9ada83312246",
   "metadata": {},
   "outputs": [
    {
     "data": {
      "text/plain": [
       "Response(req=Request(endpoint=<Endpoint.REVGEOCODE: 6>, url='https://revgeocode.search.hereapi.com/v1/revgeocode', params={'at': '52,13', 'limit': 1, 'apiKey': '(...)'}, x_headers=None), data={'items': [{'title': 'Niedergörsdorfer Allee, 14913 Niedergörsdorf, Deutschland', 'id': 'here:af:streetsection:.GSuwaNujk32oWouTtr19D', 'resultType': 'street', 'address': {'label': 'Niedergörsdorfer Allee, 14913 Niedergörsdorf, Deutschland', 'countryCode': 'DEU', 'countryName': 'Deutschland', 'stateCode': 'BB', 'state': 'Brandenburg', 'countyCode': 'TF', 'county': 'Teltow-Fläming', 'city': 'Niedergörsdorf', 'street': 'Niedergörsdorfer Allee', 'postalCode': '14913'}, 'position': {'lat': 52.00028, 'lng': 13.00166}, 'distance': 118, 'mapView': {'west': 13.00058, 'south': 51.98972, 'east': 13.00786, 'north': 52.00263}}]}, x_headers={'X-Request-Id': 'REQ-77a849fe-0101-4a5d-a6dc-cd76231a4141', 'X-Correlation-ID': '1a4219b9-8551-4bc0-85fa-223399157797'})"
      ]
     },
     "execution_count": 17,
     "metadata": {},
     "output_type": "execute_result"
    }
   ],
   "source": [
    "from here_search.entities import Endpoint, Request, Response\n",
    "from here_search.api import base_url\n",
    "\n",
    "req = Request(Endpoint.REVGEOCODE, base_url[Endpoint.REVGEOCODE], {\"at\": \"52,13\", \"limit\": 1})\n",
    "await api.get(req)"
   ]
  },
  {
   "cell_type": "code",
   "execution_count": null,
   "id": "b3517cea-9d57-4802-8f27-d3f65a799358",
   "metadata": {},
   "outputs": [],
   "source": []
  }
 ],
 "metadata": {
  "celltoolbar": "Slideshow",
  "kernelspec": {
   "display_name": "search demo ext",
   "language": "python",
   "name": "search_demo_ext"
  },
  "language_info": {
   "codemirror_mode": {
    "name": "ipython",
    "version": 3
   },
   "file_extension": ".py",
   "mimetype": "text/x-python",
   "name": "python",
   "nbconvert_exporter": "python",
   "pygments_lexer": "ipython3",
   "version": "3.9.7"
  }
 },
 "nbformat": 4,
 "nbformat_minor": 5
}
