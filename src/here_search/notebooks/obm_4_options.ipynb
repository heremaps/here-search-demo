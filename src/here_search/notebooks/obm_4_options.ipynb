{
 "cells": [
  {
   "cell_type": "markdown",
   "id": "87068d44-dcaa-424d-97e4-e5d915908d40",
   "metadata": {
    "slideshow": {
     "slide_type": "slide"
    },
    "tags": []
   },
   "source": [
    "## API options\n",
    "\n",
    "`api.API` accepts some rendering and filtering options. <br/>\n",
    "Rendering options are typically about additional response details. <br/>\n",
    "API-level filtering is usually about restricting results to a set of countries or a set of result types."
   ]
  },
  {
   "cell_type": "code",
   "execution_count": null,
   "id": "d3c3cc08-5e87-469d-bbb7-f9ac47d56eeb",
   "metadata": {
    "slideshow": {
     "slide_type": "-"
    },
    "tags": []
   },
   "outputs": [],
   "source": [
    "from here_search.api import API, APIOptions, Endpoint, fuelDetails, truckDetails\n",
    "\n",
    "options = [fuelDetails, truckDetails]\n",
    "\n",
    "api = API(options=APIOptions({Endpoint.AUTOSUGGEST: options[:-1],\n",
    "                              Endpoint.DISCOVER: options,\n",
    "                              Endpoint.BROWSE: options, \n",
    "                              Endpoint.LOOKUP: options})\n",
    "         )"
   ]
  },
  {
   "cell_type": "markdown",
   "id": "7408c293-8dc1-4759-8403-c83afd4cca90",
   "metadata": {
    "slideshow": {
     "slide_type": "slide"
    },
    "tags": []
   },
   "source": [
    "## Profile preferences\n",
    "\n",
    "`user.Profile` also accepts an `APIOptions` parameter, meant to be used to specify user preferences like vehicle fuel types."
   ]
  },
  {
   "cell_type": "code",
   "execution_count": null,
   "id": "9e582626-4522-4d9e-bf05-c9358d6a3da5",
   "metadata": {
    "slideshow": {
     "slide_type": "-"
    },
    "tags": []
   },
   "outputs": [],
   "source": [
    "from here_search.user import Default\n",
    "from here_search.api import FuelPreference, TruckClassPreference\n",
    "\n",
    "preferences = [FuelPreference(FuelPreference.types.truck_diesel), \n",
    "               TruckClassPreference(TruckClassPreference.classes.heavy)]\n",
    "\n",
    "profile = Default(api=api,\n",
    "                  api_options=APIOptions({Endpoint.AUTOSUGGEST: preferences,\n",
    "                                          Endpoint.DISCOVER: preferences,\n",
    "                                          Endpoint.BROWSE: preferences})\n",
    "                 )"
   ]
  },
  {
   "cell_type": "code",
   "execution_count": null,
   "id": "977a0863-e427-4970-94a3-93e455e85f98",
   "metadata": {
    "slideshow": {
     "slide_type": "-"
    },
    "tags": []
   },
   "outputs": [],
   "source": [
    "from here_search.widgets.query import Ontology, OntologyButton\n",
    "\n",
    "buttons_info = ((\"gas\", (\"700-7600-0000\", \"700-7600-0116\", \"700-7600-0444\"), \"gas-pump\" ), (\"eat\", (\"100\",), \"utensils\" ), \n",
    "                (\"sleep\", (\"500-5000\",), \"bed\"), (\"stop\", (\"700-7900-0132\", \"700-7900-0131\"), \"parking\"), (\"ATM\", (\"700-7010-0108\",), \"euro-sign\"))\n",
    "\n",
    "buttons = [OntologyButton(ontology=Ontology(name=name, categories=cats), fa5_name=icon) for name, cats, icon in buttons_info]"
   ]
  },
  {
   "cell_type": "code",
   "execution_count": null,
   "id": "db68827b-a2ca-489a-a26d-56491dc035cf",
   "metadata": {
    "slideshow": {
     "slide_type": "-"
    },
    "tags": []
   },
   "outputs": [],
   "source": [
    "from here_search.widgets.app import OneBoxMap\n",
    "from here_search.widgets.design import MapJSON\n",
    "\n",
    "OneBoxMap(user_profile=profile, ontology_buttons=buttons, design=MapJSON).run()"
   ]
  },
  {
   "cell_type": "code",
   "execution_count": null,
   "id": "d9cf09c7-201a-4ddd-a5fb-970337e075d3",
   "metadata": {},
   "outputs": [],
   "source": []
  }
 ],
 "metadata": {
  "celltoolbar": "Slideshow",
  "kernelspec": {
   "display_name": "search demo",
   "language": "python",
   "name": "search_demo"
  },
  "language_info": {
   "codemirror_mode": {
    "name": "ipython",
    "version": 3
   },
   "file_extension": ".py",
   "mimetype": "text/x-python",
   "name": "python",
   "nbconvert_exporter": "python",
   "pygments_lexer": "ipython3",
   "version": "3.9.7"
  }
 },
 "nbformat": 4,
 "nbformat_minor": 5
}
