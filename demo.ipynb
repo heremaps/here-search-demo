{
 "cells": [
  {
   "cell_type": "markdown",
   "id": "90fe7612-850e-4781-a7d1-f9a8d25a770d",
   "metadata": {
    "slideshow": {
     "slide_type": "slide"
    },
    "tags": []
   },
   "source": [
    "# Onebox helper\n",
    "\n",
    "**Usage profile:**\n",
    "- start search center\n",
    "- preferred user language\n",
    "\n",
    "**Results limits:**\n",
    "```\n",
    "OneBoxMap.default_terms_limit = 3\n",
    "OneBoxMap.default_results_limit = 20\n",
    "OneBoxMap.default_suggestions_limit = 5\n",
    "```"
   ]
  },
  {
   "cell_type": "code",
   "execution_count": 1,
   "id": "e647b05d",
   "metadata": {
    "slideshow": {
     "slide_type": "-"
    }
   },
   "outputs": [
    {
     "data": {
      "application/vnd.jupyter.widget-view+json": {
       "model_id": "ad3d1c9fa1b14b638ac537a3b38fee18",
       "version_major": 2,
       "version_minor": 0
      },
      "text/plain": [
       "HBox(children=(VBox(children=(OneBoxMapCI(children=(SubmittableText(value='', layout=Layout(width='240px'), pl…"
      ]
     },
     "metadata": {},
     "output_type": "display_data"
    }
   ],
   "source": [
    "from search.widgets import OneBoxMap, Design, OneBoxMapCI\n",
    "OneBoxMapCI(language='en', latitude=40.71455, longitude=-74.00714, design=Design.two, output_format='json').run()"
   ]
  },
  {
   "cell_type": "markdown",
   "id": "57fe2ce4-e7f3-457f-944e-5dc120e68e5b",
   "metadata": {
    "slideshow": {
     "slide_type": "slide"
    },
    "tags": []
   },
   "source": [
    "# Json with Map\n",
    "\n",
    "`Design.two`"
   ]
  },
  {
   "cell_type": "code",
   "execution_count": 2,
   "id": "a59dacb1-da0a-40ba-a8d0-736738c62333",
   "metadata": {
    "slideshow": {
     "slide_type": "-"
    }
   },
   "outputs": [
    {
     "data": {
      "application/vnd.jupyter.widget-view+json": {
       "model_id": "25efd4000fb24fc280ec16e1e9b40375",
       "version_major": 2,
       "version_minor": 0
      },
      "text/plain": [
       "HBox(children=(VBox(children=(OneBoxMap(children=(SubmittableText(value='', layout=Layout(width='240px'), plac…"
      ]
     },
     "metadata": {},
     "output_type": "display_data"
    }
   ],
   "source": [
    "OneBoxMap(language='en', latitude=40.71455, longitude=-74.00714, design=Design.two, output_format='json').run()"
   ]
  },
  {
   "cell_type": "code",
   "execution_count": 4,
   "id": "ef94ad4f-2e3b-46da-b791-46b91f7a62a8",
   "metadata": {},
   "outputs": [
    {
     "data": {
      "application/vnd.jupyter.widget-view+json": {
       "model_id": "ef512580986a447e89ef356114dff14a",
       "version_major": 2,
       "version_minor": 0
      },
      "text/plain": [
       "HBox(children=(VBox(children=(OneBoxMapCI(children=(SubmittableText(value='', layout=Layout(width='240px'), pl…"
      ]
     },
     "metadata": {},
     "output_type": "display_data"
    }
   ],
   "source": []
  },
  {
   "cell_type": "code",
   "execution_count": null,
   "id": "74ccabb4-2a6a-4ab1-9bed-dec0cbe7ceb5",
   "metadata": {},
   "outputs": [],
   "source": []
  }
 ],
 "metadata": {
  "celltoolbar": "Slideshow",
  "kernelspec": {
   "display_name": "demo search",
   "language": "python",
   "name": "search_notebook"
  },
  "language_info": {
   "codemirror_mode": {
    "name": "ipython",
    "version": 3
   },
   "file_extension": ".py",
   "mimetype": "text/x-python",
   "name": "python",
   "nbconvert_exporter": "python",
   "pygments_lexer": "ipython3",
   "version": "3.9.10"
  }
 },
 "nbformat": 4,
 "nbformat_minor": 5
}
