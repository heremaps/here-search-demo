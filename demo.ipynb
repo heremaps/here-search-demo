{
 "cells": [
  {
   "cell_type": "markdown",
   "id": "90fe7612-850e-4781-a7d1-f9a8d25a770d",
   "metadata": {
    "slideshow": {
     "slide_type": "slide"
    },
    "tags": []
   },
   "source": [
    "# OneBoxMap helper\n",
    "\n",
    "**Results limits:**\n",
    "```\n",
    "OneBoxMap.default_terms_limit = 3\n",
    "OneBoxMap.default_results_limit = 10\n",
    "OneBoxMap.default_suggestions_limit = 5\n",
    "```"
   ]
  },
  {
   "cell_type": "code",
   "execution_count": null,
   "id": "e647b05d",
   "metadata": {
    "slideshow": {
     "slide_type": "-"
    }
   },
   "outputs": [],
   "source": [
    "from search.widgets import OneBoxMap\n",
    "\n",
    "OneBoxMap().run()"
   ]
  },
  {
   "cell_type": "markdown",
   "id": "57fe2ce4-e7f3-457f-944e-5dc120e68e5b",
   "metadata": {
    "slideshow": {
     "slide_type": "slide"
    },
    "tags": []
   },
   "source": [
    "## User profile\n",
    "\n",
    "- starting search center\n",
    "- preferred user languages\n",
    "- defaults: local ip related\n",
    "\n",
    "## Various designs\n",
    "\n",
    "`Design.one` and `SearchResultJson`"
   ]
  },
  {
   "cell_type": "code",
   "execution_count": null,
   "id": "a59dacb1-da0a-40ba-a8d0-736738c62333",
   "metadata": {
    "slideshow": {
     "slide_type": "-"
    }
   },
   "outputs": [],
   "source": [
    "from search.user import UserProfile\n",
    "from search.widgets import Design, SearchResultJson\n",
    "\n",
    "user_profile = UserProfile(\n",
    "    current_latitude=40.71455, \n",
    "    current_longitude=-74.00714)\n",
    "\n",
    "app = OneBoxMap(\n",
    "    user_profile=user_profile,\n",
    "    design=Design.one, \n",
    "    resultlist_class=SearchResultJson)\n",
    "\n",
    "app.run()"
   ]
  },
  {
   "cell_type": "markdown",
   "id": "97296c8b-eda6-4386-a430-8a74a14e3d2b",
   "metadata": {},
   "source": [
    "## Extend OneBoxMap\n",
    "\n",
    "`OneBoxCatNearCat` class is a client-side tweak:\n",
    "- captures queries following the format _head nearby_conjunction tail_\n",
    "- supports various languages and multiple nearby conjunction by language (\"near\", \"close to\", ...)\n",
    "- uses Autosuggest service to check if _head_ and _tail_ are both about place categories\n",
    "- Adds a category near category query suggestion button at the top of the Autosuggest suggestion list\n",
    "- Sends such category near category query to HERE Location Graph instead of Discover service"
   ]
  },
  {
   "cell_type": "code",
   "execution_count": null,
   "id": "3d4d496a-3bb1-41bd-919d-0021147b1b15",
   "metadata": {
    "tags": []
   },
   "outputs": [],
   "source": [
    "from search.widgets import OneBoxCatNearCat\n",
    "\n",
    "OneBoxCatNearCat().run()"
   ]
  },
  {
   "cell_type": "code",
   "execution_count": null,
   "id": "99147a76-55c5-40ba-a02b-47b30b689a70",
   "metadata": {},
   "outputs": [],
   "source": []
  }
 ],
 "metadata": {
  "celltoolbar": "Slideshow",
  "kernelspec": {
   "display_name": "demo search",
   "language": "python",
   "name": "search_notebook"
  },
  "language_info": {
   "codemirror_mode": {
    "name": "ipython",
    "version": 3
   },
   "file_extension": ".py",
   "mimetype": "text/x-python",
   "name": "python",
   "nbconvert_exporter": "python",
   "pygments_lexer": "ipython3",
   "version": "3.9.10"
  }
 },
 "nbformat": 4,
 "nbformat_minor": 5
}
