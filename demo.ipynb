{
 "cells": [
  {
   "cell_type": "code",
   "execution_count": null,
   "id": "c5b563f2-29bf-4d22-8bbe-69cd711740f5",
   "metadata": {},
   "outputs": [],
   "source": [
    "from helpers import onebox\n",
    "onebox(language='en', latitude=40.71455, longitude=-74.00714)"
   ]
  },
  {
   "cell_type": "code",
   "execution_count": null,
   "id": "ea0592ca-5047-4e28-9f72-695529f2c3b1",
   "metadata": {},
   "outputs": [],
   "source": []
  }
 ],
 "metadata": {
  "kernelspec": {
   "display_name": "pyenv (venv3.9)",
   "language": "python",
   "name": "venv3.9"
  },
  "language_info": {
   "codemirror_mode": {
    "name": "ipython",
    "version": 3
   },
   "file_extension": ".py",
   "mimetype": "text/x-python",
   "name": "python",
   "nbconvert_exporter": "python",
   "pygments_lexer": "ipython3",
   "version": "3.9.7"
  }
 },
 "nbformat": 4,
 "nbformat_minor": 5
}
