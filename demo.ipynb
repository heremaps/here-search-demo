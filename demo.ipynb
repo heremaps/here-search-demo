{
 "cells": [
  {
   "cell_type": "markdown",
   "id": "90fe7612-850e-4781-a7d1-f9a8d25a770d",
   "metadata": {
    "slideshow": {
     "slide_type": "slide"
    },
    "tags": []
   },
   "source": [
    "# OneBoxMap"
   ]
  },
  {
   "cell_type": "code",
   "execution_count": null,
   "id": "e647b05d",
   "metadata": {
    "slideshow": {
     "slide_type": "-"
    }
   },
   "outputs": [],
   "source": [
    "from search.user import permissive\n",
    "from search.widgets import OneBoxMap\n",
    "\n",
    "OneBoxMap(permissive).run()"
   ]
  },
  {
   "cell_type": "markdown",
   "id": "a312886c-007e-40e8-90a7-a215e1708ff5",
   "metadata": {
    "slideshow": {
     "slide_type": "slide"
    },
    "tags": []
   },
   "source": [
    "## User profile\n",
    "\n",
    "`OneBoxMap` demands a `UserProfile`. This object has two mandatory opt-in/out flags: \n",
    "- `use_positioning`: When set to `True`, the default position, and user language is derived from the local IP. Berlin and German is taken otherwise.\n",
    "- `share_experience`: When set to `True`, the user activity is shared with the Search backend (user id, session ids and clicks).\n",
    "\n",
    "The default `permissive` user profile has `share_experience=True` and `use_positioning=True`.\n",
    "\n",
    "## Application designs\n",
    "\n",
    "`Design.one` and `SearchResultJson` allow to visualize results as JSON."
   ]
  },
  {
   "cell_type": "code",
   "execution_count": null,
   "id": "a59dacb1-da0a-40ba-a8d0-736738c62333",
   "metadata": {
    "slideshow": {
     "slide_type": "-"
    }
   },
   "outputs": [],
   "source": [
    "from search.user import UserProfile\n",
    "from search.widgets import OneBoxMap, Design, SearchResultJson\n",
    "\n",
    "user_profile = UserProfile(name=\"Emmanuel\",\n",
    "                           languages = {\"DEU\": \"de\", \"AUT\": \"de\", \"FRA\": \"fr\", \"all\": \"en\"},\n",
    "                           use_my_position=True, \n",
    "                           store_my_activity=True)\n",
    "\n",
    "app = OneBoxMap(\n",
    "    user_profile=user_profile,\n",
    "    design=Design.one, \n",
    "    resultlist_class=SearchResultJson)\n",
    "\n",
    "app.run()"
   ]
  },
  {
   "cell_type": "markdown",
   "id": "97296c8b-eda6-4386-a430-8a74a14e3d2b",
   "metadata": {},
   "source": [
    "## OneBoxMap specialization\n",
    "\n",
    "`OneBoxCatNearCat` class is a client-side tweak adding some _category near category_ capability.\n",
    "\n",
    "It:\n",
    "- captures queries following the format _head nearby_conjunction tail_\n",
    "- supports various languages and multiple nearby conjunction by language (\"near\", \"close to\", ...)\n",
    "- uses Autosuggest service to check if _head_ and _tail_ are both about place categories\n",
    "- Adds a category near category query suggestion button at the top of the Autosuggest suggestion list\n",
    "- Sends such category near category query to HERE Location Graph instead of Discover service"
   ]
  },
  {
   "cell_type": "code",
   "execution_count": null,
   "id": "3d4d496a-3bb1-41bd-919d-0021147b1b15",
   "metadata": {
    "tags": []
   },
   "outputs": [],
   "source": [
    "from search.user import permissive\n",
    "from search.widgets import OneBoxCatNearCat\n",
    "\n",
    "OneBoxCatNearCat(permissive).run()"
   ]
  }
 ],
 "metadata": {
  "celltoolbar": "Slideshow",
  "kernelspec": {
   "display_name": "demo search",
   "language": "python",
   "name": "search_notebook"
  },
  "language_info": {
   "codemirror_mode": {
    "name": "ipython",
    "version": 3
   },
   "file_extension": ".py",
   "mimetype": "text/x-python",
   "name": "python",
   "nbconvert_exporter": "python",
   "pygments_lexer": "ipython3",
   "version": "3.9.10"
  }
 },
 "nbformat": 4,
 "nbformat_minor": 5
}
