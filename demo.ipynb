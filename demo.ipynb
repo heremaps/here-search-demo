{
 "cells": [
  {
   "cell_type": "code",
   "execution_count": 5,
   "id": "c5b563f2-29bf-4d22-8bbe-69cd711740f5",
   "metadata": {},
   "outputs": [
    {
     "data": {
      "application/vnd.jupyter.widget-view+json": {
       "model_id": "b9836288852444039d9c3b7822f92b62",
       "version_major": 2,
       "version_minor": 0
      },
      "text/plain": [
       "HBox(children=(Map(api_key='tIEID-Z-ogljOD83iQO6JiHbGtn9lyFmt0srqjIRtao', basemap=TileLayer(provider=MapTile(f…"
      ]
     },
     "metadata": {},
     "output_type": "display_data"
    }
   ],
   "source": [
    "from helpers import onebox\n",
    "onebox(language='en', latitude=40.71455, longitude=-74.00714)"
   ]
  },
  {
   "cell_type": "code",
   "execution_count": null,
   "id": "ea0592ca-5047-4e28-9f72-695529f2c3b1",
   "metadata": {},
   "outputs": [],
   "source": []
  }
 ],
 "metadata": {
  "kernelspec": {
   "display_name": "pyenv (venv3.9)",
   "language": "python",
   "name": "venv3.9"
  },
  "language_info": {
   "codemirror_mode": {
    "name": "ipython",
    "version": 3
   },
   "file_extension": ".py",
   "mimetype": "text/x-python",
   "name": "python",
   "nbconvert_exporter": "python",
   "pygments_lexer": "ipython3",
   "version": "3.9.7"
  }
 },
 "nbformat": 4,
 "nbformat_minor": 5
}
