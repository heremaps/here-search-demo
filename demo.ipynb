{
 "cells": [
  {
   "cell_type": "markdown",
   "id": "90fe7612-850e-4781-a7d1-f9a8d25a770d",
   "metadata": {
    "slideshow": {
     "slide_type": "slide"
    },
    "tags": []
   },
   "source": [
    "# OneBoxMap helper\n",
    "\n",
    "**Results limits:**\n",
    "```\n",
    "OneBoxMap.default_terms_limit = 3\n",
    "OneBoxMap.default_results_limit = 10\n",
    "OneBoxMap.default_suggestions_limit = 5\n",
    "```"
   ]
  },
  {
   "cell_type": "code",
   "execution_count": null,
   "id": "e647b05d",
   "metadata": {
    "slideshow": {
     "slide_type": "-"
    }
   },
   "outputs": [],
   "source": [
    "from search.user import permissive\n",
    "from search.widgets import OneBoxMap\n",
    "\n",
    "OneBoxMap(permissive).run()"
   ]
  },
  {
   "cell_type": "markdown",
   "id": "57fe2ce4-e7f3-457f-944e-5dc120e68e5b",
   "metadata": {
    "slideshow": {
     "slide_type": "slide"
    },
    "tags": []
   },
   "source": [
    "## User profile\n",
    "\n",
    "Supports: \n",
    "\n",
    "- mandatory opt-in/out decision for position use and activity storing\n",
    "- default position is that of IP if position use is opted-in\n",
    "- default position is Berlin otherwise\n",
    "- per country languages\n",
    "- default language is that of the IP position locale if position use is opted-in\n",
    "\n",
    "`permissive` default user profile has both `use_my_position` and `store_my_activity` set to `True`\n",
    "\n",
    "## Application designs\n",
    "\n",
    "`Design.one` and `SearchResultJson`"
   ]
  },
  {
   "cell_type": "code",
   "execution_count": 1,
   "id": "a59dacb1-da0a-40ba-a8d0-736738c62333",
   "metadata": {
    "slideshow": {
     "slide_type": "-"
    }
   },
   "outputs": [
    {
     "data": {
      "application/vnd.jupyter.widget-view+json": {
       "model_id": "ddab236ef9924ecea27611d40d168202",
       "version_major": 2,
       "version_minor": 0
      },
      "text/plain": [
       "HTML(value='<style>.term-button button { font-size: 10px; }</style>')"
      ]
     },
     "metadata": {},
     "output_type": "display_data"
    },
    {
     "data": {
      "application/vnd.jupyter.widget-view+json": {
       "model_id": "300c416829244a56926e9af89837ce6a",
       "version_major": 2,
       "version_minor": 0
      },
      "text/plain": [
       "HBox(children=(PositionMap(api_key='tIEID-Z-ogljOD83iQO6JiHbGtn9lyFmt0srqjIRtao', basemap=TileLayer(provider=M…"
      ]
     },
     "metadata": {},
     "output_type": "display_data"
    }
   ],
   "source": [
    "from search.user import UserProfile\n",
    "from search.widgets import OneBoxMap, Design, SearchResultJson\n",
    "\n",
    "user_profile = UserProfile(name=\"Emmanuel\",\n",
    "                           languages = {\"DEU\": \"de\", \"AUT\": \"de\", \"FRA\": \"fr\", \"all\": \"en\"},\n",
    "                           use_my_position=True, \n",
    "                           store_my_activity=True)\n",
    "\n",
    "app = OneBoxMap(\n",
    "    user_profile=user_profile,\n",
    "    design=Design.one, \n",
    "    resultlist_class=SearchResultJson)\n",
    "\n",
    "app.run()"
   ]
  },
  {
   "cell_type": "markdown",
   "id": "97296c8b-eda6-4386-a430-8a74a14e3d2b",
   "metadata": {},
   "source": [
    "## OneBoxMap specialization\n",
    "\n",
    "`OneBoxCatNearCat` class is a client-side tweak:\n",
    "- captures queries following the format _head nearby_conjunction tail_\n",
    "- supports various languages and multiple nearby conjunction by language (\"near\", \"close to\", ...)\n",
    "- uses Autosuggest service to check if _head_ and _tail_ are both about place categories\n",
    "- Adds a category near category query suggestion button at the top of the Autosuggest suggestion list\n",
    "- Sends such category near category query to HERE Location Graph instead of Discover service"
   ]
  },
  {
   "cell_type": "code",
   "execution_count": null,
   "id": "3d4d496a-3bb1-41bd-919d-0021147b1b15",
   "metadata": {
    "tags": []
   },
   "outputs": [],
   "source": [
    "from search.user import permissive\n",
    "from search.widgets import OneBoxCatNearCat\n",
    "\n",
    "OneBoxCatNearCat(permissive).run()"
   ]
  }
 ],
 "metadata": {
  "celltoolbar": "Slideshow",
  "kernelspec": {
   "display_name": "demo search",
   "language": "python",
   "name": "search_notebook"
  },
  "language_info": {
   "codemirror_mode": {
    "name": "ipython",
    "version": 3
   },
   "file_extension": ".py",
   "mimetype": "text/x-python",
   "name": "python",
   "nbconvert_exporter": "python",
   "pygments_lexer": "ipython3",
   "version": "3.9.10"
  }
 },
 "nbformat": 4,
 "nbformat_minor": 5
}
