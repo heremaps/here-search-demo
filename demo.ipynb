{
 "cells": [
  {
   "cell_type": "markdown",
   "id": "90fe7612-850e-4781-a7d1-f9a8d25a770d",
   "metadata": {
    "slideshow": {
     "slide_type": "slide"
    },
    "tags": []
   },
   "source": [
    "# Onebox helper\n",
    "\n",
    "**Usage profile:**\n",
    "- start search center\n",
    "- preferred user language\n",
    "\n",
    "**Results limits:**\n",
    "```\n",
    "OneBoxMap.default_terms_limit = 3\n",
    "OneBoxMap.default_results_limit = 10\n",
    "OneBoxMap.default_suggestions_limit = 5\n",
    "```"
   ]
  },
  {
   "cell_type": "code",
   "execution_count": null,
   "id": "e647b05d",
   "metadata": {
    "slideshow": {
     "slide_type": "-"
    }
   },
   "outputs": [],
   "source": [
    "from search.widgets import OneBoxMap, Design, SearchResultButtons\n",
    "\n",
    "app = OneBoxMap(language='en', latitude=40.71455, longitude=-74.00714, \n",
    "          design=Design.three, \n",
    "          resultlist_class=SearchResultButtons)\n",
    "app.run()"
   ]
  },
  {
   "cell_type": "markdown",
   "id": "57fe2ce4-e7f3-457f-944e-5dc120e68e5b",
   "metadata": {
    "slideshow": {
     "slide_type": "slide"
    },
    "tags": []
   },
   "source": [
    "## Various designs\n",
    "\n",
    "`Design.two` and `SearchResultJson`"
   ]
  },
  {
   "cell_type": "code",
   "execution_count": null,
   "id": "a59dacb1-da0a-40ba-a8d0-736738c62333",
   "metadata": {
    "slideshow": {
     "slide_type": "-"
    }
   },
   "outputs": [],
   "source": [
    "from search.widgets import SearchResultJson\n",
    "\n",
    "app = OneBoxMap(language='en', latitude=40.71455, longitude=-74.00714, \n",
    "          design=Design.one, \n",
    "          resultlist_class=SearchResultJson)\n",
    "app.run()"
   ]
  },
  {
   "cell_type": "markdown",
   "id": "97296c8b-eda6-4386-a430-8a74a14e3d2b",
   "metadata": {},
   "source": [
    "## Adapt query parser\n",
    "\n",
    "`OneBoxExt` and category near category"
   ]
  },
  {
   "cell_type": "code",
   "execution_count": null,
   "id": "3d4d496a-3bb1-41bd-919d-0021147b1b15",
   "metadata": {
    "tags": []
   },
   "outputs": [],
   "source": [
    "from search.widgets import OneBoxExt\n",
    "\n",
    "app = OneBoxExt(language='en', latitude=40.71455, longitude=-74.00714, \n",
    "          design=Design.three, \n",
    "          resultlist_class=SearchResultButtons)\n",
    "app.run()"
   ]
  }
 ],
 "metadata": {
  "celltoolbar": "Slideshow",
  "kernelspec": {
   "display_name": "demo search",
   "language": "python",
   "name": "search_notebook"
  },
  "language_info": {
   "codemirror_mode": {
    "name": "ipython",
    "version": 3
   },
   "file_extension": ".py",
   "mimetype": "text/x-python",
   "name": "python",
   "nbconvert_exporter": "python",
   "pygments_lexer": "ipython3",
   "version": "3.9.10"
  }
 },
 "nbformat": 4,
 "nbformat_minor": 5
}
