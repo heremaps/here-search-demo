{
 "cells": [
  {
   "cell_type": "markdown",
   "id": "90fe7612-850e-4781-a7d1-f9a8d25a770d",
   "metadata": {
    "slideshow": {
     "slide_type": "slide"
    },
    "tags": []
   },
   "source": [
    "# Onebox helper\n",
    "\n",
    "**User profile:**\n",
    "- start search center\n",
    "- preferred user language\n",
    "- defaults: local ip related\n",
    "\n",
    "**Results limits:**\n",
    "```\n",
    "OneBoxMap.default_terms_limit = 3\n",
    "OneBoxMap.default_results_limit = 10\n",
    "OneBoxMap.default_suggestions_limit = 5\n",
    "```"
   ]
  },
  {
   "cell_type": "code",
   "execution_count": null,
   "id": "e647b05d",
   "metadata": {
    "slideshow": {
     "slide_type": "-"
    }
   },
   "outputs": [],
   "source": [
    "from search.widgets import OneBoxMap\n",
    "\n",
    "OneBoxMap().run()"
   ]
  },
  {
   "cell_type": "markdown",
   "id": "57fe2ce4-e7f3-457f-944e-5dc120e68e5b",
   "metadata": {
    "slideshow": {
     "slide_type": "slide"
    },
    "tags": []
   },
   "source": [
    "## Various designs\n",
    "\n",
    "`Design.two` and `SearchResultJson`"
   ]
  },
  {
   "cell_type": "code",
   "execution_count": null,
   "id": "a59dacb1-da0a-40ba-a8d0-736738c62333",
   "metadata": {
    "slideshow": {
     "slide_type": "-"
    }
   },
   "outputs": [],
   "source": [
    "from search.widgets import Design, SearchResultJson\n",
    "\n",
    "app = OneBoxMap(\n",
    "    language='en', \n",
    "    latitude=40.71455, longitude=-74.00714, \n",
    "    design=Design.one, \n",
    "    resultlist_class=SearchResultJson)\n",
    "app.run()"
   ]
  },
  {
   "cell_type": "markdown",
   "id": "97296c8b-eda6-4386-a430-8a74a14e3d2b",
   "metadata": {},
   "source": [
    "## Adapt query parser\n",
    "\n",
    "`OneBoxExt` and category near category"
   ]
  },
  {
   "cell_type": "code",
   "execution_count": null,
   "id": "3d4d496a-3bb1-41bd-919d-0021147b1b15",
   "metadata": {
    "tags": []
   },
   "outputs": [],
   "source": [
    "from search.widgets import OneBoxExt\n",
    "\n",
    "OneBoxExt().run()"
   ]
  },
  {
   "cell_type": "code",
   "execution_count": null,
   "id": "996f69dd-dde3-4bc6-b7c5-fc7a11d1881c",
   "metadata": {},
   "outputs": [],
   "source": [
    "from search.widgets import OneBoxMap\n",
    "from IPython.display import display as Idisplay\n",
    "from ipywidgets import Output\n",
    "from aiohttp import ClientSession\n",
    "import nest_asyncio\n",
    "\n",
    "from search.core import OneBoxBase\n",
    "from search.widgets.query import SubmittableTextBox, TermsButtons, QuerySimpleParser\n",
    "from search.widgets.response import SearchFeatureCollection, SearchResultButtons, PositionMap, SearchResultJson, SearchResultRadioButtons\n",
    "from search.widgets.design import Design\n",
    "\n",
    "from typing import Callable, ClassVar, Tuple\n",
    "import asyncio\n",
    "\n",
    "class OneBoxExt(OneBoxMap):\n",
    "    default_autosuggest_query_params = {'show': 'ontologyDetails,expandedOntologies'}\n",
    "\n",
    "    def __init__(self,\n",
    "                 language: str=None,\n",
    "                 latitude: float=None, longitude: float=None,\n",
    "                 api_key: str=None,\n",
    "                 results_limit: int=None,\n",
    "                 suggestions_limit: int=None,\n",
    "                 terms_limit: int=None,\n",
    "                 design: Callable=None,\n",
    "                 resultlist_class: ClassVar=None,\n",
    "                 autosuggest_automatic_recenter: bool=False,\n",
    "                 **kwargs):\n",
    "\n",
    "        super().__init__(language, latitude, longitude, api_key,\n",
    "                         results_limit, suggestions_limit, terms_limit,\n",
    "                         design, resultlist_class, autosuggest_automatic_recenter, **kwargs)\n",
    "        self.find_ontology = None\n",
    "        self.find_query = None\n",
    "        self.near_ontology = None\n",
    "        self.near_query = None\n",
    "\n",
    "    async def handle_key_strokes(self):\n",
    "        \"\"\"\n",
    "        This method is called for each key stroke in the one box search Text form.\n",
    "        \"\"\"\n",
    "        params = {\"show\": 'details,expandedOntologies', \"types\": \"categoryQuery,chainQuery,place,city,country\"}\n",
    "        out = Output()\n",
    "        async with ClientSession(raise_for_status=True, headers=OneBoxMap.default_headers) as session:\n",
    "            while True:\n",
    "                q = await self.wait_for_new_key_stroke()\n",
    "                if q is None:\n",
    "                    break\n",
    "                if q:\n",
    "\n",
    "                    latitude, longitude = self.get_search_center()\n",
    "                    autosuggest_resp = None\n",
    "                    conjunction, conjunction_mode, query_with_conjunction_head, query_with_conjunction_tail = QuerySimpleParser(q).get_conjunction_mode(self.language)\n",
    "                    print(conjunction_mode)\n",
    "                    if conjunction_mode == QuerySimpleParser.ConjunctionMode.incomplete_conjunction:\n",
    "                        #self.find_query = query_with_conjunction_head\n",
    "                        find_resp = await asyncio.ensure_future(self.autosuggest(session, query_with_conjunction_head, latitude, longitude, **self.autosuggest_query_params))\n",
    "                        if len(find_resp[\"items\"]) > 0 and find_resp[\"items\"][0][\"resultType\"] == \"categoryQuery\" and \"relationship\" not in find_resp[\"items\"][0]:\n",
    "                            self.find_query = query_with_conjunction_head\n",
    "                            self.find_ontology = autosuggest_resp[\"items\"][0]\n",
    "                            print(self.find_ontology[\"title\"])\n",
    "                        else:\n",
    "                            self.find_query = None\n",
    "                            self.find_ontology = None\n",
    "                        self.near_query = None\n",
    "                        self.near_ontology = None\n",
    "                        autosuggest_resp[\"queryTerms\"] = ([{\"term\": conjunction}] + autosuggest_resp[\"queryTerms\"])[:OneBoxMap.default_terms_limit]\n",
    "                    elif conjunction_mode == QuerySimpleParser.ConjunctionMode.conjunction_surrounded:\n",
    "                        if self.find_query is None:\n",
    "                            find_resp = await asyncio.ensure_future(self.autosuggest(session, query_with_conjunction_head, latitude, longitude, **params))\n",
    "                            if len(find_resp[\"items\"]) > 0 and find_resp[\"items\"][0][\"resultType\"] == \"categoryQuery\" and \"relationship\" not in find_resp[\"items\"][0]:\n",
    "                                self.find_query = query_with_conjunction_head\n",
    "                                self.find_ontology = find_resp[\"items\"][0]\n",
    "                                print(self.find_ontology[\"title\"])\n",
    "                            else:\n",
    "                                self.find_query = None\n",
    "                                self.find_ontology = None\n",
    "\n",
    "                        if self.find_ontology:\n",
    "                            near_resp = await asyncio.ensure_future(self.autosuggest(session, query_with_conjunction_tail, latitude, longitude, **params))\n",
    "                            if len(near_resp[\"items\"]) > 0 and near_resp[\"items\"][0][\"resultType\"] == \"categoryQuery\" and \"relationship\" not in near_resp[\"items\"][0]:\n",
    "                                self.near_query = query_with_conjunction_tail\n",
    "                                self.near_ontology = near_resp[\"items\"][0]\n",
    "                                # Replace the query below with the calls to Location Graph\n",
    "                                autosuggest_resp = await asyncio.ensure_future(self.autosuggest(session, q, latitude, longitude, **self.autosuggest_query_params))\n",
    "                                autosuggest_resp[\"items\"] = ([{\"title\": f\"{self.find_ontology['title']} {conjunction} {near_resp['items'][0]['title']}\",\n",
    "                                                               \"id\": f\"{self.find_ontology['id']}:near:{self.near_ontology['id']}\",\n",
    "                                                               \"resultType\": \"categoryQuery\",\n",
    "                                                               \"href\": f\"{self.__class__.ds_url}?at={latitude},{longitude}&lang={self.language}&q={q}\",\n",
    "                                                               \"highlights\": {}}] + autosuggest_resp[\"items\"])[:OneBoxMap.default_results_limit]\n",
    "                            else:\n",
    "                                autosuggest_resp = await asyncio.ensure_future(self.autosuggest(session, q, latitude, longitude, **self.autosuggest_query_params))\n",
    "                            if near_resp[\"queryTerms\"]:\n",
    "                                autosuggest_resp[\"queryTerms\"] = ([{\"term\": near_resp[\"queryTerms\"][0][\"term\"]}] + autosuggest_resp[\"queryTerms\"])[:OneBoxMap.default_terms_limit]\n",
    "                    elif conjunction_mode != QuerySimpleParser.ConjunctionMode.conjunction_spaces_last and q.endswith(' ') and self.find_ontology:\n",
    "                        autosuggest_resp = await asyncio.ensure_future(self.autosuggest(session, q, latitude, longitude, **self.autosuggest_query_params))\n",
    "                        if len(autosuggest_resp[\"items\"]) > 0 and autosuggest_resp[\"items\"][0][\"resultType\"] == \"categoryQuery\" and \"relationship\" not in autosuggest_resp[\"items\"][0]:\n",
    "                            self.find_query = q\n",
    "                            self.find_ontology = autosuggest_resp[\"items\"][0]\n",
    "                            print(self.find_ontology[\"title\"])\n",
    "                        else:\n",
    "                            self.find_query = None\n",
    "                            self.find_ontology = None\n",
    "                        self.near_query = None\n",
    "                        self.near_ontology = None\n",
    "                        autosuggest_resp[\"queryTerms\"] = [{\"term\": conjunction}]\n",
    "                        autosuggest_resp = await asyncio.ensure_future(self.autosuggest(session, q, latitude, longitude, **self.autosuggest_query_params))\n",
    "                        if len(autosuggest_resp[\"items\"]) > 0 and autosuggest_resp[\"items\"][0][\"resultType\"] == \"categoryQuery\" and \"relationship\" not in autosuggest_resp[\"items\"][0]:\n",
    "                            self.find_query = q\n",
    "                            self.find_ontology = autosuggest_resp[\"items\"][0]\n",
    "                            print(self.find_ontology[\"title\"])\n",
    "                        else:\n",
    "                            self.find_query = q\n",
    "                            self.find_ontology = None\n",
    "                        self.near_query = None\n",
    "                        self.near_ontology = None\n",
    "\n",
    "                    if autosuggest_resp is None:\n",
    "                        autosuggest_resp = await asyncio.ensure_future(self.autosuggest(session, q, latitude, longitude, **self.autosuggest_query_params))\n",
    "                        if len(autosuggest_resp[\"items\"]) > 0 and autosuggest_resp[\"items\"][0][\"resultType\"] == \"categoryQuery\" and \"relationship\" not in autosuggest_resp[\"items\"][0]:\n",
    "                            self.find_query = q\n",
    "                            self.find_ontology = autosuggest_resp[\"items\"][0]\n",
    "                            print(self.find_ontology[\"title\"])\n",
    "                        else:\n",
    "                            self.find_query = q\n",
    "                            self.find_ontology = None\n",
    "                            \n",
    "                    self.handle_suggestion_list(autosuggest_resp)\n",
    "                    if self.text.value.strip().endswith(conjunction):\n",
    "                        self.query_terms_w.set([])\n",
    "\n",
    "                else:\n",
    "                    self.handle_empty_text_submission()\n",
    "\n",
    "    def run(self):\n",
    "        OneBoxMap.run(self, handle_key_strokes=self.handle_key_strokes)\n",
    "        \n",
    "OneBoxExt().run()"
   ]
  },
  {
   "cell_type": "code",
   "execution_count": null,
   "id": "99147a76-55c5-40ba-a02b-47b30b689a70",
   "metadata": {},
   "outputs": [],
   "source": []
  }
 ],
 "metadata": {
  "celltoolbar": "Slideshow",
  "kernelspec": {
   "display_name": "demo search",
   "language": "python",
   "name": "search_notebook"
  },
  "language_info": {
   "codemirror_mode": {
    "name": "ipython",
    "version": 3
   },
   "file_extension": ".py",
   "mimetype": "text/x-python",
   "name": "python",
   "nbconvert_exporter": "python",
   "pygments_lexer": "ipython3",
   "version": "3.9.10"
  }
 },
 "nbformat": 4,
 "nbformat_minor": 5
}
