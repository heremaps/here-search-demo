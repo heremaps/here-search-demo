{
 "cells": [
  {
   "cell_type": "markdown",
   "id": "90fe7612-850e-4781-a7d1-f9a8d25a770d",
   "metadata": {
    "slideshow": {
     "slide_type": "slide"
    },
    "tags": []
   },
   "source": [
    "# Onebox helper\n",
    "\n",
    "**Usage profile:**\n",
    "- start search center\n",
    "- preferred user language\n",
    "\n",
    "**Results limits:**\n",
    "```\n",
    "OneBoxMap.default_terms_limit = 3\n",
    "OneBoxMap.default_results_limit = 20\n",
    "OneBoxMap.default_suggestions_limit = 5\n",
    "```"
   ]
  },
  {
   "cell_type": "code",
   "execution_count": null,
   "id": "e647b05d",
   "metadata": {
    "slideshow": {
     "slide_type": "-"
    }
   },
   "outputs": [],
   "source": [
    "from search.widgets import OneBoxMap, Design\n",
    "OneBoxMap(language='en', latitude=40.71455, longitude=-74.00714, design=Design.three, output_format='text').run()"
   ]
  },
  {
   "cell_type": "markdown",
   "id": "57fe2ce4-e7f3-457f-944e-5dc120e68e5b",
   "metadata": {
    "slideshow": {
     "slide_type": "slide"
    },
    "tags": []
   },
   "source": [
    "# Json with Map\n",
    "\n",
    "`Design.two`"
   ]
  },
  {
   "cell_type": "code",
   "execution_count": null,
   "id": "a59dacb1-da0a-40ba-a8d0-736738c62333",
   "metadata": {
    "slideshow": {
     "slide_type": "-"
    }
   },
   "outputs": [],
   "source": [
    "OneBoxMap(language='en', latitude=40.71455, longitude=-74.00714, design=Design.two, output_format='json').run()"
   ]
  },
  {
   "cell_type": "code",
   "execution_count": null,
   "id": "5110fafd-6817-4d63-8622-fe86e7a5211e",
   "metadata": {},
   "outputs": [],
   "source": []
  }
 ],
 "metadata": {
  "celltoolbar": "Slideshow",
  "kernelspec": {
   "display_name": "demo search",
   "language": "python",
   "name": "search_notebook"
  },
  "language_info": {
   "codemirror_mode": {
    "name": "ipython",
    "version": 3
   },
   "file_extension": ".py",
   "mimetype": "text/x-python",
   "name": "python",
   "nbconvert_exporter": "python",
   "pygments_lexer": "ipython3",
   "version": "3.9.10"
  }
 },
 "nbformat": 4,
 "nbformat_minor": 5
}
